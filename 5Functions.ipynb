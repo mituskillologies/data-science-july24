{
 "cells": [
  {
   "cell_type": "markdown",
   "id": "a0409004-1aa7-40e0-965c-278d7e5a019c",
   "metadata": {},
   "source": [
    "##### Basic Function"
   ]
  },
  {
   "cell_type": "code",
   "execution_count": 2,
   "id": "8e765dd7-2251-4187-a1f6-fd2f38ea94e4",
   "metadata": {},
   "outputs": [],
   "source": [
    "# Function definition\n",
    "def show():\n",
    "    print('Hello World')"
   ]
  },
  {
   "cell_type": "code",
   "execution_count": 3,
   "id": "051e0a49-6c72-4564-bae7-732b105de8fa",
   "metadata": {},
   "outputs": [
    {
     "name": "stdout",
     "output_type": "stream",
     "text": [
      "Hello World\n"
     ]
    }
   ],
   "source": [
    "# Function call\n",
    "show()"
   ]
  },
  {
   "cell_type": "code",
   "execution_count": 4,
   "id": "52228056-6914-4c4e-931b-46e5d2d94349",
   "metadata": {},
   "outputs": [],
   "source": [
    "# Function definition\n",
    "def show():\n",
    "    print('Hello World')\n",
    "    print('Welcome!!!')\n",
    "    print('Good Bye!')"
   ]
  },
  {
   "cell_type": "code",
   "execution_count": 5,
   "id": "7bef2260-f05f-487c-ae61-951c38273bc1",
   "metadata": {},
   "outputs": [
    {
     "name": "stdout",
     "output_type": "stream",
     "text": [
      "Hello World\n",
      "Welcome!!!\n",
      "Good Bye!\n"
     ]
    }
   ],
   "source": [
    "show()"
   ]
  },
  {
   "cell_type": "code",
   "execution_count": 6,
   "id": "bbeb394c-f581-4693-9689-0e56ac31661b",
   "metadata": {},
   "outputs": [
    {
     "name": "stdout",
     "output_type": "stream",
     "text": [
      "Hello World\n",
      "Welcome!!!\n",
      "Good Bye!\n",
      "Hello World\n",
      "Welcome!!!\n",
      "Good Bye!\n",
      "Hello World\n",
      "Welcome!!!\n",
      "Good Bye!\n"
     ]
    }
   ],
   "source": [
    "show()\n",
    "show()\n",
    "show()"
   ]
  },
  {
   "cell_type": "markdown",
   "id": "0814859e-a360-41ee-80c3-64cce0c8d124",
   "metadata": {},
   "source": [
    "##### Parameterized functions"
   ]
  },
  {
   "cell_type": "code",
   "execution_count": 9,
   "id": "7243ca92-6dbf-4590-889b-adda0de3dfa8",
   "metadata": {},
   "outputs": [],
   "source": [
    "def square(n):  # n -> parameter / argument\n",
    "    sq = n * n\n",
    "    print('Square:', sq)"
   ]
  },
  {
   "cell_type": "code",
   "execution_count": 10,
   "id": "292fcd88-a87e-4b22-b4d1-846bef91213d",
   "metadata": {},
   "outputs": [
    {
     "name": "stdout",
     "output_type": "stream",
     "text": [
      "Square: 16\n"
     ]
    }
   ],
   "source": [
    "square(4)"
   ]
  },
  {
   "cell_type": "code",
   "execution_count": 11,
   "id": "929094b8-619a-4780-b3ee-6bb15e8006a7",
   "metadata": {},
   "outputs": [
    {
     "name": "stdout",
     "output_type": "stream",
     "text": [
      "Square: 3222.8329000000003\n"
     ]
    }
   ],
   "source": [
    "square(56.77)"
   ]
  },
  {
   "cell_type": "code",
   "execution_count": 12,
   "id": "5d7ff2d9-5b11-4b94-b4f0-c97413302842",
   "metadata": {},
   "outputs": [
    {
     "ename": "TypeError",
     "evalue": "square() takes 1 positional argument but 2 were given",
     "output_type": "error",
     "traceback": [
      "\u001b[0;31m---------------------------------------------------------------------------\u001b[0m",
      "\u001b[0;31mTypeError\u001b[0m                                 Traceback (most recent call last)",
      "Cell \u001b[0;32mIn[12], line 1\u001b[0m\n\u001b[0;32m----> 1\u001b[0m \u001b[43msquare\u001b[49m\u001b[43m(\u001b[49m\u001b[38;5;241;43m67\u001b[39;49m\u001b[43m,\u001b[49m\u001b[43m \u001b[49m\u001b[38;5;241;43m7\u001b[39;49m\u001b[43m)\u001b[49m\n",
      "\u001b[0;31mTypeError\u001b[0m: square() takes 1 positional argument but 2 were given"
     ]
    }
   ],
   "source": [
    "square(67, 7)"
   ]
  },
  {
   "cell_type": "code",
   "execution_count": 13,
   "id": "17f6f913-9192-44e0-8ba9-a906bbd4359c",
   "metadata": {},
   "outputs": [],
   "source": [
    "def add(num1, num2):\n",
    "    x = num1 + num2\n",
    "    print('Addition is:',x)"
   ]
  },
  {
   "cell_type": "code",
   "execution_count": 14,
   "id": "891eecdb-4100-4b41-a80a-5da0942b55a6",
   "metadata": {},
   "outputs": [
    {
     "name": "stdout",
     "output_type": "stream",
     "text": [
      "Addition is: 113\n"
     ]
    }
   ],
   "source": [
    "add(90, 23)"
   ]
  },
  {
   "cell_type": "code",
   "execution_count": 15,
   "id": "9183b737-50cd-4948-8c5c-ebf34861c562",
   "metadata": {},
   "outputs": [
    {
     "name": "stdout",
     "output_type": "stream",
     "text": [
      "Addition is: 91.9\n"
     ]
    }
   ],
   "source": [
    "add(56.90, 35)"
   ]
  },
  {
   "cell_type": "code",
   "execution_count": 16,
   "id": "13ff0185-0ca7-49ed-821a-a150780f5bf2",
   "metadata": {},
   "outputs": [
    {
     "name": "stdout",
     "output_type": "stream",
     "text": [
      "Addition is: TusharKute\n"
     ]
    }
   ],
   "source": [
    "add('Tushar','Kute')"
   ]
  },
  {
   "cell_type": "markdown",
   "id": "46af5dff-7ba7-41d8-a33e-c9ffb7e6e331",
   "metadata": {},
   "source": [
    "##### Function Returning Values"
   ]
  },
  {
   "cell_type": "code",
   "execution_count": 18,
   "id": "43d7e962-6f7c-47ee-a9a6-3aa9f7c7c4dc",
   "metadata": {},
   "outputs": [],
   "source": [
    "def square(n):\n",
    "    sq = n * n\n",
    "    return sq"
   ]
  },
  {
   "cell_type": "code",
   "execution_count": 19,
   "id": "1882415c-63a6-46a7-b300-29a821ff6be1",
   "metadata": {},
   "outputs": [],
   "source": [
    "val = square(6)"
   ]
  },
  {
   "cell_type": "code",
   "execution_count": 20,
   "id": "e93dc9f3-d880-406a-b945-fb5252820ac3",
   "metadata": {},
   "outputs": [
    {
     "data": {
      "text/plain": [
       "36"
      ]
     },
     "execution_count": 20,
     "metadata": {},
     "output_type": "execute_result"
    }
   ],
   "source": [
    "val"
   ]
  },
  {
   "cell_type": "code",
   "execution_count": 21,
   "id": "bf2d8984-40b3-4770-bb5e-2727cd6138fd",
   "metadata": {},
   "outputs": [
    {
     "name": "stdout",
     "output_type": "stream",
     "text": [
      "Square of 6 is 36\n"
     ]
    }
   ],
   "source": [
    "print('Square of 6 is', square(6))"
   ]
  },
  {
   "cell_type": "code",
   "execution_count": 22,
   "id": "7529433d-60d4-4ae1-8722-e8686f23d1f1",
   "metadata": {},
   "outputs": [
    {
     "data": {
      "text/plain": [
       "216"
      ]
     },
     "execution_count": 22,
     "metadata": {},
     "output_type": "execute_result"
    }
   ],
   "source": [
    "square(6) * 6"
   ]
  },
  {
   "cell_type": "code",
   "execution_count": 23,
   "id": "df891623-8c85-4c11-9343-cc52b7c90992",
   "metadata": {},
   "outputs": [],
   "source": [
    "def max(x, y):\n",
    "    if x > y:\n",
    "        return x\n",
    "    else:\n",
    "        return y"
   ]
  },
  {
   "cell_type": "code",
   "execution_count": 24,
   "id": "03727a2e-55e4-4eb4-ab85-f23c1a01e5d2",
   "metadata": {},
   "outputs": [
    {
     "data": {
      "text/plain": [
       "78"
      ]
     },
     "execution_count": 24,
     "metadata": {},
     "output_type": "execute_result"
    }
   ],
   "source": [
    "max(56, 78)"
   ]
  },
  {
   "cell_type": "code",
   "execution_count": 25,
   "id": "efe64f3b-3b02-44a5-adb5-203dde2254d4",
   "metadata": {},
   "outputs": [
    {
     "data": {
      "text/plain": [
       "34.23"
      ]
     },
     "execution_count": 25,
     "metadata": {},
     "output_type": "execute_result"
    }
   ],
   "source": [
    "max(34.23, 19.30)"
   ]
  },
  {
   "cell_type": "code",
   "execution_count": 26,
   "id": "e82a8e8f-a0f9-4545-bbf1-e8372f89d657",
   "metadata": {},
   "outputs": [
    {
     "name": "stdout",
     "output_type": "stream",
     "text": [
      "Maximum value is: 89\n"
     ]
    }
   ],
   "source": [
    "print('Maximum value is:' ,max(67,89))"
   ]
  },
  {
   "cell_type": "code",
   "execution_count": 27,
   "id": "d0045f0f-8bc7-4692-8578-839551b071f0",
   "metadata": {},
   "outputs": [],
   "source": [
    "# Write a function to find factorial of the number\n",
    "def factorial(n):\n",
    "    fact = 1\n",
    "    for i in range(1,n+1):\n",
    "        fact = fact * i\n",
    "    return fact"
   ]
  },
  {
   "cell_type": "code",
   "execution_count": 28,
   "id": "c381f102-2e04-4eb9-8e1a-19b1d655882b",
   "metadata": {},
   "outputs": [
    {
     "data": {
      "text/plain": [
       "120"
      ]
     },
     "execution_count": 28,
     "metadata": {},
     "output_type": "execute_result"
    }
   ],
   "source": [
    "factorial(5)"
   ]
  },
  {
   "cell_type": "code",
   "execution_count": 29,
   "id": "e12d01a3-757a-4dd4-9885-2b9ab4b58a4c",
   "metadata": {},
   "outputs": [
    {
     "name": "stdin",
     "output_type": "stream",
     "text": [
      "Enter the number:  6\n"
     ]
    },
    {
     "name": "stdout",
     "output_type": "stream",
     "text": [
      "Factorial of 6 is: 720\n"
     ]
    }
   ],
   "source": [
    "num = int(input('Enter the number: '))\n",
    "print('Factorial of',num,'is:',factorial(num))"
   ]
  },
  {
   "cell_type": "code",
   "execution_count": 30,
   "id": "76e8e0ad-cda3-4c96-95b0-a5b87321f650",
   "metadata": {},
   "outputs": [
    {
     "data": {
      "text/plain": [
       "9.0"
      ]
     },
     "execution_count": 30,
     "metadata": {},
     "output_type": "execute_result"
    }
   ],
   "source": [
    "factorial(9) / factorial(8)"
   ]
  },
  {
   "cell_type": "markdown",
   "id": "cff985e1-94a0-4f24-87c4-e80a3638ad77",
   "metadata": {},
   "source": [
    "##### Functions returns multiple values"
   ]
  },
  {
   "cell_type": "code",
   "execution_count": 32,
   "id": "3800cc94-ae29-4769-8129-f06c6d743232",
   "metadata": {},
   "outputs": [],
   "source": [
    "def calc(num):\n",
    "    sq = num * num\n",
    "    cu = num ** 3\n",
    "    return sq, cu"
   ]
  },
  {
   "cell_type": "code",
   "execution_count": 33,
   "id": "d65a063b-4c63-4e79-bddb-a1bf7790c1c8",
   "metadata": {},
   "outputs": [
    {
     "data": {
      "text/plain": [
       "(25, 125)"
      ]
     },
     "execution_count": 33,
     "metadata": {},
     "output_type": "execute_result"
    }
   ],
   "source": [
    "calc(5)"
   ]
  },
  {
   "cell_type": "code",
   "execution_count": 34,
   "id": "0092f1dd-5ee7-4473-b75a-90ffab403c03",
   "metadata": {},
   "outputs": [
    {
     "name": "stdout",
     "output_type": "stream",
     "text": [
      "Square and Cubes: (25, 125)\n"
     ]
    }
   ],
   "source": [
    "print('Square and Cubes:', calc(5))"
   ]
  },
  {
   "cell_type": "code",
   "execution_count": 36,
   "id": "dc1285f1-ce5b-4fcb-a979-dacca325f6f8",
   "metadata": {},
   "outputs": [
    {
     "name": "stdin",
     "output_type": "stream",
     "text": [
      "Enter the number: 56\n"
     ]
    },
    {
     "name": "stdout",
     "output_type": "stream",
     "text": [
      "Number is Even!\n"
     ]
    }
   ],
   "source": [
    "def isEven(n):\n",
    "    if n % 2 == 0:\n",
    "        return True\n",
    "    else:\n",
    "        return False\n",
    "\n",
    "num = int(input('Enter the number:'))\n",
    "\n",
    "if isEven(num):\n",
    "    print('Number is Even!')\n",
    "else:\n",
    "    print('Number is Odd!')"
   ]
  },
  {
   "cell_type": "markdown",
   "id": "9b42083f-503f-484f-8e8b-95e09cae638a",
   "metadata": {},
   "source": [
    "##### Default arguments to functions"
   ]
  },
  {
   "cell_type": "code",
   "execution_count": 38,
   "id": "a13b715b-d25e-4b56-80eb-22afe43ce006",
   "metadata": {},
   "outputs": [],
   "source": [
    "def calc(x=4, y=2, z=6):\n",
    "    add = x + y + z\n",
    "    return add"
   ]
  },
  {
   "cell_type": "code",
   "execution_count": 46,
   "id": "300c9a14-9760-4d5b-bd36-3e8e3f6efb58",
   "metadata": {},
   "outputs": [
    {
     "name": "stdout",
     "output_type": "stream",
     "text": [
      "1: 16\n",
      "2: 20\n",
      "3: 14\n",
      "4: 12\n",
      "5: 15\n",
      "5: 13\n"
     ]
    }
   ],
   "source": [
    "print('1:', calc(6,8,2))\n",
    "print('2:', calc(6,8))\n",
    "print('3:', calc(6))\n",
    "print('4:', calc())\n",
    "print('5:', calc(y=5))\n",
    "print('5:', calc(y=5,z=7,x=1))"
   ]
  },
  {
   "cell_type": "code",
   "execution_count": 47,
   "id": "78a0e655-5d1a-467c-b7f4-0d21cdf8c611",
   "metadata": {},
   "outputs": [
    {
     "name": "stdout",
     "output_type": "stream",
     "text": [
      "Help on built-in function print in module builtins:\n",
      "\n",
      "print(...)\n",
      "    print(value, ..., sep=' ', end='\\n', file=sys.stdout, flush=False)\n",
      "    \n",
      "    Prints the values to a stream, or to sys.stdout by default.\n",
      "    Optional keyword arguments:\n",
      "    file:  a file-like object (stream); defaults to the current sys.stdout.\n",
      "    sep:   string inserted between values, default a space.\n",
      "    end:   string appended after the last value, default a newline.\n",
      "    flush: whether to forcibly flush the stream.\n",
      "\n"
     ]
    }
   ],
   "source": [
    "help(print)"
   ]
  },
  {
   "cell_type": "markdown",
   "id": "bf2cf8ba-053a-4f19-a8a5-cf5637f02990",
   "metadata": {},
   "source": [
    "##### Variable Arguments"
   ]
  },
  {
   "cell_type": "code",
   "execution_count": 49,
   "id": "1d59ab07-fbb1-4abc-b306-8fa1e817834a",
   "metadata": {},
   "outputs": [],
   "source": [
    "def show(*val):\n",
    "    for i in val:\n",
    "        print(i)"
   ]
  },
  {
   "cell_type": "code",
   "execution_count": 50,
   "id": "e769f81b-57df-4043-81d5-ec54c374b22d",
   "metadata": {},
   "outputs": [
    {
     "name": "stdout",
     "output_type": "stream",
     "text": [
      "4\n",
      "5\n",
      "6\n",
      "7\n"
     ]
    }
   ],
   "source": [
    "show(4,5,6,7)"
   ]
  },
  {
   "cell_type": "code",
   "execution_count": 51,
   "id": "cc342837-ef11-4771-9e7f-4c0a8e5fee29",
   "metadata": {},
   "outputs": [
    {
     "name": "stdout",
     "output_type": "stream",
     "text": [
      "40.35\n",
      "5\n",
      "6\n",
      "Pune\n",
      "True\n"
     ]
    }
   ],
   "source": [
    "show(40.35,5,6,'Pune',True)"
   ]
  },
  {
   "cell_type": "markdown",
   "id": "5793e8bb-915e-4fe5-b48d-8ea68c18f51b",
   "metadata": {},
   "source": [
    "##### lambda functions"
   ]
  },
  {
   "cell_type": "code",
   "execution_count": 53,
   "id": "6498d3b9-f832-452c-9703-131551a1fcf7",
   "metadata": {},
   "outputs": [],
   "source": [
    "square = lambda x: x ** 2"
   ]
  },
  {
   "cell_type": "code",
   "execution_count": 54,
   "id": "c0b75663-0ef1-4d90-9cc8-8766e1288f87",
   "metadata": {},
   "outputs": [
    {
     "data": {
      "text/plain": [
       "16"
      ]
     },
     "execution_count": 54,
     "metadata": {},
     "output_type": "execute_result"
    }
   ],
   "source": [
    "square(4)"
   ]
  },
  {
   "cell_type": "code",
   "execution_count": 55,
   "id": "e9063778-b67e-489d-876d-5bfa1dafe557",
   "metadata": {},
   "outputs": [],
   "source": [
    "def square(x):\n",
    "    return (x ** 2)"
   ]
  },
  {
   "cell_type": "markdown",
   "id": "f04d028c-dcc3-4ca9-92e4-4b8835452a34",
   "metadata": {},
   "source": [
    "###### Filter function"
   ]
  },
  {
   "cell_type": "code",
   "execution_count": 57,
   "id": "288dd527-bf89-471c-83ea-e7645bcde77a",
   "metadata": {},
   "outputs": [],
   "source": [
    "num = [56,34,17,59,83,27,49,35]"
   ]
  },
  {
   "cell_type": "code",
   "execution_count": 58,
   "id": "1266cfc5-76f2-404d-8959-00e3d173c243",
   "metadata": {},
   "outputs": [
    {
     "data": {
      "text/plain": [
       "[56, 59, 83]"
      ]
     },
     "execution_count": 58,
     "metadata": {},
     "output_type": "execute_result"
    }
   ],
   "source": [
    "new = filter(lambda x: x > 50, num)\n",
    "list(new)"
   ]
  },
  {
   "cell_type": "code",
   "execution_count": 59,
   "id": "b231ffbf-d7e4-4d1e-9c0e-db45227249db",
   "metadata": {},
   "outputs": [],
   "source": [
    "names = ['nagpur','nashik','pune','solapur','mumbai','kolhapur']"
   ]
  },
  {
   "cell_type": "code",
   "execution_count": 60,
   "id": "f6a6503c-60ec-494a-bbab-3205d9e0a4fa",
   "metadata": {},
   "outputs": [
    {
     "data": {
      "text/plain": [
       "['nagpur', 'solapur', 'kolhapur']"
      ]
     },
     "execution_count": 60,
     "metadata": {},
     "output_type": "execute_result"
    }
   ],
   "source": [
    "new = filter(lambda x: x.endswith('pur'), names)\n",
    "list(new)"
   ]
  },
  {
   "cell_type": "markdown",
   "id": "bf36c4e0-c104-4d00-9f2a-bb2bf77c8d5c",
   "metadata": {},
   "source": [
    "###### map function"
   ]
  },
  {
   "cell_type": "code",
   "execution_count": 62,
   "id": "16f755de-9005-4127-8a0d-40215c926f7f",
   "metadata": {},
   "outputs": [
    {
     "data": {
      "text/plain": [
       "[28.0, 17.0, 8.5, 29.5, 41.5, 13.5, 24.5, 17.5]"
      ]
     },
     "execution_count": 62,
     "metadata": {},
     "output_type": "execute_result"
    }
   ],
   "source": [
    "new = map(lambda x: x / 2, num)\n",
    "list(new)"
   ]
  },
  {
   "cell_type": "code",
   "execution_count": 63,
   "id": "5ab5acb3-eb58-49b0-bc41-9027887162b1",
   "metadata": {},
   "outputs": [
    {
     "data": {
      "text/plain": [
       "[3136, 1156, 289, 3481, 6889, 729, 2401, 1225]"
      ]
     },
     "execution_count": 63,
     "metadata": {},
     "output_type": "execute_result"
    }
   ],
   "source": [
    "new = map(lambda x: x ** 2, num)\n",
    "list(new)"
   ]
  },
  {
   "cell_type": "code",
   "execution_count": 64,
   "id": "79495e77-a5dd-4afd-978f-a30d4de42ad1",
   "metadata": {},
   "outputs": [],
   "source": [
    "# Excercise:\n",
    "# Write a function which prints values from n1 to n2"
   ]
  },
  {
   "cell_type": "code",
   "execution_count": 65,
   "id": "03991993-32d4-4f6d-be77-869356ef3acb",
   "metadata": {},
   "outputs": [],
   "source": [
    "def display(n1, n2):\n",
    "    for i in range(n1, n2+1):\n",
    "        print(i)"
   ]
  },
  {
   "cell_type": "code",
   "execution_count": 66,
   "id": "020b897f-21a5-40e9-bab7-296d300a2af7",
   "metadata": {},
   "outputs": [
    {
     "name": "stdout",
     "output_type": "stream",
     "text": [
      "5\n",
      "6\n",
      "7\n",
      "8\n",
      "9\n",
      "10\n"
     ]
    }
   ],
   "source": [
    "display(5,10)"
   ]
  },
  {
   "cell_type": "code",
   "execution_count": null,
   "id": "5302e5fc-acc8-4f94-8658-d2020d15919a",
   "metadata": {},
   "outputs": [],
   "source": []
  }
 ],
 "metadata": {
  "kernelspec": {
   "display_name": "Python 3 (ipykernel)",
   "language": "python",
   "name": "python3"
  },
  "language_info": {
   "codemirror_mode": {
    "name": "ipython",
    "version": 3
   },
   "file_extension": ".py",
   "mimetype": "text/x-python",
   "name": "python",
   "nbconvert_exporter": "python",
   "pygments_lexer": "ipython3",
   "version": "3.10.12"
  }
 },
 "nbformat": 4,
 "nbformat_minor": 5
}
