{
 "cells": [
  {
   "cell_type": "code",
   "execution_count": 5,
   "id": "be0b660b-4054-4c45-8b14-5a168d18c694",
   "metadata": {},
   "outputs": [
    {
     "name": "stdout",
     "output_type": "stream",
     "text": [
      "Hello World\n"
     ]
    }
   ],
   "source": [
    "print(\"Hello World\")"
   ]
  },
  {
   "cell_type": "code",
   "execution_count": 7,
   "id": "e856135d-1092-44bd-9fec-f65df439466c",
   "metadata": {},
   "outputs": [],
   "source": [
    "num = 15"
   ]
  },
  {
   "cell_type": "code",
   "execution_count": 15,
   "id": "94d8e998-188d-4951-98e3-678008ac48ee",
   "metadata": {},
   "outputs": [
    {
     "name": "stdout",
     "output_type": "stream",
     "text": [
      "15\n"
     ]
    }
   ],
   "source": [
    "print(num)"
   ]
  },
  {
   "cell_type": "code",
   "execution_count": 17,
   "id": "ea26cb21-68bc-471e-bf7d-fc140b0f6af8",
   "metadata": {},
   "outputs": [],
   "source": [
    "num1 = 'Aditya'"
   ]
  },
  {
   "cell_type": "code",
   "execution_count": 19,
   "id": "64e19306-6ca5-46d2-836a-294fb539bfa8",
   "metadata": {},
   "outputs": [
    {
     "name": "stdout",
     "output_type": "stream",
     "text": [
      "Aditya\n"
     ]
    }
   ],
   "source": [
    "print(num1)"
   ]
  },
  {
   "cell_type": "code",
   "execution_count": 23,
   "id": "042f1755-e4ad-4846-867c-444eee48d962",
   "metadata": {},
   "outputs": [],
   "source": [
    "rate_of_interest = 50"
   ]
  },
  {
   "cell_type": "code",
   "execution_count": 25,
   "id": "2176f22d-f9e2-41ee-8681-0e058562d530",
   "metadata": {},
   "outputs": [
    {
     "name": "stdout",
     "output_type": "stream",
     "text": [
      "50\n"
     ]
    }
   ],
   "source": [
    "print(rate_of_interest)"
   ]
  },
  {
   "cell_type": "code",
   "execution_count": 27,
   "id": "2b120b07-5f11-4dd3-b6e8-d2f59649df02",
   "metadata": {},
   "outputs": [],
   "source": [
    "num2 = 'Adi123'"
   ]
  },
  {
   "cell_type": "code",
   "execution_count": 29,
   "id": "b3d529d0-02d3-4e95-bb36-7074b80a0879",
   "metadata": {},
   "outputs": [
    {
     "data": {
      "text/plain": [
       "'Adi123'"
      ]
     },
     "execution_count": 29,
     "metadata": {},
     "output_type": "execute_result"
    }
   ],
   "source": [
    "num2"
   ]
  },
  {
   "cell_type": "code",
   "execution_count": 31,
   "id": "bcad2332-542a-4788-81b5-3f78b2b66abf",
   "metadata": {},
   "outputs": [
    {
     "ename": "SyntaxError",
     "evalue": "invalid syntax (1315289915.py, line 3)",
     "output_type": "error",
     "traceback": [
      "\u001b[0;36m  Cell \u001b[0;32mIn[31], line 3\u001b[0;36m\u001b[0m\n\u001b[0;31m    def = 1\u001b[0m\n\u001b[0m        ^\u001b[0m\n\u001b[0;31mSyntaxError\u001b[0m\u001b[0;31m:\u001b[0m invalid syntax\n"
     ]
    }
   ],
   "source": [
    "# keyword\n",
    "\n",
    "def = 1"
   ]
  },
  {
   "cell_type": "code",
   "execution_count": 33,
   "id": "42785f58-aba8-4269-b5d6-85af762ad547",
   "metadata": {},
   "outputs": [
    {
     "data": {
      "text/plain": [
       "15"
      ]
     },
     "execution_count": 33,
     "metadata": {},
     "output_type": "execute_result"
    }
   ],
   "source": [
    "num"
   ]
  },
  {
   "cell_type": "code",
   "execution_count": 35,
   "id": "f3f0f5e5-b4dd-4c73-97a0-904cce33edbb",
   "metadata": {},
   "outputs": [
    {
     "data": {
      "text/plain": [
       "int"
      ]
     },
     "execution_count": 35,
     "metadata": {},
     "output_type": "execute_result"
    }
   ],
   "source": [
    "type(num)"
   ]
  },
  {
   "cell_type": "code",
   "execution_count": 37,
   "id": "f96ab46e-8e0e-4309-8a9e-78f38bde289d",
   "metadata": {},
   "outputs": [],
   "source": [
    "num1 = 'Aditya'"
   ]
  },
  {
   "cell_type": "code",
   "execution_count": 39,
   "id": "78dfc7de-ebbb-4705-8d51-0d82ca33116b",
   "metadata": {},
   "outputs": [
    {
     "data": {
      "text/plain": [
       "str"
      ]
     },
     "execution_count": 39,
     "metadata": {},
     "output_type": "execute_result"
    }
   ],
   "source": [
    "type(num1)"
   ]
  },
  {
   "cell_type": "code",
   "execution_count": 41,
   "id": "595973e7-624d-450a-a3ed-5088c2b12a62",
   "metadata": {},
   "outputs": [],
   "source": [
    "num2 = 44.56"
   ]
  },
  {
   "cell_type": "code",
   "execution_count": 43,
   "id": "c053d05e-9c80-40fb-9188-f9a485470e5a",
   "metadata": {},
   "outputs": [
    {
     "data": {
      "text/plain": [
       "float"
      ]
     },
     "execution_count": 43,
     "metadata": {},
     "output_type": "execute_result"
    }
   ],
   "source": [
    "type(num2)"
   ]
  },
  {
   "cell_type": "code",
   "execution_count": 45,
   "id": "2fd8a192-2924-4cdf-b4da-21801be63e7a",
   "metadata": {},
   "outputs": [
    {
     "data": {
      "text/plain": [
       "150"
      ]
     },
     "execution_count": 45,
     "metadata": {},
     "output_type": "execute_result"
    }
   ],
   "source": [
    "num * 10"
   ]
  },
  {
   "cell_type": "code",
   "execution_count": 47,
   "id": "4d127842-b7f7-4c12-9f12-733f9d3842f3",
   "metadata": {},
   "outputs": [],
   "source": [
    "result = num * 10"
   ]
  },
  {
   "cell_type": "code",
   "execution_count": 51,
   "id": "746126c5-87c6-4730-8089-dbe95da4e447",
   "metadata": {},
   "outputs": [
    {
     "name": "stdout",
     "output_type": "stream",
     "text": [
      "150\n"
     ]
    }
   ],
   "source": [
    "print(result)"
   ]
  },
  {
   "cell_type": "code",
   "execution_count": 53,
   "id": "282a12de-c23c-4405-ae76-2db8bafe1867",
   "metadata": {},
   "outputs": [],
   "source": [
    "num1 = 3184864859832"
   ]
  },
  {
   "cell_type": "code",
   "execution_count": 55,
   "id": "22838240-275d-4763-93e3-c78255545201",
   "metadata": {},
   "outputs": [
    {
     "data": {
      "text/plain": [
       "75891671292258016580344027817836090814387737780242783648092795007171660771767425356105842979580402445518445689247581135177584294777946939677432353248562720232546905450752967279602860688478414155073639911725123077259006009612653305167506972630748853563681097962367664222995527684355534954655446255849390874430470297186649128663629552488455019665561916749663207644264902152754708754083404770278398901730264103894999195225692990400772141008270126424342831255226615450886531061688085000636601981996992818360927851291435689470376891220504399192641904434905857371753389828463338254505694296501259990155913094790856457546178120428844249183272567809120476639549468986218924927806105666585819934911265221808829019900832449950636872488363729905787519923182820578817687375483958919884338350327807383878638502319198260674659317599847995501849433048330155193202283786892081084364412079518251400674163956218250673672713276480716362912495776265034161218180935743282711137701875578988007586111120921722493609431782056172550562855792934413474256072064802717679407832350777320334446841613429630338614346311868710077405495903265503250840868860962244962587620878350063186759728789062244808929849626881588110992496287553727554779230094361930636428792534143213039057740171032920083643779447083691422767679200865501746404239719879069553378680243288317896680986903218563043205536000377688689636292598759833002504032664576637690866709095871200320590213904301373905299912413449338451423639962548658002060486354520342194400487943393047667991876912910477573245370368"
      ]
     },
     "execution_count": 55,
     "metadata": {},
     "output_type": "execute_result"
    }
   ],
   "source": [
    "num1 ** 123"
   ]
  },
  {
   "cell_type": "code",
   "execution_count": 57,
   "id": "b5a5c244-8c18-4288-8dae-2ac8c12678e1",
   "metadata": {},
   "outputs": [],
   "source": [
    "# float datatype"
   ]
  },
  {
   "cell_type": "code",
   "execution_count": 59,
   "id": "45e68559-01a7-49c0-978b-f2f7b3177096",
   "metadata": {},
   "outputs": [],
   "source": [
    "num3 = 12.67"
   ]
  },
  {
   "cell_type": "code",
   "execution_count": 61,
   "id": "96a1618b-d3a1-422c-afe3-4e896794b8d3",
   "metadata": {},
   "outputs": [
    {
     "data": {
      "text/plain": [
       "152.04"
      ]
     },
     "execution_count": 61,
     "metadata": {},
     "output_type": "execute_result"
    }
   ],
   "source": [
    "result = num3 * 12\n",
    "result"
   ]
  },
  {
   "cell_type": "code",
   "execution_count": 71,
   "id": "da1aaec6-9f83-41d3-842d-a405c5f9f228",
   "metadata": {},
   "outputs": [],
   "source": [
    "y = 15e3  # 15 * (10 ** 3)"
   ]
  },
  {
   "cell_type": "code",
   "execution_count": 65,
   "id": "144a8461-bd25-4c53-b117-27adf0375b68",
   "metadata": {},
   "outputs": [
    {
     "data": {
      "text/plain": [
       "15000.0"
      ]
     },
     "execution_count": 65,
     "metadata": {},
     "output_type": "execute_result"
    }
   ],
   "source": [
    "y"
   ]
  },
  {
   "cell_type": "code",
   "execution_count": 67,
   "id": "d3e41668-c81d-4af8-9a9c-59c68a5100b2",
   "metadata": {},
   "outputs": [
    {
     "data": {
      "text/plain": [
       "17000.0"
      ]
     },
     "execution_count": 67,
     "metadata": {},
     "output_type": "execute_result"
    }
   ],
   "source": [
    "17e3"
   ]
  },
  {
   "cell_type": "code",
   "execution_count": 69,
   "id": "91efa10d-e1a7-409c-97b3-cabb466c7e79",
   "metadata": {},
   "outputs": [
    {
     "data": {
      "text/plain": [
       "1000000.0"
      ]
     },
     "execution_count": 69,
     "metadata": {},
     "output_type": "execute_result"
    }
   ],
   "source": [
    "10e5"
   ]
  },
  {
   "cell_type": "code",
   "execution_count": 73,
   "id": "d3a47122-8ece-49e6-a57e-b7e069d6a70d",
   "metadata": {},
   "outputs": [],
   "source": [
    "# string data type "
   ]
  },
  {
   "cell_type": "code",
   "execution_count": 75,
   "id": "89523455-ec22-4642-bef9-a1da4abbd0f9",
   "metadata": {},
   "outputs": [],
   "source": [
    "name = 'Aditya'"
   ]
  },
  {
   "cell_type": "code",
   "execution_count": 77,
   "id": "59171ea2-d340-47eb-82f9-97020a5ab27e",
   "metadata": {},
   "outputs": [
    {
     "data": {
      "text/plain": [
       "'Aditya'"
      ]
     },
     "execution_count": 77,
     "metadata": {},
     "output_type": "execute_result"
    }
   ],
   "source": [
    "name"
   ]
  },
  {
   "cell_type": "code",
   "execution_count": 79,
   "id": "f7ef065b-506d-42d9-b580-aa0c12b26086",
   "metadata": {},
   "outputs": [],
   "source": [
    "sent = 'I love Python Programming'"
   ]
  },
  {
   "cell_type": "code",
   "execution_count": 81,
   "id": "7fd2455b-bff7-4f5c-886e-13d45337958f",
   "metadata": {},
   "outputs": [
    {
     "data": {
      "text/plain": [
       "'I love Python Programming'"
      ]
     },
     "execution_count": 81,
     "metadata": {},
     "output_type": "execute_result"
    }
   ],
   "source": [
    "sent"
   ]
  },
  {
   "cell_type": "code",
   "execution_count": 83,
   "id": "31aa0684-6abf-48b7-bf56-84ab97362a83",
   "metadata": {},
   "outputs": [],
   "source": [
    "# I love 'Python' Programming"
   ]
  },
  {
   "cell_type": "code",
   "execution_count": 89,
   "id": "10afea00-abc0-497c-a7a3-8602e703badc",
   "metadata": {},
   "outputs": [
    {
     "data": {
      "text/plain": [
       "\"I love 'Python' Programming\""
      ]
     },
     "execution_count": 89,
     "metadata": {},
     "output_type": "execute_result"
    }
   ],
   "source": [
    "\"I love 'Python' Programming\""
   ]
  },
  {
   "cell_type": "code",
   "execution_count": 91,
   "id": "cbe5b12d-7352-4544-8f14-75139c278851",
   "metadata": {},
   "outputs": [
    {
     "data": {
      "text/plain": [
       "'I love \"Python\" Programming'"
      ]
     },
     "execution_count": 91,
     "metadata": {},
     "output_type": "execute_result"
    }
   ],
   "source": [
    "'I love \"Python\" Programming'"
   ]
  },
  {
   "cell_type": "code",
   "execution_count": 93,
   "id": "542587f5-1071-4600-ac46-fdc888377c56",
   "metadata": {},
   "outputs": [],
   "source": [
    "# multiple assignment\n",
    "\n",
    "num1, num2, num3 = 12, 34, 59"
   ]
  },
  {
   "cell_type": "code",
   "execution_count": 95,
   "id": "fd7a098d-efdc-415a-97c8-cf1b2fc8e8b7",
   "metadata": {},
   "outputs": [
    {
     "data": {
      "text/plain": [
       "12"
      ]
     },
     "execution_count": 95,
     "metadata": {},
     "output_type": "execute_result"
    }
   ],
   "source": [
    "num1"
   ]
  },
  {
   "cell_type": "code",
   "execution_count": 97,
   "id": "23868aa6-a56d-434a-bf71-0464a4ba4411",
   "metadata": {},
   "outputs": [
    {
     "data": {
      "text/plain": [
       "34"
      ]
     },
     "execution_count": 97,
     "metadata": {},
     "output_type": "execute_result"
    }
   ],
   "source": [
    "num2"
   ]
  },
  {
   "cell_type": "code",
   "execution_count": 99,
   "id": "f2f5b45a-bdda-43a0-a119-a531ea38b8d6",
   "metadata": {},
   "outputs": [
    {
     "data": {
      "text/plain": [
       "59"
      ]
     },
     "execution_count": 99,
     "metadata": {},
     "output_type": "execute_result"
    }
   ],
   "source": [
    "num3"
   ]
  },
  {
   "cell_type": "code",
   "execution_count": 101,
   "id": "8d7b9a71-7d2b-4634-9e3e-7c7bf8b19fcf",
   "metadata": {},
   "outputs": [],
   "source": [
    "num1, num2, num3 = 12, 'Aditya', 59.21"
   ]
  },
  {
   "cell_type": "code",
   "execution_count": 103,
   "id": "8814abcb-9cc0-489c-84c8-bd6b5d1b6068",
   "metadata": {},
   "outputs": [
    {
     "name": "stdout",
     "output_type": "stream",
     "text": [
      "43\n"
     ]
    }
   ],
   "source": [
    "num1 = 23\n",
    "num2 = 20\n",
    "result = num1 + num2\n",
    "print(result)"
   ]
  },
  {
   "cell_type": "code",
   "execution_count": 105,
   "id": "83964674-4be3-42fe-a092-e843431e5fa8",
   "metadata": {},
   "outputs": [
    {
     "name": "stdout",
     "output_type": "stream",
     "text": [
      "43\n"
     ]
    }
   ],
   "source": [
    "num1 = 23; num2 = 20; result = num1 + num2; print(result)"
   ]
  },
  {
   "cell_type": "code",
   "execution_count": 107,
   "id": "2a15eedb-b239-40b2-ba7b-1922c64703c7",
   "metadata": {},
   "outputs": [],
   "source": [
    "# string operations"
   ]
  },
  {
   "cell_type": "code",
   "execution_count": 109,
   "id": "56ce3bd0-bee8-43ae-a57f-ec8c30f8bdba",
   "metadata": {},
   "outputs": [],
   "source": [
    "name = 'Aditya'"
   ]
  },
  {
   "cell_type": "code",
   "execution_count": 111,
   "id": "97b2404c-c7fd-4325-bf66-505ebdb3f0db",
   "metadata": {},
   "outputs": [
    {
     "data": {
      "text/plain": [
       "'aditya'"
      ]
     },
     "execution_count": 111,
     "metadata": {},
     "output_type": "execute_result"
    }
   ],
   "source": [
    "name.lower()"
   ]
  },
  {
   "cell_type": "code",
   "execution_count": 113,
   "id": "1e401a59-cd81-4cce-9c9a-9b028a2dbabc",
   "metadata": {},
   "outputs": [
    {
     "data": {
      "text/plain": [
       "'Aditya'"
      ]
     },
     "execution_count": 113,
     "metadata": {},
     "output_type": "execute_result"
    }
   ],
   "source": [
    "name"
   ]
  },
  {
   "cell_type": "code",
   "execution_count": 115,
   "id": "37545b5a-d311-4006-b018-3ebb734ac6d2",
   "metadata": {},
   "outputs": [
    {
     "data": {
      "text/plain": [
       "'ADITYA'"
      ]
     },
     "execution_count": 115,
     "metadata": {},
     "output_type": "execute_result"
    }
   ],
   "source": [
    "name.upper()"
   ]
  },
  {
   "cell_type": "code",
   "execution_count": 117,
   "id": "a0a59892-fb19-449f-a0bf-d45bb436d1ae",
   "metadata": {},
   "outputs": [
    {
     "data": {
      "text/plain": [
       "'aDITYA'"
      ]
     },
     "execution_count": 117,
     "metadata": {},
     "output_type": "execute_result"
    }
   ],
   "source": [
    "name.swapcase()"
   ]
  },
  {
   "cell_type": "code",
   "execution_count": 119,
   "id": "14af8702-b81a-4ede-8da9-ce749c05c432",
   "metadata": {},
   "outputs": [
    {
     "data": {
      "text/plain": [
       "6"
      ]
     },
     "execution_count": 119,
     "metadata": {},
     "output_type": "execute_result"
    }
   ],
   "source": [
    "len(name)"
   ]
  },
  {
   "cell_type": "code",
   "execution_count": 121,
   "id": "e1a8e82e-395a-44c5-8986-355adf874f54",
   "metadata": {},
   "outputs": [
    {
     "data": {
      "text/plain": [
       "False"
      ]
     },
     "execution_count": 121,
     "metadata": {},
     "output_type": "execute_result"
    }
   ],
   "source": [
    "name.islower()"
   ]
  },
  {
   "cell_type": "code",
   "execution_count": 123,
   "id": "1b0afb24-b901-4753-8709-ff1d2fbeddf6",
   "metadata": {},
   "outputs": [
    {
     "data": {
      "text/plain": [
       "False"
      ]
     },
     "execution_count": 123,
     "metadata": {},
     "output_type": "execute_result"
    }
   ],
   "source": [
    "name.isupper()"
   ]
  },
  {
   "cell_type": "code",
   "execution_count": 125,
   "id": "92e652ef-c728-4cef-a985-81d86e5d8186",
   "metadata": {},
   "outputs": [
    {
     "data": {
      "text/plain": [
       "True"
      ]
     },
     "execution_count": 125,
     "metadata": {},
     "output_type": "execute_result"
    }
   ],
   "source": [
    "name.istitle()"
   ]
  },
  {
   "cell_type": "code",
   "execution_count": 127,
   "id": "0e0c95bf-9b13-455c-89bb-0d9305bf9e12",
   "metadata": {},
   "outputs": [],
   "source": [
    "data1 = 'Pune'\n",
    "data2 = '2345'\n",
    "data3 = 'Pune123'"
   ]
  },
  {
   "cell_type": "code",
   "execution_count": 129,
   "id": "cbd5232e-b94c-4e74-960a-6495af2d9ab5",
   "metadata": {},
   "outputs": [
    {
     "data": {
      "text/plain": [
       "str"
      ]
     },
     "execution_count": 129,
     "metadata": {},
     "output_type": "execute_result"
    }
   ],
   "source": [
    "type(data2)"
   ]
  },
  {
   "cell_type": "code",
   "execution_count": 131,
   "id": "265bf472-f9dd-45f8-8107-45b2a37c6a79",
   "metadata": {},
   "outputs": [
    {
     "data": {
      "text/plain": [
       "True"
      ]
     },
     "execution_count": 131,
     "metadata": {},
     "output_type": "execute_result"
    }
   ],
   "source": [
    "data1.isalpha()"
   ]
  },
  {
   "cell_type": "code",
   "execution_count": 133,
   "id": "25873a0e-f687-464e-b80b-0e80237e3d2a",
   "metadata": {},
   "outputs": [
    {
     "data": {
      "text/plain": [
       "False"
      ]
     },
     "execution_count": 133,
     "metadata": {},
     "output_type": "execute_result"
    }
   ],
   "source": [
    "data2.isalpha()"
   ]
  },
  {
   "cell_type": "code",
   "execution_count": 135,
   "id": "ba9e0235-347f-4dc0-b37a-b818fc0c8cdd",
   "metadata": {},
   "outputs": [
    {
     "data": {
      "text/plain": [
       "False"
      ]
     },
     "execution_count": 135,
     "metadata": {},
     "output_type": "execute_result"
    }
   ],
   "source": [
    "data3.isalpha()"
   ]
  },
  {
   "cell_type": "code",
   "execution_count": 137,
   "id": "46624a18-719c-4f7a-a25d-d98b6549f2d9",
   "metadata": {},
   "outputs": [
    {
     "data": {
      "text/plain": [
       "False"
      ]
     },
     "execution_count": 137,
     "metadata": {},
     "output_type": "execute_result"
    }
   ],
   "source": [
    "data1.isdigit()"
   ]
  },
  {
   "cell_type": "code",
   "execution_count": 139,
   "id": "fa9dbc2f-4ba2-46da-861f-db94ebbda73c",
   "metadata": {},
   "outputs": [
    {
     "data": {
      "text/plain": [
       "True"
      ]
     },
     "execution_count": 139,
     "metadata": {},
     "output_type": "execute_result"
    }
   ],
   "source": [
    "data2.isdigit()"
   ]
  },
  {
   "cell_type": "code",
   "execution_count": 141,
   "id": "42706657-23b5-44da-998d-1e6b68aa9476",
   "metadata": {},
   "outputs": [
    {
     "data": {
      "text/plain": [
       "False"
      ]
     },
     "execution_count": 141,
     "metadata": {},
     "output_type": "execute_result"
    }
   ],
   "source": [
    "data3.isdigit()"
   ]
  },
  {
   "cell_type": "code",
   "execution_count": 143,
   "id": "4e0b716d-dfd4-411f-a78c-2168870018a5",
   "metadata": {},
   "outputs": [],
   "source": [
    "data = ' Aditya '"
   ]
  },
  {
   "cell_type": "code",
   "execution_count": 145,
   "id": "ec9bb222-0708-4d56-899b-f70e44dcc165",
   "metadata": {},
   "outputs": [
    {
     "data": {
      "text/plain": [
       "' Aditya '"
      ]
     },
     "execution_count": 145,
     "metadata": {},
     "output_type": "execute_result"
    }
   ],
   "source": [
    "data"
   ]
  },
  {
   "cell_type": "code",
   "execution_count": 147,
   "id": "014541f4-4da2-4018-92a4-9cece32d8920",
   "metadata": {},
   "outputs": [
    {
     "data": {
      "text/plain": [
       "'Aditya '"
      ]
     },
     "execution_count": 147,
     "metadata": {},
     "output_type": "execute_result"
    }
   ],
   "source": [
    "data.lstrip()"
   ]
  },
  {
   "cell_type": "code",
   "execution_count": 149,
   "id": "2afe7072-3e49-4f06-af72-81ceee14bb3c",
   "metadata": {},
   "outputs": [
    {
     "data": {
      "text/plain": [
       "' Aditya'"
      ]
     },
     "execution_count": 149,
     "metadata": {},
     "output_type": "execute_result"
    }
   ],
   "source": [
    "data.rstrip()"
   ]
  },
  {
   "cell_type": "code",
   "execution_count": 155,
   "id": "75ed0ff7-2241-4228-9144-a6e731418462",
   "metadata": {},
   "outputs": [],
   "source": [
    "data = data.strip()"
   ]
  },
  {
   "cell_type": "code",
   "execution_count": 157,
   "id": "0d9debde-ff8b-4817-8afd-6639dbaaae11",
   "metadata": {},
   "outputs": [
    {
     "data": {
      "text/plain": [
       "'Aditya'"
      ]
     },
     "execution_count": 157,
     "metadata": {},
     "output_type": "execute_result"
    }
   ],
   "source": [
    "data"
   ]
  },
  {
   "cell_type": "code",
   "execution_count": 159,
   "id": "6aa16509-a9f2-4c7d-9d4f-707cd314a25b",
   "metadata": {},
   "outputs": [
    {
     "data": {
      "text/plain": [
       "True"
      ]
     },
     "execution_count": 159,
     "metadata": {},
     "output_type": "execute_result"
    }
   ],
   "source": [
    "data.startswith('A')"
   ]
  },
  {
   "cell_type": "code",
   "execution_count": 161,
   "id": "abb21100-49b2-4c9f-84d3-d4ca4a3255a6",
   "metadata": {},
   "outputs": [
    {
     "data": {
      "text/plain": [
       "False"
      ]
     },
     "execution_count": 161,
     "metadata": {},
     "output_type": "execute_result"
    }
   ],
   "source": [
    "data.startswith('a')"
   ]
  },
  {
   "cell_type": "code",
   "execution_count": 165,
   "id": "370e0548-4fe0-4074-8280-6d99928f41c5",
   "metadata": {},
   "outputs": [
    {
     "data": {
      "text/plain": [
       "False"
      ]
     },
     "execution_count": 165,
     "metadata": {},
     "output_type": "execute_result"
    }
   ],
   "source": [
    "data.endswith('t')"
   ]
  },
  {
   "cell_type": "code",
   "execution_count": 171,
   "id": "f738162a-1f1d-4715-bfab-c81f7383465d",
   "metadata": {},
   "outputs": [
    {
     "data": {
      "text/plain": [
       "'Aditya'"
      ]
     },
     "execution_count": 171,
     "metadata": {},
     "output_type": "execute_result"
    }
   ],
   "source": [
    "data"
   ]
  },
  {
   "cell_type": "code",
   "execution_count": 169,
   "id": "c3fbb1e8-cc01-4b21-88ba-deb5cd27ac41",
   "metadata": {},
   "outputs": [
    {
     "data": {
      "text/plain": [
       "3"
      ]
     },
     "execution_count": 169,
     "metadata": {},
     "output_type": "execute_result"
    }
   ],
   "source": [
    "data.find('t')"
   ]
  },
  {
   "cell_type": "code",
   "execution_count": 173,
   "id": "308504ae-e546-40cf-aa30-8f1eb790331e",
   "metadata": {},
   "outputs": [
    {
     "data": {
      "text/plain": [
       "'Aaditya'"
      ]
     },
     "execution_count": 173,
     "metadata": {},
     "output_type": "execute_result"
    }
   ],
   "source": [
    "data.replace('A', 'Aa')"
   ]
  },
  {
   "cell_type": "code",
   "execution_count": 175,
   "id": "8ced05c6-6b03-46e4-81a3-e2c2e6bffdac",
   "metadata": {},
   "outputs": [
    {
     "data": {
      "text/plain": [
       "['__add__',\n",
       " '__class__',\n",
       " '__contains__',\n",
       " '__delattr__',\n",
       " '__dir__',\n",
       " '__doc__',\n",
       " '__eq__',\n",
       " '__format__',\n",
       " '__ge__',\n",
       " '__getattribute__',\n",
       " '__getitem__',\n",
       " '__getnewargs__',\n",
       " '__getstate__',\n",
       " '__gt__',\n",
       " '__hash__',\n",
       " '__init__',\n",
       " '__init_subclass__',\n",
       " '__iter__',\n",
       " '__le__',\n",
       " '__len__',\n",
       " '__lt__',\n",
       " '__mod__',\n",
       " '__mul__',\n",
       " '__ne__',\n",
       " '__new__',\n",
       " '__reduce__',\n",
       " '__reduce_ex__',\n",
       " '__repr__',\n",
       " '__rmod__',\n",
       " '__rmul__',\n",
       " '__setattr__',\n",
       " '__sizeof__',\n",
       " '__str__',\n",
       " '__subclasshook__',\n",
       " 'capitalize',\n",
       " 'casefold',\n",
       " 'center',\n",
       " 'count',\n",
       " 'encode',\n",
       " 'endswith',\n",
       " 'expandtabs',\n",
       " 'find',\n",
       " 'format',\n",
       " 'format_map',\n",
       " 'index',\n",
       " 'isalnum',\n",
       " 'isalpha',\n",
       " 'isascii',\n",
       " 'isdecimal',\n",
       " 'isdigit',\n",
       " 'isidentifier',\n",
       " 'islower',\n",
       " 'isnumeric',\n",
       " 'isprintable',\n",
       " 'isspace',\n",
       " 'istitle',\n",
       " 'isupper',\n",
       " 'join',\n",
       " 'ljust',\n",
       " 'lower',\n",
       " 'lstrip',\n",
       " 'maketrans',\n",
       " 'partition',\n",
       " 'removeprefix',\n",
       " 'removesuffix',\n",
       " 'replace',\n",
       " 'rfind',\n",
       " 'rindex',\n",
       " 'rjust',\n",
       " 'rpartition',\n",
       " 'rsplit',\n",
       " 'rstrip',\n",
       " 'split',\n",
       " 'splitlines',\n",
       " 'startswith',\n",
       " 'strip',\n",
       " 'swapcase',\n",
       " 'title',\n",
       " 'translate',\n",
       " 'upper',\n",
       " 'zfill']"
      ]
     },
     "execution_count": 175,
     "metadata": {},
     "output_type": "execute_result"
    }
   ],
   "source": [
    "dir(data)"
   ]
  },
  {
   "cell_type": "code",
   "execution_count": 177,
   "id": "ef63ac90-ad6f-4db3-998e-2953e36a4a3c",
   "metadata": {},
   "outputs": [
    {
     "name": "stdout",
     "output_type": "stream",
     "text": [
      "Help on built-in function title:\n",
      "\n",
      "title() method of builtins.str instance\n",
      "    Return a version of the string where each word is titlecased.\n",
      "    \n",
      "    More specifically, words start with uppercased characters and all remaining\n",
      "    cased characters have lower case.\n",
      "\n"
     ]
    }
   ],
   "source": [
    "help(data.title)"
   ]
  },
  {
   "cell_type": "code",
   "execution_count": 181,
   "id": "d982b30a-3897-4bb2-9c45-815e65c919fd",
   "metadata": {},
   "outputs": [
    {
     "data": {
      "text/plain": [
       "'I Love Python Programming'"
      ]
     },
     "execution_count": 181,
     "metadata": {},
     "output_type": "execute_result"
    }
   ],
   "source": [
    "sent.title()"
   ]
  },
  {
   "cell_type": "code",
   "execution_count": 183,
   "id": "995d4e31-e55f-438c-879a-3992c5497251",
   "metadata": {},
   "outputs": [],
   "source": [
    "# string concatenation"
   ]
  },
  {
   "cell_type": "code",
   "execution_count": 185,
   "id": "e29ee4fd-7bf4-4aa2-b625-dd949d6b1393",
   "metadata": {},
   "outputs": [],
   "source": [
    "name1 = 'Hello'\n",
    "name2 = 'World'"
   ]
  },
  {
   "cell_type": "code",
   "execution_count": 187,
   "id": "74553ade-fd94-4e75-8d9d-b6f5e54f7389",
   "metadata": {},
   "outputs": [
    {
     "name": "stdout",
     "output_type": "stream",
     "text": [
      "HelloWorld\n"
     ]
    }
   ],
   "source": [
    "data = name1 + name2\n",
    "print(data)"
   ]
  },
  {
   "cell_type": "code",
   "execution_count": 191,
   "id": "eaf20054-d818-4a65-bb52-8c82e6fee4ec",
   "metadata": {},
   "outputs": [
    {
     "data": {
      "text/plain": [
       "'Hello World'"
      ]
     },
     "execution_count": 191,
     "metadata": {},
     "output_type": "execute_result"
    }
   ],
   "source": [
    "name1 + ' ' + name2"
   ]
  },
  {
   "cell_type": "code",
   "execution_count": 193,
   "id": "f199681a-63dd-4896-b9f6-031146e46922",
   "metadata": {},
   "outputs": [
    {
     "data": {
      "text/plain": [
       "'HelloHelloHelloHelloHello'"
      ]
     },
     "execution_count": 193,
     "metadata": {},
     "output_type": "execute_result"
    }
   ],
   "source": [
    "# string repeatation\n",
    "\n",
    "name1 * 5"
   ]
  },
  {
   "cell_type": "code",
   "execution_count": 195,
   "id": "e4517965-c522-4f48-8288-e8ccf6a56b35",
   "metadata": {},
   "outputs": [],
   "source": [
    "# Escape sequence"
   ]
  },
  {
   "cell_type": "code",
   "execution_count": 201,
   "id": "10d95d5c-7738-486b-904a-8f0143effed6",
   "metadata": {},
   "outputs": [
    {
     "name": "stdout",
     "output_type": "stream",
     "text": [
      "Hello\n",
      "World\n"
     ]
    }
   ],
   "source": [
    "print('Hello\\nWorld')"
   ]
  },
  {
   "cell_type": "code",
   "execution_count": 203,
   "id": "4f60572c-eaa5-49ed-ae4d-88628e5097e5",
   "metadata": {},
   "outputs": [
    {
     "name": "stdout",
     "output_type": "stream",
     "text": [
      "Hello\tWorld\n"
     ]
    }
   ],
   "source": [
    "print('Hello\\tWorld')"
   ]
  },
  {
   "cell_type": "code",
   "execution_count": 207,
   "id": "acd417fe-51f7-4482-bfa5-39fb3bd7085a",
   "metadata": {},
   "outputs": [
    {
     "name": "stdout",
     "output_type": "stream",
     "text": [
      "Hello\\World\n"
     ]
    }
   ],
   "source": [
    "print('Hello\\\\World')"
   ]
  },
  {
   "cell_type": "code",
   "execution_count": 211,
   "id": "b4b6fabd-79d7-4f7d-83ea-1070ca914050",
   "metadata": {},
   "outputs": [
    {
     "name": "stdout",
     "output_type": "stream",
     "text": [
      "Hello'World\n"
     ]
    }
   ],
   "source": [
    "print('Hello\\'World')"
   ]
  },
  {
   "cell_type": "code",
   "execution_count": 215,
   "id": "d7fb0170-14aa-404b-b1fc-a5fd9a8fad08",
   "metadata": {},
   "outputs": [],
   "source": [
    "res = 4 + 5 + 7 \\\n",
    "+ 6 + 2"
   ]
  },
  {
   "cell_type": "code",
   "execution_count": 217,
   "id": "8329df7c-065c-4757-900d-3034980fd4c7",
   "metadata": {},
   "outputs": [
    {
     "data": {
      "text/plain": [
       "24"
      ]
     },
     "execution_count": 217,
     "metadata": {},
     "output_type": "execute_result"
    }
   ],
   "source": [
    "res"
   ]
  },
  {
   "cell_type": "code",
   "execution_count": 219,
   "id": "b3744389-539e-4af0-81da-eb1a2bd3c7fc",
   "metadata": {},
   "outputs": [],
   "source": [
    "# docstring"
   ]
  },
  {
   "cell_type": "code",
   "execution_count": 231,
   "id": "1f426544-4361-4c4e-90d9-1ad7b1fd73dc",
   "metadata": {},
   "outputs": [],
   "source": [
    "lines = '''this is first line\n",
    "this is 2nd line\n",
    "this is 3rd line'''"
   ]
  },
  {
   "cell_type": "code",
   "execution_count": 233,
   "id": "71564a36-74e2-4f67-8b87-7befaf9b98e7",
   "metadata": {},
   "outputs": [
    {
     "name": "stdout",
     "output_type": "stream",
     "text": [
      "this is first line\n",
      "this is 2nd line\n",
      "this is 3rd line\n"
     ]
    }
   ],
   "source": [
    "print(lines)"
   ]
  },
  {
   "cell_type": "code",
   "execution_count": 235,
   "id": "7bb6f806-896c-4df3-9f19-796fb65e7e3c",
   "metadata": {},
   "outputs": [],
   "source": [
    "# ASCII"
   ]
  },
  {
   "cell_type": "code",
   "execution_count": 237,
   "id": "00ec3a10-a7f1-40dd-8168-0023a134343e",
   "metadata": {},
   "outputs": [
    {
     "data": {
      "text/plain": [
       "65"
      ]
     },
     "execution_count": 237,
     "metadata": {},
     "output_type": "execute_result"
    }
   ],
   "source": [
    "ord('A')"
   ]
  },
  {
   "cell_type": "code",
   "execution_count": 239,
   "id": "1553cec7-a08b-41f6-9a3a-991e2945ed10",
   "metadata": {},
   "outputs": [
    {
     "data": {
      "text/plain": [
       "97"
      ]
     },
     "execution_count": 239,
     "metadata": {},
     "output_type": "execute_result"
    }
   ],
   "source": [
    "ord('a')"
   ]
  },
  {
   "cell_type": "code",
   "execution_count": 241,
   "id": "5403e13d-2581-4e48-a972-d7afc24c5df4",
   "metadata": {},
   "outputs": [
    {
     "data": {
      "text/plain": [
       "32"
      ]
     },
     "execution_count": 241,
     "metadata": {},
     "output_type": "execute_result"
    }
   ],
   "source": [
    "ord(' ')"
   ]
  },
  {
   "cell_type": "code",
   "execution_count": 243,
   "id": "1dbfca30-afec-44f2-9c53-1dd556b9b2a3",
   "metadata": {},
   "outputs": [
    {
     "data": {
      "text/plain": [
       "64"
      ]
     },
     "execution_count": 243,
     "metadata": {},
     "output_type": "execute_result"
    }
   ],
   "source": [
    "ord('@')"
   ]
  },
  {
   "cell_type": "code",
   "execution_count": 245,
   "id": "28d75190-a684-477d-bcaa-6abdca12deec",
   "metadata": {},
   "outputs": [
    {
     "data": {
      "text/plain": [
       "'A'"
      ]
     },
     "execution_count": 245,
     "metadata": {},
     "output_type": "execute_result"
    }
   ],
   "source": [
    "chr(65)"
   ]
  },
  {
   "cell_type": "code",
   "execution_count": 247,
   "id": "2bd0546f-a1ef-45a6-b8fc-fb232cc466c7",
   "metadata": {},
   "outputs": [
    {
     "data": {
      "text/plain": [
       "'\\x14'"
      ]
     },
     "execution_count": 247,
     "metadata": {},
     "output_type": "execute_result"
    }
   ],
   "source": [
    "chr(20)"
   ]
  },
  {
   "cell_type": "code",
   "execution_count": 249,
   "id": "1049c9eb-1326-44e2-9427-0e217bf0de7b",
   "metadata": {},
   "outputs": [
    {
     "data": {
      "text/plain": [
       "'²'"
      ]
     },
     "execution_count": 249,
     "metadata": {},
     "output_type": "execute_result"
    }
   ],
   "source": [
    "chr(178)"
   ]
  },
  {
   "cell_type": "code",
   "execution_count": 251,
   "id": "e3f389e0-f48a-44fa-b197-79a5c27e48dd",
   "metadata": {},
   "outputs": [
    {
     "data": {
      "text/plain": [
       "'x²'"
      ]
     },
     "execution_count": 251,
     "metadata": {},
     "output_type": "execute_result"
    }
   ],
   "source": [
    "'x' + chr(178)"
   ]
  },
  {
   "cell_type": "code",
   "execution_count": 257,
   "id": "86bac5b4-9684-4739-8a04-8096efba5d56",
   "metadata": {},
   "outputs": [],
   "source": [
    "a = '\\u0938\\u094B'"
   ]
  },
  {
   "cell_type": "code",
   "execution_count": 259,
   "id": "eb6a6d13-0d73-4070-80ab-bfb9c7e1e25f",
   "metadata": {},
   "outputs": [
    {
     "data": {
      "text/plain": [
       "'सो'"
      ]
     },
     "execution_count": 259,
     "metadata": {},
     "output_type": "execute_result"
    }
   ],
   "source": [
    "a"
   ]
  },
  {
   "cell_type": "code",
   "execution_count": 261,
   "id": "ffef85d5-03dd-46b4-93f4-e5a9b3e5240d",
   "metadata": {},
   "outputs": [],
   "source": [
    "# print function"
   ]
  },
  {
   "cell_type": "code",
   "execution_count": 263,
   "id": "e35874d4-a110-462b-8157-4e7008e494ae",
   "metadata": {},
   "outputs": [],
   "source": [
    "name = 'Rajesh'\n",
    "marks = 76"
   ]
  },
  {
   "cell_type": "code",
   "execution_count": 265,
   "id": "f34a494e-ffb8-4a91-b191-8052ab387bea",
   "metadata": {},
   "outputs": [
    {
     "name": "stdout",
     "output_type": "stream",
     "text": [
      "my name is Rajesh and marks are 76\n"
     ]
    }
   ],
   "source": [
    "# my name is Rajesh and marks are 76\n",
    "\n",
    "print('my name is', name, 'and marks are', marks)"
   ]
  },
  {
   "cell_type": "code",
   "execution_count": 267,
   "id": "9915892e-7635-4596-a3b8-7752197246de",
   "metadata": {},
   "outputs": [
    {
     "name": "stdout",
     "output_type": "stream",
     "text": [
      "my name is Rajesh and marks are 76\n"
     ]
    }
   ],
   "source": [
    "# formatted print\n",
    "\n",
    "print('my name is %s and marks are %i' %(name, marks))"
   ]
  },
  {
   "cell_type": "code",
   "execution_count": 271,
   "id": "ba50311d-a988-428b-8158-6e09bee6e858",
   "metadata": {},
   "outputs": [
    {
     "name": "stdout",
     "output_type": "stream",
     "text": [
      "my name is Rajesh and marks are 76.00\n"
     ]
    }
   ],
   "source": [
    "print('my name is %s and marks are %.2f' %(name, marks))"
   ]
  },
  {
   "cell_type": "code",
   "execution_count": 273,
   "id": "74712a95-2e11-4eaf-afbe-4d3d2dd536b0",
   "metadata": {},
   "outputs": [],
   "source": [
    "city = 'Pune'"
   ]
  },
  {
   "cell_type": "code",
   "execution_count": 275,
   "id": "16886e5e-68da-47c2-9f83-3a99233807de",
   "metadata": {},
   "outputs": [
    {
     "name": "stdout",
     "output_type": "stream",
     "text": [
      "Rajesh 76 Pune\n"
     ]
    }
   ],
   "source": [
    "print(name, marks, city)"
   ]
  },
  {
   "cell_type": "code",
   "execution_count": 277,
   "id": "3246b1be-72b5-4c86-9c7d-d64cb169d842",
   "metadata": {},
   "outputs": [
    {
     "name": "stdout",
     "output_type": "stream",
     "text": [
      "Rajesh\n",
      "76\n",
      "Pune\n"
     ]
    }
   ],
   "source": [
    "print(name, marks, city, sep = '\\n')"
   ]
  },
  {
   "cell_type": "code",
   "execution_count": 289,
   "id": "9aefadf2-3907-4d8a-b632-93f6ce66b615",
   "metadata": {},
   "outputs": [
    {
     "name": "stdout",
     "output_type": "stream",
     "text": [
      "Rajesh*76*Pune@"
     ]
    }
   ],
   "source": [
    "print(name, marks, city, sep = '*', end = '@')"
   ]
  },
  {
   "cell_type": "markdown",
   "id": "ff5e2feb-38c2-4318-803f-aae5590d5f05",
   "metadata": {},
   "source": [
    "# Operators"
   ]
  },
  {
   "cell_type": "code",
   "execution_count": 292,
   "id": "b8bb144b-974a-4f7e-80c5-fda940fc10d5",
   "metadata": {},
   "outputs": [],
   "source": [
    "# arithmetic operators"
   ]
  },
  {
   "cell_type": "code",
   "execution_count": 310,
   "id": "adf70502-a896-4edd-b775-2927da0483bf",
   "metadata": {},
   "outputs": [],
   "source": [
    "num1 = 100\n",
    "num2 = 30"
   ]
  },
  {
   "cell_type": "code",
   "execution_count": 312,
   "id": "5180bc67-2e13-4945-b144-88d6461e62da",
   "metadata": {},
   "outputs": [],
   "source": [
    "add = num1 + num2"
   ]
  },
  {
   "cell_type": "code",
   "execution_count": 314,
   "id": "a84be2a2-09d1-4dfc-885d-9c3c0f0d547e",
   "metadata": {},
   "outputs": [
    {
     "data": {
      "text/plain": [
       "130"
      ]
     },
     "execution_count": 314,
     "metadata": {},
     "output_type": "execute_result"
    }
   ],
   "source": [
    "add"
   ]
  },
  {
   "cell_type": "code",
   "execution_count": 316,
   "id": "b70a4a7a-b590-445a-9e2c-63a09d772227",
   "metadata": {},
   "outputs": [
    {
     "data": {
      "text/plain": [
       "70"
      ]
     },
     "execution_count": 316,
     "metadata": {},
     "output_type": "execute_result"
    }
   ],
   "source": [
    "num1 - num2"
   ]
  },
  {
   "cell_type": "code",
   "execution_count": 318,
   "id": "98813741-b8e0-4e94-84de-b018058612c4",
   "metadata": {},
   "outputs": [
    {
     "data": {
      "text/plain": [
       "3000"
      ]
     },
     "execution_count": 318,
     "metadata": {},
     "output_type": "execute_result"
    }
   ],
   "source": [
    "num1 * num2"
   ]
  },
  {
   "cell_type": "code",
   "execution_count": 320,
   "id": "261d9c01-1372-4583-bb3b-a627f47af08e",
   "metadata": {},
   "outputs": [
    {
     "data": {
      "text/plain": [
       "3.3333333333333335"
      ]
     },
     "execution_count": 320,
     "metadata": {},
     "output_type": "execute_result"
    }
   ],
   "source": [
    "num1 / num2"
   ]
  },
  {
   "cell_type": "code",
   "execution_count": 322,
   "id": "4bd3885b-7297-42cc-8290-9a8e5509c899",
   "metadata": {},
   "outputs": [
    {
     "data": {
      "text/plain": [
       "1000000000000000000000000000000000000000000000000000000000000"
      ]
     },
     "execution_count": 322,
     "metadata": {},
     "output_type": "execute_result"
    }
   ],
   "source": [
    "num1 ** num2"
   ]
  },
  {
   "cell_type": "code",
   "execution_count": 326,
   "id": "d7a439a3-38b3-4a1e-9bfc-330c87d03ea4",
   "metadata": {},
   "outputs": [
    {
     "data": {
      "text/plain": [
       "3"
      ]
     },
     "execution_count": 326,
     "metadata": {},
     "output_type": "execute_result"
    }
   ],
   "source": [
    "num1 // num2   # floor division"
   ]
  },
  {
   "cell_type": "code",
   "execution_count": 330,
   "id": "2608a785-a213-4fb3-8e50-f2ad8e326f5f",
   "metadata": {},
   "outputs": [
    {
     "data": {
      "text/plain": [
       "10"
      ]
     },
     "execution_count": 330,
     "metadata": {},
     "output_type": "execute_result"
    }
   ],
   "source": [
    "num1 % num2  # modulus or remainder"
   ]
  },
  {
   "cell_type": "code",
   "execution_count": 332,
   "id": "7860f1d8-a7d1-4ebf-9198-4ab38783a2da",
   "metadata": {},
   "outputs": [],
   "source": [
    "# Relational Operators"
   ]
  },
  {
   "cell_type": "code",
   "execution_count": 334,
   "id": "38507417-e9cf-4d7d-94a5-c02875eddf0c",
   "metadata": {},
   "outputs": [
    {
     "data": {
      "text/plain": [
       "True"
      ]
     },
     "execution_count": 334,
     "metadata": {},
     "output_type": "execute_result"
    }
   ],
   "source": [
    "num1 > num2"
   ]
  },
  {
   "cell_type": "code",
   "execution_count": 336,
   "id": "be8c48e2-e494-45dd-905b-6a0a58885d4e",
   "metadata": {},
   "outputs": [
    {
     "data": {
      "text/plain": [
       "False"
      ]
     },
     "execution_count": 336,
     "metadata": {},
     "output_type": "execute_result"
    }
   ],
   "source": [
    "num1 < num2"
   ]
  },
  {
   "cell_type": "code",
   "execution_count": 338,
   "id": "c2e1e365-4bbc-4ec4-b670-49581e4d8f79",
   "metadata": {},
   "outputs": [
    {
     "data": {
      "text/plain": [
       "True"
      ]
     },
     "execution_count": 338,
     "metadata": {},
     "output_type": "execute_result"
    }
   ],
   "source": [
    "num1 >= num2"
   ]
  },
  {
   "cell_type": "code",
   "execution_count": 340,
   "id": "6b453381-0359-4060-a373-b986fd9374ad",
   "metadata": {},
   "outputs": [
    {
     "data": {
      "text/plain": [
       "False"
      ]
     },
     "execution_count": 340,
     "metadata": {},
     "output_type": "execute_result"
    }
   ],
   "source": [
    "num1 <= num2"
   ]
  },
  {
   "cell_type": "code",
   "execution_count": 342,
   "id": "0b75c837-645b-476d-a11e-3d13f3802473",
   "metadata": {},
   "outputs": [],
   "source": [
    "a = 10\n",
    "b = 10"
   ]
  },
  {
   "cell_type": "code",
   "execution_count": 346,
   "id": "9567e7d5-a429-4fb1-b304-4a9275762861",
   "metadata": {},
   "outputs": [
    {
     "data": {
      "text/plain": [
       "True"
      ]
     },
     "execution_count": 346,
     "metadata": {},
     "output_type": "execute_result"
    }
   ],
   "source": [
    "a >= b"
   ]
  },
  {
   "cell_type": "code",
   "execution_count": 348,
   "id": "744294cf-b32c-4930-98d0-286dcab82478",
   "metadata": {},
   "outputs": [
    {
     "data": {
      "text/plain": [
       "False"
      ]
     },
     "execution_count": 348,
     "metadata": {},
     "output_type": "execute_result"
    }
   ],
   "source": [
    "num1 == num2"
   ]
  },
  {
   "cell_type": "code",
   "execution_count": 350,
   "id": "f1242976-4d4a-4936-9cbd-7d13146d5153",
   "metadata": {},
   "outputs": [
    {
     "data": {
      "text/plain": [
       "True"
      ]
     },
     "execution_count": 350,
     "metadata": {},
     "output_type": "execute_result"
    }
   ],
   "source": [
    "num1 != num2"
   ]
  },
  {
   "cell_type": "code",
   "execution_count": 352,
   "id": "3e25dd18-79f1-45e9-89ff-75fc3ce9ca4f",
   "metadata": {},
   "outputs": [],
   "source": [
    "# Assignment operators"
   ]
  },
  {
   "cell_type": "code",
   "execution_count": 354,
   "id": "7e761951-6acb-42f3-bb1f-5e9edfe762ec",
   "metadata": {},
   "outputs": [
    {
     "data": {
      "text/plain": [
       "100"
      ]
     },
     "execution_count": 354,
     "metadata": {},
     "output_type": "execute_result"
    }
   ],
   "source": [
    "num1"
   ]
  },
  {
   "cell_type": "code",
   "execution_count": 356,
   "id": "2e696abe-82a9-4725-8b83-5aa91fe2f5c0",
   "metadata": {},
   "outputs": [],
   "source": [
    "num3 = 10"
   ]
  },
  {
   "cell_type": "code",
   "execution_count": 358,
   "id": "4538480a-e78c-4568-a4c3-566c2d05b9fe",
   "metadata": {},
   "outputs": [],
   "source": [
    "num1 += 10   # num1 = num1 + 10"
   ]
  },
  {
   "cell_type": "code",
   "execution_count": 360,
   "id": "38db1308-654b-4dc1-8753-3a585e78dcf1",
   "metadata": {},
   "outputs": [
    {
     "data": {
      "text/plain": [
       "110"
      ]
     },
     "execution_count": 360,
     "metadata": {},
     "output_type": "execute_result"
    }
   ],
   "source": [
    "num1"
   ]
  },
  {
   "cell_type": "code",
   "execution_count": 362,
   "id": "163086af-45c9-401f-a447-903e98a248f3",
   "metadata": {},
   "outputs": [],
   "source": [
    "num1 /= 10"
   ]
  },
  {
   "cell_type": "code",
   "execution_count": 364,
   "id": "55779bf5-0a82-4d23-a71e-a45ddbbc61fe",
   "metadata": {},
   "outputs": [
    {
     "data": {
      "text/plain": [
       "11.0"
      ]
     },
     "execution_count": 364,
     "metadata": {},
     "output_type": "execute_result"
    }
   ],
   "source": [
    "num1"
   ]
  },
  {
   "cell_type": "code",
   "execution_count": 366,
   "id": "ff535ae2-3859-4c04-93b1-5f16a2134ff1",
   "metadata": {},
   "outputs": [
    {
     "data": {
      "text/plain": [
       "9.0"
      ]
     },
     "execution_count": 366,
     "metadata": {},
     "output_type": "execute_result"
    }
   ],
   "source": [
    "num1 -= 2\n",
    "num1"
   ]
  },
  {
   "cell_type": "code",
   "execution_count": 368,
   "id": "02791f4a-d175-42cc-a542-6bd655ec42f6",
   "metadata": {},
   "outputs": [],
   "source": [
    "# Logical Operators"
   ]
  },
  {
   "cell_type": "code",
   "execution_count": 370,
   "id": "80213ba7-fbdc-4394-95d1-abf7ead73a1e",
   "metadata": {},
   "outputs": [
    {
     "data": {
      "text/plain": [
       "False"
      ]
     },
     "execution_count": 370,
     "metadata": {},
     "output_type": "execute_result"
    }
   ],
   "source": [
    "num1 > num2  and num1 > 0"
   ]
  },
  {
   "cell_type": "code",
   "execution_count": 372,
   "id": "72820ef6-7fd4-4364-8c92-00a3e4760b5b",
   "metadata": {},
   "outputs": [
    {
     "data": {
      "text/plain": [
       "True"
      ]
     },
     "execution_count": 372,
     "metadata": {},
     "output_type": "execute_result"
    }
   ],
   "source": [
    "num1 > 0 and num1 > 5"
   ]
  },
  {
   "cell_type": "code",
   "execution_count": 374,
   "id": "e63d1736-6a99-40bb-9d64-dc9319fce097",
   "metadata": {},
   "outputs": [
    {
     "data": {
      "text/plain": [
       "True"
      ]
     },
     "execution_count": 374,
     "metadata": {},
     "output_type": "execute_result"
    }
   ],
   "source": [
    "num1 > num2  or num1 > 0"
   ]
  },
  {
   "cell_type": "code",
   "execution_count": 376,
   "id": "7bb08d8e-6528-40ad-9e30-753f4e214873",
   "metadata": {},
   "outputs": [],
   "source": [
    "# membership selection"
   ]
  },
  {
   "cell_type": "code",
   "execution_count": 378,
   "id": "82ee4691-528f-4a99-b773-67ecd2f9d635",
   "metadata": {},
   "outputs": [
    {
     "data": {
      "text/plain": [
       "'Rajesh'"
      ]
     },
     "execution_count": 378,
     "metadata": {},
     "output_type": "execute_result"
    }
   ],
   "source": [
    "name"
   ]
  },
  {
   "cell_type": "code",
   "execution_count": 380,
   "id": "2b4f449d-2dfe-4e9f-a3d6-941323183415",
   "metadata": {},
   "outputs": [
    {
     "data": {
      "text/plain": [
       "True"
      ]
     },
     "execution_count": 380,
     "metadata": {},
     "output_type": "execute_result"
    }
   ],
   "source": [
    "'R' in name"
   ]
  },
  {
   "cell_type": "code",
   "execution_count": 382,
   "id": "13a41231-eac1-4aa3-9b04-32c6bd60f3c6",
   "metadata": {},
   "outputs": [
    {
     "data": {
      "text/plain": [
       "False"
      ]
     },
     "execution_count": 382,
     "metadata": {},
     "output_type": "execute_result"
    }
   ],
   "source": [
    "'r' in name"
   ]
  },
  {
   "cell_type": "code",
   "execution_count": 384,
   "id": "f127bc4c-741c-4a81-b760-db79cb136ef7",
   "metadata": {},
   "outputs": [
    {
     "data": {
      "text/plain": [
       "False"
      ]
     },
     "execution_count": 384,
     "metadata": {},
     "output_type": "execute_result"
    }
   ],
   "source": [
    "'R' not in name"
   ]
  },
  {
   "cell_type": "code",
   "execution_count": 386,
   "id": "0e91a20a-2373-40dd-a001-06b9aab72cde",
   "metadata": {},
   "outputs": [],
   "source": [
    "# type casting"
   ]
  },
  {
   "cell_type": "code",
   "execution_count": 388,
   "id": "7d38bfda-89ad-4966-b7b6-e69326cd9800",
   "metadata": {},
   "outputs": [],
   "source": [
    "num1 = 45\n",
    "num2 = 50.5"
   ]
  },
  {
   "cell_type": "code",
   "execution_count": 390,
   "id": "673aeff7-2b5c-4bcf-a0e5-07de315cc6b0",
   "metadata": {},
   "outputs": [
    {
     "data": {
      "text/plain": [
       "95.5"
      ]
     },
     "execution_count": 390,
     "metadata": {},
     "output_type": "execute_result"
    }
   ],
   "source": [
    "num1 + num2"
   ]
  },
  {
   "cell_type": "code",
   "execution_count": 392,
   "id": "ab94eab6-967f-4013-ba76-f69c239a48f6",
   "metadata": {},
   "outputs": [
    {
     "data": {
      "text/plain": [
       "50"
      ]
     },
     "execution_count": 392,
     "metadata": {},
     "output_type": "execute_result"
    }
   ],
   "source": [
    "int(num2)"
   ]
  },
  {
   "cell_type": "code",
   "execution_count": 394,
   "id": "2a40e94b-1ce8-4a18-a08c-2a0a5816afd3",
   "metadata": {},
   "outputs": [
    {
     "data": {
      "text/plain": [
       "95"
      ]
     },
     "execution_count": 394,
     "metadata": {},
     "output_type": "execute_result"
    }
   ],
   "source": [
    "num1 + int(num2)"
   ]
  },
  {
   "cell_type": "code",
   "execution_count": 396,
   "id": "4426a14d-17cf-45c9-a723-fbe9ad8b4f8b",
   "metadata": {},
   "outputs": [
    {
     "data": {
      "text/plain": [
       "45"
      ]
     },
     "execution_count": 396,
     "metadata": {},
     "output_type": "execute_result"
    }
   ],
   "source": [
    "num1"
   ]
  },
  {
   "cell_type": "code",
   "execution_count": 398,
   "id": "ab12db3f-1267-44e7-a51d-f09e719e5f64",
   "metadata": {},
   "outputs": [
    {
     "data": {
      "text/plain": [
       "45.0"
      ]
     },
     "execution_count": 398,
     "metadata": {},
     "output_type": "execute_result"
    }
   ],
   "source": [
    "float(num1)"
   ]
  },
  {
   "cell_type": "code",
   "execution_count": 400,
   "id": "cd99fa5d-40b0-4674-8de5-76c284268448",
   "metadata": {},
   "outputs": [],
   "source": [
    "num5 = 'Aditya'"
   ]
  },
  {
   "cell_type": "code",
   "execution_count": 402,
   "id": "9daf9972-f4bf-4825-8159-9a37eee7e285",
   "metadata": {},
   "outputs": [
    {
     "ename": "ValueError",
     "evalue": "invalid literal for int() with base 10: 'Aditya'",
     "output_type": "error",
     "traceback": [
      "\u001b[0;31m---------------------------------------------------------------------------\u001b[0m",
      "\u001b[0;31mValueError\u001b[0m                                Traceback (most recent call last)",
      "Cell \u001b[0;32mIn[402], line 1\u001b[0m\n\u001b[0;32m----> 1\u001b[0m \u001b[38;5;28mint\u001b[39m(num5)\n",
      "\u001b[0;31mValueError\u001b[0m: invalid literal for int() with base 10: 'Aditya'"
     ]
    }
   ],
   "source": [
    "int(num5)"
   ]
  },
  {
   "cell_type": "code",
   "execution_count": 404,
   "id": "ed69292f-ba5d-4433-92ba-bc8e6e17e6c6",
   "metadata": {},
   "outputs": [],
   "source": [
    "num3 = '123'"
   ]
  },
  {
   "cell_type": "code",
   "execution_count": 408,
   "id": "7eb3aa97-fcf2-4a9b-b837-31317da4529e",
   "metadata": {},
   "outputs": [
    {
     "data": {
      "text/plain": [
       "123.0"
      ]
     },
     "execution_count": 408,
     "metadata": {},
     "output_type": "execute_result"
    }
   ],
   "source": [
    "float(num3)"
   ]
  },
  {
   "cell_type": "code",
   "execution_count": 410,
   "id": "6f4be789-6ece-4b95-a28b-56afd5363aa9",
   "metadata": {},
   "outputs": [],
   "source": [
    "num3 = 'a123'"
   ]
  },
  {
   "cell_type": "code",
   "execution_count": 412,
   "id": "0d5c351b-a0f6-45e7-b45d-9ac8e65afc32",
   "metadata": {},
   "outputs": [
    {
     "ename": "ValueError",
     "evalue": "invalid literal for int() with base 10: 'a123'",
     "output_type": "error",
     "traceback": [
      "\u001b[0;31m---------------------------------------------------------------------------\u001b[0m",
      "\u001b[0;31mValueError\u001b[0m                                Traceback (most recent call last)",
      "Cell \u001b[0;32mIn[412], line 1\u001b[0m\n\u001b[0;32m----> 1\u001b[0m \u001b[38;5;28mint\u001b[39m(num3)\n",
      "\u001b[0;31mValueError\u001b[0m: invalid literal for int() with base 10: 'a123'"
     ]
    }
   ],
   "source": [
    "int(num3)"
   ]
  },
  {
   "cell_type": "code",
   "execution_count": 414,
   "id": "6d9bde38-5951-4a64-b22c-97e23bd383bc",
   "metadata": {},
   "outputs": [],
   "source": [
    "name = 'Aditya'\n",
    "marks = 67"
   ]
  },
  {
   "cell_type": "code",
   "execution_count": 416,
   "id": "cbbd6c14-0958-4a4e-89b0-7d5cdefbedaf",
   "metadata": {},
   "outputs": [],
   "source": [
    "# password = Aditya67"
   ]
  },
  {
   "cell_type": "code",
   "execution_count": 418,
   "id": "2aea84c7-c392-4d25-8055-efd6eb1bdf44",
   "metadata": {},
   "outputs": [],
   "source": [
    "password = name + str(marks)"
   ]
  },
  {
   "cell_type": "code",
   "execution_count": 422,
   "id": "9e11b34b-eefe-4890-aa93-7dcc2e6e306c",
   "metadata": {},
   "outputs": [
    {
     "data": {
      "text/plain": [
       "'Aditya67'"
      ]
     },
     "execution_count": 422,
     "metadata": {},
     "output_type": "execute_result"
    }
   ],
   "source": [
    "password"
   ]
  },
  {
   "cell_type": "code",
   "execution_count": 424,
   "id": "cb3b51ba-7035-4f24-b519-c92f37cec8b7",
   "metadata": {},
   "outputs": [],
   "source": [
    "# user input"
   ]
  },
  {
   "cell_type": "code",
   "execution_count": 440,
   "id": "657c522a-64b3-4ced-b983-3e6060717d0f",
   "metadata": {},
   "outputs": [
    {
     "name": "stdin",
     "output_type": "stream",
     "text": [
      "Enter the 1st number  100\n",
      "Enter the 2nd number  1\n"
     ]
    },
    {
     "name": "stdout",
     "output_type": "stream",
     "text": [
      "101\n"
     ]
    }
   ],
   "source": [
    "num1 = int(input('Enter the 1st number '))\n",
    "num2 = int(input('Enter the 2nd number '))\n",
    "result = num1 + num2\n",
    "print(result)"
   ]
  },
  {
   "cell_type": "code",
   "execution_count": 446,
   "id": "2a048c34-113c-498e-8b24-3af2947a592a",
   "metadata": {},
   "outputs": [],
   "source": [
    "# user input to create a password from 2 words"
   ]
  },
  {
   "cell_type": "code",
   "execution_count": 448,
   "id": "e32bf93c-7f90-4259-b148-ee4ba33ff6da",
   "metadata": {},
   "outputs": [
    {
     "name": "stdin",
     "output_type": "stream",
     "text": [
      "Enter the 1st number  Aditya\n",
      "Enter the 2nd number  123\n"
     ]
    },
    {
     "name": "stdout",
     "output_type": "stream",
     "text": [
      "Aditya123\n"
     ]
    }
   ],
   "source": [
    "num1 = input('Enter the 1st number ')\n",
    "num2 = input('Enter the 2nd number ')\n",
    "password = num1 + num2\n",
    "print(password)"
   ]
  },
  {
   "cell_type": "code",
   "execution_count": null,
   "id": "17bd6cc2-cca3-428c-b3a9-4329aa13dd9a",
   "metadata": {},
   "outputs": [],
   "source": []
  }
 ],
 "metadata": {
  "kernelspec": {
   "display_name": "Python 3 (ipykernel)",
   "language": "python",
   "name": "python3"
  },
  "language_info": {
   "codemirror_mode": {
    "name": "ipython",
    "version": 3
   },
   "file_extension": ".py",
   "mimetype": "text/x-python",
   "name": "python",
   "nbconvert_exporter": "python",
   "pygments_lexer": "ipython3",
   "version": "3.11.9"
  }
 },
 "nbformat": 4,
 "nbformat_minor": 5
}
