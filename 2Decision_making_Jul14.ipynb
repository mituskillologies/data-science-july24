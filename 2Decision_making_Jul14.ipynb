{
 "cells": [
  {
   "cell_type": "code",
   "execution_count": 7,
   "id": "4c1a7530-ba02-4669-a03e-c8dcdc30ab1d",
   "metadata": {},
   "outputs": [
    {
     "name": "stdin",
     "output_type": "stream",
     "text": [
      "Enter the number 51\n"
     ]
    },
    {
     "name": "stdout",
     "output_type": "stream",
     "text": [
      "ok\n"
     ]
    }
   ],
   "source": [
    "# check if a number is greater than 50\n",
    "\n",
    "num = int(input('Enter the number'))\n",
    "\n",
    "if num > 50:\n",
    "    print('ok')"
   ]
  },
  {
   "cell_type": "code",
   "execution_count": 11,
   "id": "722d0d6e-ceb3-433a-a462-2d08facc05df",
   "metadata": {},
   "outputs": [
    {
     "name": "stdin",
     "output_type": "stream",
     "text": [
      "Enter the number 53\n"
     ]
    },
    {
     "name": "stdout",
     "output_type": "stream",
     "text": [
      "Hello\n",
      "ok\n"
     ]
    }
   ],
   "source": [
    "num = int(input('Enter the number'))\n",
    "\n",
    "if num > 50:\n",
    "    print('Hello')\n",
    "    print('ok')\n",
    "else:\n",
    "    print('Goodbye')\n",
    "    print('not ok')"
   ]
  },
  {
   "cell_type": "code",
   "execution_count": 21,
   "id": "9f1cd96c-0877-4e04-9107-2a74482afbd8",
   "metadata": {},
   "outputs": [
    {
     "name": "stdin",
     "output_type": "stream",
     "text": [
      "Enter the number  -3\n"
     ]
    },
    {
     "name": "stdout",
     "output_type": "stream",
     "text": [
      "negative\n"
     ]
    }
   ],
   "source": [
    "# check if the number is positive or negative\n",
    "\n",
    "num = int(input('Enter the number '))\n",
    "\n",
    "if num > 0:\n",
    "    print('Positive')\n",
    "elif num == 0:\n",
    "    print('Zero')\n",
    "else:\n",
    "    print('negative')"
   ]
  },
  {
   "cell_type": "code",
   "execution_count": 27,
   "id": "24efa348-411e-4414-b4df-d1eea67f7957",
   "metadata": {},
   "outputs": [
    {
     "name": "stdin",
     "output_type": "stream",
     "text": [
      "Enter the number  1\n"
     ]
    },
    {
     "name": "stdout",
     "output_type": "stream",
     "text": [
      "Odd\n"
     ]
    }
   ],
   "source": [
    "# even or odd\n",
    "\n",
    "num = int(input('Enter the number '))\n",
    "\n",
    "if num % 2 == 0:\n",
    "    print('Even')\n",
    "else:\n",
    "    print('Odd')"
   ]
  },
  {
   "cell_type": "code",
   "execution_count": 31,
   "id": "e8bd281c-7917-494a-9e41-03382bbcf025",
   "metadata": {},
   "outputs": [
    {
     "data": {
      "text/plain": [
       "0"
      ]
     },
     "execution_count": 31,
     "metadata": {},
     "output_type": "execute_result"
    }
   ],
   "source": [
    "int(False)"
   ]
  },
  {
   "cell_type": "code",
   "execution_count": 33,
   "id": "d5622ad3-d3f6-414b-95c4-e6054b846956",
   "metadata": {},
   "outputs": [
    {
     "data": {
      "text/plain": [
       "1"
      ]
     },
     "execution_count": 33,
     "metadata": {},
     "output_type": "execute_result"
    }
   ],
   "source": [
    "int(True)"
   ]
  },
  {
   "cell_type": "code",
   "execution_count": 35,
   "id": "07e8c048-be31-4718-9324-19fd99d3cceb",
   "metadata": {},
   "outputs": [
    {
     "data": {
      "text/plain": [
       "2"
      ]
     },
     "execution_count": 35,
     "metadata": {},
     "output_type": "execute_result"
    }
   ],
   "source": [
    "False + True + True"
   ]
  },
  {
   "cell_type": "code",
   "execution_count": 41,
   "id": "d0a87fcf-aaa4-46a1-9275-f5b1b7ba5ebf",
   "metadata": {},
   "outputs": [
    {
     "name": "stdin",
     "output_type": "stream",
     "text": [
      "Enter the number  20\n"
     ]
    },
    {
     "name": "stdout",
     "output_type": "stream",
     "text": [
      "Incorrect\n"
     ]
    }
   ],
   "source": [
    "# check if the number is in between 50 and 100\n",
    "\n",
    "num = int(input('Enter the number '))\n",
    "\n",
    "if num > 50:\n",
    "    if num < 100:\n",
    "        print('correct')\n",
    "    else:\n",
    "        print('Greater than 100')\n",
    "else:\n",
    "    print('Incorrect')"
   ]
  },
  {
   "cell_type": "code",
   "execution_count": 43,
   "id": "5d6653cb-8f40-480b-a600-158bd17f9e0e",
   "metadata": {},
   "outputs": [
    {
     "name": "stdin",
     "output_type": "stream",
     "text": [
      "Enter the number  55\n"
     ]
    },
    {
     "name": "stdout",
     "output_type": "stream",
     "text": [
      "Correct\n"
     ]
    }
   ],
   "source": [
    "num = int(input('Enter the number '))\n",
    "\n",
    "if num > 50 and num < 100:\n",
    "    print('Correct')\n",
    "else:\n",
    "    print('incorrect')"
   ]
  },
  {
   "cell_type": "code",
   "execution_count": 47,
   "id": "99bd4964-1c55-4ac2-93c7-37b5fc6f6b02",
   "metadata": {},
   "outputs": [],
   "source": [
    "# read purchase cost and selling cost\n",
    "# find profit or loss and how much"
   ]
  },
  {
   "cell_type": "code",
   "execution_count": 51,
   "id": "32cfcc4f-d36e-466e-b9eb-ef6a7526c700",
   "metadata": {},
   "outputs": [
    {
     "name": "stdin",
     "output_type": "stream",
     "text": [
      "Enter the purchase cost:  500\n",
      "Enter the selling cost:  300\n"
     ]
    },
    {
     "name": "stdout",
     "output_type": "stream",
     "text": [
      "loss:  200\n"
     ]
    }
   ],
   "source": [
    "pc = int(input('Enter the purchase cost: '))\n",
    "sc = int(input('Enter the selling cost: '))\n",
    "\n",
    "if sc > pc:\n",
    "    print('profit: ', sc - pc )\n",
    "else:\n",
    "    print('loss: ', pc - sc)"
   ]
  },
  {
   "cell_type": "code",
   "execution_count": 57,
   "id": "1ba4a9c6-7d24-4b39-a064-d60aa56df769",
   "metadata": {},
   "outputs": [
    {
     "name": "stdin",
     "output_type": "stream",
     "text": [
      "Enter the 1st number 3\n",
      "Enter the 2nd number 2\n",
      "Enter the 3rd number 1\n"
     ]
    },
    {
     "name": "stdout",
     "output_type": "stream",
     "text": [
      "Largest  3\n"
     ]
    }
   ],
   "source": [
    "# take 3 numbers and find out the largest\n",
    "# not allowed to use and or or\n",
    "\n",
    "num1 = int(input('Enter the 1st number'))\n",
    "num2 = int(input('Enter the 2nd number'))\n",
    "num3 = int(input('Enter the 3rd number'))\n",
    "\n",
    "if num1 > num2:\n",
    "    if num1 > num3:\n",
    "        print('Largest ', num1)\n",
    "    else:\n",
    "        print('Largest ', num3)\n",
    "else:\n",
    "    if num2 > num3:\n",
    "        print('Largest ', num2)\n",
    "    else:\n",
    "        print('Largest ', num3)"
   ]
  },
  {
   "cell_type": "code",
   "execution_count": 65,
   "id": "bb34cf70-6e8c-4c69-9255-74e02308f95f",
   "metadata": {},
   "outputs": [
    {
     "name": "stdin",
     "output_type": "stream",
     "text": [
      "Enter the year  1800\n"
     ]
    },
    {
     "name": "stdout",
     "output_type": "stream",
     "text": [
      "Century not leap\n"
     ]
    }
   ],
   "source": [
    "# find out if its leap\n",
    "\n",
    "'''\n",
    "2020 => leap\n",
    "2017 => not leap\n",
    "2000 => leap\n",
    "1800 => not leap\n",
    "'''\n",
    "\n",
    "year = int(input('Enter the year '))\n",
    "\n",
    "if year % 4 == 0:\n",
    "    if year % 100 == 0:\n",
    "        if year % 400 == 0:\n",
    "            print('Century Leap Year')\n",
    "        else:    \n",
    "            print('Century not leap')\n",
    "    else:\n",
    "        print('Leap year')\n",
    "else:\n",
    "    print('Not Leap')"
   ]
  },
  {
   "cell_type": "code",
   "execution_count": 71,
   "id": "693758e2-8dfe-4e93-8bb7-804980930d51",
   "metadata": {},
   "outputs": [
    {
     "name": "stdin",
     "output_type": "stream",
     "text": [
      "Enter the physics marks  70\n",
      "Enter the chemistry marks  80\n",
      "Enter the maths marks  90\n"
     ]
    },
    {
     "name": "stdout",
     "output_type": "stream",
     "text": [
      "Percentage:  80.0\n",
      "SC\n"
     ]
    }
   ],
   "source": [
    "'''\n",
    "take the marks of 3 subjects out of 100 each\n",
    "if the total percentage =>\n",
    "> 80 => fc\n",
    "70 - 80 => sc\n",
    "60 - 70 => tc\n",
    "50 - 60 => pass\n",
    "<50 => fail\n",
    "'''\n",
    "\n",
    "physics = float(input('Enter the physics marks '))\n",
    "chem = float(input('Enter the chemistry marks '))\n",
    "maths = float(input('Enter the maths marks '))\n",
    "\n",
    "perc = (physics + chem + maths) * 100 / 300\n",
    "print('Percentage: ', perc)\n",
    "\n",
    "if perc > 80:\n",
    "    print('FC')\n",
    "elif perc > 70:\n",
    "    print('SC')\n",
    "elif perc > 60:\n",
    "    print('TC')\n",
    "elif perc > 50:\n",
    "    print('pass')\n",
    "else:\n",
    "    print('fail')"
   ]
  },
  {
   "cell_type": "code",
   "execution_count": 73,
   "id": "5f5dfc76-7248-4db3-bb85-b1a67020d835",
   "metadata": {},
   "outputs": [],
   "source": [
    "# menu driven programm"
   ]
  },
  {
   "cell_type": "code",
   "execution_count": 87,
   "id": "5317883e-b60f-4e00-bbe2-05403e49b14c",
   "metadata": {},
   "outputs": [
    {
     "name": "stdin",
     "output_type": "stream",
     "text": [
      "Enter the number:  10\n"
     ]
    },
    {
     "name": "stdout",
     "output_type": "stream",
     "text": [
      "MENU:\n",
      "1.SQUARE\n",
      "2.CUBE\n",
      "3.+VE OR -VE\n"
     ]
    },
    {
     "name": "stdin",
     "output_type": "stream",
     "text": [
      "SELECT YOUR CHOICE:  5\n"
     ]
    },
    {
     "name": "stdout",
     "output_type": "stream",
     "text": [
      "INVALID CHOICE\n"
     ]
    }
   ],
   "source": [
    "num = int(input('Enter the number: '))\n",
    "\n",
    "\n",
    "print('MENU:\\n1.SQUARE\\n2.CUBE\\n3.+VE OR -VE')\n",
    "\n",
    "ch = int(input('SELECT YOUR CHOICE: '))\n",
    "\n",
    "if ch == 1:\n",
    "    print('Square is: ', num * num)\n",
    "elif ch == 2:\n",
    "    print('Cube is: ', num ** 3)\n",
    "elif ch == 3:\n",
    "    if num > 0:\n",
    "        print('+VE')\n",
    "    else:\n",
    "        print('-VE')\n",
    "else:\n",
    "    print('INVALID CHOICE')"
   ]
  },
  {
   "cell_type": "code",
   "execution_count": 89,
   "id": "de3450e3-65e6-4a42-8e77-0f035c000bf8",
   "metadata": {},
   "outputs": [],
   "source": [
    "# read 2 numbers and perform add, substract, floor div,\n",
    "# which one is greater based on the choice"
   ]
  },
  {
   "cell_type": "code",
   "execution_count": 121,
   "id": "d650ac58-4da0-4306-a81e-d5600346cc4b",
   "metadata": {},
   "outputs": [],
   "source": [
    "a = 'level'"
   ]
  },
  {
   "cell_type": "code",
   "execution_count": 123,
   "id": "13c67c2c-227c-453e-a0e4-e2e6703959da",
   "metadata": {},
   "outputs": [
    {
     "data": {
      "text/plain": [
       "'level'"
      ]
     },
     "execution_count": 123,
     "metadata": {},
     "output_type": "execute_result"
    }
   ],
   "source": [
    "a[::-1]"
   ]
  },
  {
   "cell_type": "code",
   "execution_count": 103,
   "id": "4b680916-6eff-4765-a16b-441176f810cb",
   "metadata": {},
   "outputs": [
    {
     "data": {
      "text/plain": [
       "'dta'"
      ]
     },
     "execution_count": 103,
     "metadata": {},
     "output_type": "execute_result"
    }
   ],
   "source": [
    "a[1::2]"
   ]
  },
  {
   "cell_type": "code",
   "execution_count": 157,
   "id": "d6164234-dfd6-49da-93d2-5d72e89ba8f9",
   "metadata": {},
   "outputs": [
    {
     "name": "stdin",
     "output_type": "stream",
     "text": [
      "Enter the string:  Aditya\n"
     ]
    },
    {
     "name": "stdout",
     "output_type": "stream",
     "text": [
      "MENU:\n",
      "1.lower\n",
      "2.upper\n",
      "3.title\n",
      "4.length\n",
      "5.replace\n",
      "6.palindrome\n"
     ]
    },
    {
     "name": "stdin",
     "output_type": "stream",
     "text": [
      "Enter the choice 6\n"
     ]
    },
    {
     "name": "stdout",
     "output_type": "stream",
     "text": [
      "not palindrome\n"
     ]
    }
   ],
   "source": [
    "# read a string\n",
    "# lower, upper, title, how many alphabets are there, replace,\n",
    "# check palindrome or not => level = level\n",
    "\n",
    "name = input('Enter the string: ')\n",
    "\n",
    "print('MENU:\\n1.lower\\n2.upper\\n3.title\\n4.length\\n5.replace\\n6.palindrome')\n",
    "\n",
    "ch = int(input('Enter the choice'))\n",
    "\n",
    "if ch == 1:\n",
    "    print(name.lower())\n",
    "elif ch == 2:\n",
    "    print(name.upper())\n",
    "elif ch == 3:\n",
    "    print(name.title())\n",
    "elif ch == 4:\n",
    "    print(len(name))\n",
    "elif ch == 5:\n",
    "    to_rep = input('What to replace ')\n",
    "    rep_with = input('Replace with')\n",
    "    print(name.replace(to_rep, rep_with))\n",
    "elif ch == 6:\n",
    "    name = name.lower()\n",
    "    if name == name[::-1]:\n",
    "        print('palindrome')\n",
    "    else:\n",
    "        print('not palindrome')\n",
    "else:\n",
    "    print('Invlid Choice')"
   ]
  },
  {
   "cell_type": "code",
   "execution_count": null,
   "id": "31e2ffb6-3485-4ed5-9ea4-20adafd667dd",
   "metadata": {},
   "outputs": [],
   "source": []
  }
 ],
 "metadata": {
  "kernelspec": {
   "display_name": "Python 3 (ipykernel)",
   "language": "python",
   "name": "python3"
  },
  "language_info": {
   "codemirror_mode": {
    "name": "ipython",
    "version": 3
   },
   "file_extension": ".py",
   "mimetype": "text/x-python",
   "name": "python",
   "nbconvert_exporter": "python",
   "pygments_lexer": "ipython3",
   "version": "3.11.9"
  }
 },
 "nbformat": 4,
 "nbformat_minor": 5
}
