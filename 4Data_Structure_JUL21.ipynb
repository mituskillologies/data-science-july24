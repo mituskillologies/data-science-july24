{
 "cells": [
  {
   "cell_type": "markdown",
   "id": "64d0f8bc-1a4d-4af0-8ebd-0bd6be34e017",
   "metadata": {},
   "source": [
    "# List"
   ]
  },
  {
   "cell_type": "code",
   "execution_count": 41,
   "id": "46339fd8-0451-49a6-a5e4-b4ff4860b9e6",
   "metadata": {},
   "outputs": [],
   "source": [
    "l = [12, 34, 52, 67, 31]"
   ]
  },
  {
   "cell_type": "code",
   "execution_count": 5,
   "id": "7b6f7195-b574-4708-b2d8-351e3613aa81",
   "metadata": {},
   "outputs": [
    {
     "name": "stdout",
     "output_type": "stream",
     "text": [
      "[12, 34, 52, 67, 31]\n"
     ]
    }
   ],
   "source": [
    "print(l)"
   ]
  },
  {
   "cell_type": "code",
   "execution_count": 7,
   "id": "ee4b8dcf-436b-42bd-b933-ded35f15fff4",
   "metadata": {},
   "outputs": [
    {
     "data": {
      "text/plain": [
       "list"
      ]
     },
     "execution_count": 7,
     "metadata": {},
     "output_type": "execute_result"
    }
   ],
   "source": [
    "type(l)"
   ]
  },
  {
   "cell_type": "code",
   "execution_count": 15,
   "id": "667305f3-374b-4908-8244-ea6601413efe",
   "metadata": {},
   "outputs": [],
   "source": [
    "l1 = [12, 34, 77.32, 'Aditya', True]\n",
    "# heterogeneous"
   ]
  },
  {
   "cell_type": "code",
   "execution_count": 17,
   "id": "6371f8a8-a5d6-4444-b6af-c26dc075049c",
   "metadata": {},
   "outputs": [
    {
     "name": "stdout",
     "output_type": "stream",
     "text": [
      "[12, 34, 77.32, 'Aditya', True]\n"
     ]
    }
   ],
   "source": [
    "print(l1)"
   ]
  },
  {
   "cell_type": "code",
   "execution_count": 19,
   "id": "c32015f8-7ee4-4953-a6ca-6b0f34ebd9b3",
   "metadata": {},
   "outputs": [
    {
     "data": {
      "text/plain": [
       "list"
      ]
     },
     "execution_count": 19,
     "metadata": {},
     "output_type": "execute_result"
    }
   ],
   "source": [
    "type(l1)"
   ]
  },
  {
   "cell_type": "code",
   "execution_count": 47,
   "id": "ad110cb5-0bbc-4d50-bb33-c149744b07a7",
   "metadata": {},
   "outputs": [
    {
     "data": {
      "text/plain": [
       "[12, 34, 52, 67, 31]"
      ]
     },
     "execution_count": 47,
     "metadata": {},
     "output_type": "execute_result"
    }
   ],
   "source": [
    "l"
   ]
  },
  {
   "cell_type": "code",
   "execution_count": 35,
   "id": "4d5be043-c33e-4045-b28e-41ae5e34fe57",
   "metadata": {},
   "outputs": [],
   "source": [
    "# access the data"
   ]
  },
  {
   "cell_type": "code",
   "execution_count": 43,
   "id": "d344d360-8203-41f1-bfec-ea49b9164bda",
   "metadata": {},
   "outputs": [
    {
     "data": {
      "text/plain": [
       "34"
      ]
     },
     "execution_count": 43,
     "metadata": {},
     "output_type": "execute_result"
    }
   ],
   "source": [
    "l[1]  # ordered"
   ]
  },
  {
   "cell_type": "code",
   "execution_count": 45,
   "id": "8e9bf4dd-e336-4492-989a-f0f14f8f885b",
   "metadata": {},
   "outputs": [
    {
     "data": {
      "text/plain": [
       "12"
      ]
     },
     "execution_count": 45,
     "metadata": {},
     "output_type": "execute_result"
    }
   ],
   "source": [
    "l[0]"
   ]
  },
  {
   "cell_type": "code",
   "execution_count": 49,
   "id": "8f6971fb-de38-46f4-98d9-8ae63a775604",
   "metadata": {},
   "outputs": [
    {
     "data": {
      "text/plain": [
       "31"
      ]
     },
     "execution_count": 49,
     "metadata": {},
     "output_type": "execute_result"
    }
   ],
   "source": [
    "l[-1]"
   ]
  },
  {
   "cell_type": "code",
   "execution_count": 51,
   "id": "e4d0a890-8acc-487b-bfe8-b8b33549938e",
   "metadata": {},
   "outputs": [],
   "source": [
    "# changing the data"
   ]
  },
  {
   "cell_type": "code",
   "execution_count": 53,
   "id": "a1b72836-3a22-4b04-b0f3-32f008662070",
   "metadata": {},
   "outputs": [],
   "source": [
    "l[2] = 100"
   ]
  },
  {
   "cell_type": "code",
   "execution_count": 57,
   "id": "44817a96-ef29-4900-9fd9-530c99f0355f",
   "metadata": {},
   "outputs": [
    {
     "data": {
      "text/plain": [
       "[12, 34, 100, 67, 31]"
      ]
     },
     "execution_count": 57,
     "metadata": {},
     "output_type": "execute_result"
    }
   ],
   "source": [
    "l   # mutable"
   ]
  },
  {
   "cell_type": "code",
   "execution_count": 59,
   "id": "2d5ab6c1-2346-4e54-9f58-a859b042e5bb",
   "metadata": {},
   "outputs": [],
   "source": [
    "l[-2] = 100"
   ]
  },
  {
   "cell_type": "code",
   "execution_count": 63,
   "id": "c98f8a5b-365b-45ce-850c-3f0842521be1",
   "metadata": {},
   "outputs": [
    {
     "data": {
      "text/plain": [
       "[12, 34, 100, 100, 31]"
      ]
     },
     "execution_count": 63,
     "metadata": {},
     "output_type": "execute_result"
    }
   ],
   "source": [
    "l   # duplicates"
   ]
  },
  {
   "cell_type": "code",
   "execution_count": 65,
   "id": "a357deb9-9c9e-4183-b177-d0d267460572",
   "metadata": {},
   "outputs": [],
   "source": [
    "# slicing"
   ]
  },
  {
   "cell_type": "code",
   "execution_count": 67,
   "id": "f4f73dd7-776c-430a-9b80-0f115acb694c",
   "metadata": {},
   "outputs": [
    {
     "data": {
      "text/plain": [
       "[12, 34, 100, 100, 31]"
      ]
     },
     "execution_count": 67,
     "metadata": {},
     "output_type": "execute_result"
    }
   ],
   "source": [
    "l"
   ]
  },
  {
   "cell_type": "code",
   "execution_count": 69,
   "id": "4a99805e-9dfd-499e-aad5-ea1e7edff5cc",
   "metadata": {},
   "outputs": [
    {
     "data": {
      "text/plain": [
       "[34, 100, 100]"
      ]
     },
     "execution_count": 69,
     "metadata": {},
     "output_type": "execute_result"
    }
   ],
   "source": [
    "l[1:4]"
   ]
  },
  {
   "cell_type": "code",
   "execution_count": 71,
   "id": "0dc706b3-9955-4028-b5ee-e26a4fa59b9e",
   "metadata": {},
   "outputs": [],
   "source": [
    "l2 = l[1:4]"
   ]
  },
  {
   "cell_type": "code",
   "execution_count": 73,
   "id": "305089a5-1b8f-4f66-aeb4-e0b9490b37c1",
   "metadata": {},
   "outputs": [
    {
     "data": {
      "text/plain": [
       "[34, 100, 100]"
      ]
     },
     "execution_count": 73,
     "metadata": {},
     "output_type": "execute_result"
    }
   ],
   "source": [
    "l2"
   ]
  },
  {
   "cell_type": "code",
   "execution_count": 77,
   "id": "f767bb7d-cd4b-4c18-b5dc-6ccc0d9c02bd",
   "metadata": {},
   "outputs": [
    {
     "data": {
      "text/plain": [
       "[12, 34, 100, 100]"
      ]
     },
     "execution_count": 77,
     "metadata": {},
     "output_type": "execute_result"
    }
   ],
   "source": [
    "l[:4]"
   ]
  },
  {
   "cell_type": "code",
   "execution_count": 79,
   "id": "37618202-793b-4f89-873b-8d7682aa1995",
   "metadata": {},
   "outputs": [
    {
     "data": {
      "text/plain": [
       "[34, 100, 100, 31]"
      ]
     },
     "execution_count": 79,
     "metadata": {},
     "output_type": "execute_result"
    }
   ],
   "source": [
    "l[1:]"
   ]
  },
  {
   "cell_type": "code",
   "execution_count": 81,
   "id": "74951798-a2f7-42ee-b747-8acc7c3d0a81",
   "metadata": {},
   "outputs": [
    {
     "data": {
      "text/plain": [
       "[12, 34, 100, 100, 31]"
      ]
     },
     "execution_count": 81,
     "metadata": {},
     "output_type": "execute_result"
    }
   ],
   "source": [
    "l"
   ]
  },
  {
   "cell_type": "code",
   "execution_count": 85,
   "id": "e1d741fe-8fc4-4b1a-8b15-6280602cffba",
   "metadata": {},
   "outputs": [
    {
     "data": {
      "text/plain": [
       "[34, 100, 100]"
      ]
     },
     "execution_count": 85,
     "metadata": {},
     "output_type": "execute_result"
    }
   ],
   "source": [
    "l[1:-1]"
   ]
  },
  {
   "cell_type": "code",
   "execution_count": 87,
   "id": "8dc894fc-81d2-4053-9aa7-ffd13f5a1edb",
   "metadata": {},
   "outputs": [],
   "source": [
    "l1 = [12, 34, 45, 64, 76, 42, 11, 78]"
   ]
  },
  {
   "cell_type": "code",
   "execution_count": 91,
   "id": "9d79bad3-f108-48d9-9792-9a2a8c6b8e1c",
   "metadata": {},
   "outputs": [
    {
     "data": {
      "text/plain": [
       "[34, 64, 42]"
      ]
     },
     "execution_count": 91,
     "metadata": {},
     "output_type": "execute_result"
    }
   ],
   "source": [
    "l1[1:7:2]"
   ]
  },
  {
   "cell_type": "code",
   "execution_count": 93,
   "id": "b5bfc107-3085-43ba-9fc7-025984bb4c31",
   "metadata": {},
   "outputs": [],
   "source": [
    "l1[1:7:2] = [20, 30, 40]"
   ]
  },
  {
   "cell_type": "code",
   "execution_count": 95,
   "id": "818be604-b12e-448c-a023-9dd4891738e4",
   "metadata": {},
   "outputs": [
    {
     "data": {
      "text/plain": [
       "[12, 20, 45, 30, 76, 40, 11, 78]"
      ]
     },
     "execution_count": 95,
     "metadata": {},
     "output_type": "execute_result"
    }
   ],
   "source": [
    "l1"
   ]
  },
  {
   "cell_type": "code",
   "execution_count": 97,
   "id": "005fd9ae-658e-4269-9cf8-5a84a65669f9",
   "metadata": {},
   "outputs": [],
   "source": [
    "# delete the data"
   ]
  },
  {
   "cell_type": "code",
   "execution_count": 99,
   "id": "bd2b22bd-f750-4ac6-aa22-fee3df8d8aef",
   "metadata": {},
   "outputs": [],
   "source": [
    "del l1[3]"
   ]
  },
  {
   "cell_type": "code",
   "execution_count": 101,
   "id": "b916211e-eed2-4d9a-9856-2a82f0658c53",
   "metadata": {},
   "outputs": [
    {
     "data": {
      "text/plain": [
       "[12, 20, 45, 76, 40, 11, 78]"
      ]
     },
     "execution_count": 101,
     "metadata": {},
     "output_type": "execute_result"
    }
   ],
   "source": [
    "l1"
   ]
  },
  {
   "cell_type": "code",
   "execution_count": 103,
   "id": "0c0178d7-6a1b-467c-9572-b8cd4e7608d6",
   "metadata": {},
   "outputs": [],
   "source": [
    "del l1"
   ]
  },
  {
   "cell_type": "code",
   "execution_count": 105,
   "id": "1bb2bf56-6248-432d-82f5-0781977facdf",
   "metadata": {},
   "outputs": [
    {
     "ename": "NameError",
     "evalue": "name 'l1' is not defined",
     "output_type": "error",
     "traceback": [
      "\u001b[0;31m---------------------------------------------------------------------------\u001b[0m",
      "\u001b[0;31mNameError\u001b[0m                                 Traceback (most recent call last)",
      "Cell \u001b[0;32mIn[105], line 1\u001b[0m\n\u001b[0;32m----> 1\u001b[0m l1\n",
      "\u001b[0;31mNameError\u001b[0m: name 'l1' is not defined"
     ]
    }
   ],
   "source": [
    "l1"
   ]
  },
  {
   "cell_type": "code",
   "execution_count": 107,
   "id": "c59e3851-d533-41af-bd53-485f7a3e90fa",
   "metadata": {},
   "outputs": [],
   "source": [
    "l1 = [12, 34, 45, 64, 76, 42, 11, 78]"
   ]
  },
  {
   "cell_type": "code",
   "execution_count": 109,
   "id": "b484cb43-cdee-4832-b92c-22144b15a612",
   "metadata": {},
   "outputs": [],
   "source": [
    "# in operator"
   ]
  },
  {
   "cell_type": "code",
   "execution_count": 111,
   "id": "e82be13c-ba0a-4378-93a9-426d78b3331c",
   "metadata": {},
   "outputs": [
    {
     "data": {
      "text/plain": [
       "False"
      ]
     },
     "execution_count": 111,
     "metadata": {},
     "output_type": "execute_result"
    }
   ],
   "source": [
    "100 in l1"
   ]
  },
  {
   "cell_type": "code",
   "execution_count": 113,
   "id": "4ab5f35c-8eab-41f3-86b6-1bdc7421cb76",
   "metadata": {},
   "outputs": [
    {
     "data": {
      "text/plain": [
       "True"
      ]
     },
     "execution_count": 113,
     "metadata": {},
     "output_type": "execute_result"
    }
   ],
   "source": [
    "12 in l1"
   ]
  },
  {
   "cell_type": "code",
   "execution_count": 115,
   "id": "0f9dcc44-d54f-4559-b3ad-b48cb253d29a",
   "metadata": {},
   "outputs": [],
   "source": [
    "# arithmetic operator"
   ]
  },
  {
   "cell_type": "code",
   "execution_count": 117,
   "id": "f63173f7-02aa-4591-819e-d246af6f01c9",
   "metadata": {},
   "outputs": [
    {
     "data": {
      "text/plain": [
       "[12, 34, 45, 64, 76, 42, 11, 78]"
      ]
     },
     "execution_count": 117,
     "metadata": {},
     "output_type": "execute_result"
    }
   ],
   "source": [
    "l1"
   ]
  },
  {
   "cell_type": "code",
   "execution_count": 119,
   "id": "f6a6c94e-c377-47f6-83b3-d7f77a9e45d4",
   "metadata": {},
   "outputs": [
    {
     "data": {
      "text/plain": [
       "[12, 34, 45, 64, 76, 42, 11, 78, 12, 34, 45, 64, 76, 42, 11, 78]"
      ]
     },
     "execution_count": 119,
     "metadata": {},
     "output_type": "execute_result"
    }
   ],
   "source": [
    "l1 * 2"
   ]
  },
  {
   "cell_type": "code",
   "execution_count": 121,
   "id": "07d26a56-2223-4e9a-a83a-c6b394a88371",
   "metadata": {},
   "outputs": [
    {
     "data": {
      "text/plain": [
       "[12, 34, 45, 64, 76, 42, 11, 78, 200, 300]"
      ]
     },
     "execution_count": 121,
     "metadata": {},
     "output_type": "execute_result"
    }
   ],
   "source": [
    "l1 + [200, 300]"
   ]
  },
  {
   "cell_type": "code",
   "execution_count": 125,
   "id": "28394847-c2a6-41ef-bbdd-7fffe625886f",
   "metadata": {},
   "outputs": [
    {
     "data": {
      "text/plain": [
       "[12, 34, 45, 64, 76, 42, 11, 78, 10]"
      ]
     },
     "execution_count": 125,
     "metadata": {},
     "output_type": "execute_result"
    }
   ],
   "source": [
    "l1 + [10]"
   ]
  },
  {
   "cell_type": "code",
   "execution_count": 129,
   "id": "73df6530-de22-4221-b960-130c7fe2f421",
   "metadata": {},
   "outputs": [
    {
     "data": {
      "text/plain": [
       "[12, 34, 45, 64, 76, 42, 11, 78]"
      ]
     },
     "execution_count": 129,
     "metadata": {},
     "output_type": "execute_result"
    }
   ],
   "source": [
    "l1"
   ]
  },
  {
   "cell_type": "code",
   "execution_count": 127,
   "id": "9a4446e6-7f0e-4a09-9ee1-d4f8c5b7d5b8",
   "metadata": {},
   "outputs": [],
   "source": [
    "# iterating over a list"
   ]
  },
  {
   "cell_type": "code",
   "execution_count": 131,
   "id": "ce4603fe-eadd-40ec-9e8f-79f9d4301707",
   "metadata": {},
   "outputs": [
    {
     "name": "stdout",
     "output_type": "stream",
     "text": [
      "12 34 45 64 76 42 11 78 "
     ]
    }
   ],
   "source": [
    "for i in l1:\n",
    "    print(i, end = ' ')"
   ]
  },
  {
   "cell_type": "code",
   "execution_count": 133,
   "id": "b7b4e2df-5b47-4c05-a8b4-bc8ad93d4657",
   "metadata": {},
   "outputs": [
    {
     "name": "stdout",
     "output_type": "stream",
     "text": [
      "45 11 "
     ]
    }
   ],
   "source": [
    "# write a program to print odd numbers from the list\n",
    "\n",
    "for i in l1:\n",
    "    if i % 2 == 1:\n",
    "        print(i, end = ' ')"
   ]
  },
  {
   "cell_type": "markdown",
   "id": "6463478e-cf4d-4f17-8de0-bbadbc8677d5",
   "metadata": {},
   "source": [
    "### List Comprehension"
   ]
  },
  {
   "cell_type": "code",
   "execution_count": 136,
   "id": "d7e65c2e-6041-40cb-aead-f118e3cac764",
   "metadata": {},
   "outputs": [
    {
     "data": {
      "text/plain": [
       "[12, 34, 45, 64, 76, 42, 11, 78]"
      ]
     },
     "execution_count": 136,
     "metadata": {},
     "output_type": "execute_result"
    }
   ],
   "source": [
    "l1"
   ]
  },
  {
   "cell_type": "code",
   "execution_count": 138,
   "id": "c0e439e5-b10b-4876-a7a3-0360f7a7938f",
   "metadata": {},
   "outputs": [],
   "source": [
    "# map"
   ]
  },
  {
   "cell_type": "code",
   "execution_count": 140,
   "id": "ad454e81-bb04-408a-a0f9-8fe9203afaf2",
   "metadata": {},
   "outputs": [],
   "source": [
    "a = [n/2 for n in l1]"
   ]
  },
  {
   "cell_type": "code",
   "execution_count": 142,
   "id": "25ea47ca-12a0-4984-9a38-c1ef585d29d7",
   "metadata": {},
   "outputs": [
    {
     "data": {
      "text/plain": [
       "[6.0, 17.0, 22.5, 32.0, 38.0, 21.0, 5.5, 39.0]"
      ]
     },
     "execution_count": 142,
     "metadata": {},
     "output_type": "execute_result"
    }
   ],
   "source": [
    "a"
   ]
  },
  {
   "cell_type": "code",
   "execution_count": 144,
   "id": "2a19326a-5f4a-48ff-93ae-9c8acb44daab",
   "metadata": {},
   "outputs": [
    {
     "data": {
      "text/plain": [
       "list"
      ]
     },
     "execution_count": 144,
     "metadata": {},
     "output_type": "execute_result"
    }
   ],
   "source": [
    "type(a)"
   ]
  },
  {
   "cell_type": "code",
   "execution_count": 146,
   "id": "9d9f2742-47c2-4ac8-9c20-87fed534502f",
   "metadata": {},
   "outputs": [
    {
     "data": {
      "text/plain": [
       "[144, 1156, 2025, 4096, 5776, 1764, 121, 6084]"
      ]
     },
     "execution_count": 146,
     "metadata": {},
     "output_type": "execute_result"
    }
   ],
   "source": [
    "[n*n for n in l1]"
   ]
  },
  {
   "cell_type": "code",
   "execution_count": 150,
   "id": "9047cf56-ec04-411e-a605-cb2a7d557f64",
   "metadata": {},
   "outputs": [
    {
     "data": {
      "text/plain": [
       "[12, 34, 45, 64, 76, 42, 11, 78]"
      ]
     },
     "execution_count": 150,
     "metadata": {},
     "output_type": "execute_result"
    }
   ],
   "source": [
    "l1"
   ]
  },
  {
   "cell_type": "code",
   "execution_count": 148,
   "id": "0b498f7e-dbe7-4199-b5bd-9f4dd0e23dc8",
   "metadata": {},
   "outputs": [],
   "source": [
    "# filter"
   ]
  },
  {
   "cell_type": "code",
   "execution_count": 152,
   "id": "1883b055-224b-4a71-8dba-13fbd646fd63",
   "metadata": {},
   "outputs": [],
   "source": [
    "b = [n for n in l1 if n > 40]"
   ]
  },
  {
   "cell_type": "code",
   "execution_count": 154,
   "id": "0f4f69e3-282c-4647-9cf1-61bff0cabd66",
   "metadata": {},
   "outputs": [
    {
     "data": {
      "text/plain": [
       "[45, 64, 76, 42, 78]"
      ]
     },
     "execution_count": 154,
     "metadata": {},
     "output_type": "execute_result"
    }
   ],
   "source": [
    "b"
   ]
  },
  {
   "cell_type": "code",
   "execution_count": 156,
   "id": "6430f7c2-e24e-424a-bdb2-779e6204c4d4",
   "metadata": {},
   "outputs": [
    {
     "data": {
      "text/plain": [
       "[12, 34, 64, 76, 42, 78]"
      ]
     },
     "execution_count": 156,
     "metadata": {},
     "output_type": "execute_result"
    }
   ],
   "source": [
    "# only even numbers\n",
    "\n",
    "[n for n in l1 if n % 2 == 0]"
   ]
  },
  {
   "cell_type": "code",
   "execution_count": 178,
   "id": "2b4b3521-3d0f-4a67-971a-65b29952965a",
   "metadata": {},
   "outputs": [],
   "source": [
    "names = ['Prajjwal', 'soham', 'Shalini', 'Pushkaraj', 'Aditya']"
   ]
  },
  {
   "cell_type": "code",
   "execution_count": 180,
   "id": "e0c4004f-4dda-49aa-a668-123b468cea70",
   "metadata": {},
   "outputs": [],
   "source": [
    "# print names which starts with \"s\""
   ]
  },
  {
   "cell_type": "code",
   "execution_count": 184,
   "id": "eb311df8-0a75-4020-b885-505944d62b44",
   "metadata": {},
   "outputs": [
    {
     "data": {
      "text/plain": [
       "['soham', 'Shalini']"
      ]
     },
     "execution_count": 184,
     "metadata": {},
     "output_type": "execute_result"
    }
   ],
   "source": [
    "[n for n in names if n.lower().startswith('s')]"
   ]
  },
  {
   "cell_type": "markdown",
   "id": "aa6a5e28-37a7-47dd-8023-e1e5cc915a81",
   "metadata": {},
   "source": [
    "##### empty list"
   ]
  },
  {
   "cell_type": "code",
   "execution_count": 189,
   "id": "f4922df6-c6eb-4ca4-876c-5aa24d437761",
   "metadata": {},
   "outputs": [],
   "source": [
    "e = []"
   ]
  },
  {
   "cell_type": "code",
   "execution_count": 191,
   "id": "aa5fbd4f-8453-43d8-a4e3-44d8d6dac921",
   "metadata": {},
   "outputs": [
    {
     "data": {
      "text/plain": [
       "list"
      ]
     },
     "execution_count": 191,
     "metadata": {},
     "output_type": "execute_result"
    }
   ],
   "source": [
    "type(e)"
   ]
  },
  {
   "cell_type": "code",
   "execution_count": 193,
   "id": "fe103b6f-62ec-4039-a286-15f9b1a01c4c",
   "metadata": {},
   "outputs": [
    {
     "ename": "IndexError",
     "evalue": "list index out of range",
     "output_type": "error",
     "traceback": [
      "\u001b[0;31m---------------------------------------------------------------------------\u001b[0m",
      "\u001b[0;31mIndexError\u001b[0m                                Traceback (most recent call last)",
      "Cell \u001b[0;32mIn[193], line 1\u001b[0m\n\u001b[0;32m----> 1\u001b[0m e[\u001b[38;5;241m0\u001b[39m]\n",
      "\u001b[0;31mIndexError\u001b[0m: list index out of range"
     ]
    }
   ],
   "source": [
    "e[0]"
   ]
  },
  {
   "cell_type": "code",
   "execution_count": 195,
   "id": "10b80275-5072-4b27-9953-8c26905702ea",
   "metadata": {},
   "outputs": [
    {
     "data": {
      "text/plain": [
       "[10]"
      ]
     },
     "execution_count": 195,
     "metadata": {},
     "output_type": "execute_result"
    }
   ],
   "source": [
    "e = e + [10]\n",
    "e"
   ]
  },
  {
   "cell_type": "markdown",
   "id": "5ca9b2e6-a081-4900-bf87-61dbf1ba7918",
   "metadata": {},
   "source": [
    "### list decomposition"
   ]
  },
  {
   "cell_type": "code",
   "execution_count": 198,
   "id": "ba7f0d9f-7993-4283-89e9-976578b31e40",
   "metadata": {},
   "outputs": [],
   "source": [
    "l5 = [12, 34, 56]"
   ]
  },
  {
   "cell_type": "code",
   "execution_count": 200,
   "id": "2aafe110-f1b1-4414-a73e-e9fa7b40f416",
   "metadata": {},
   "outputs": [],
   "source": [
    "x, y, z = l5"
   ]
  },
  {
   "cell_type": "code",
   "execution_count": 202,
   "id": "027691fd-9c0d-4908-a15d-56ddbe3da5f7",
   "metadata": {},
   "outputs": [
    {
     "data": {
      "text/plain": [
       "12"
      ]
     },
     "execution_count": 202,
     "metadata": {},
     "output_type": "execute_result"
    }
   ],
   "source": [
    "x"
   ]
  },
  {
   "cell_type": "code",
   "execution_count": 204,
   "id": "cbb13a3f-3287-40e1-aff4-42ba8f82f4c2",
   "metadata": {},
   "outputs": [
    {
     "data": {
      "text/plain": [
       "34"
      ]
     },
     "execution_count": 204,
     "metadata": {},
     "output_type": "execute_result"
    }
   ],
   "source": [
    "y"
   ]
  },
  {
   "cell_type": "code",
   "execution_count": 206,
   "id": "3202dfc7-2398-49f7-b9ac-a74f4bf99564",
   "metadata": {},
   "outputs": [
    {
     "data": {
      "text/plain": [
       "56"
      ]
     },
     "execution_count": 206,
     "metadata": {},
     "output_type": "execute_result"
    }
   ],
   "source": [
    "z"
   ]
  },
  {
   "cell_type": "markdown",
   "id": "e1a7503a-9a32-4188-944b-4969e6149e7d",
   "metadata": {},
   "source": [
    "#### functions"
   ]
  },
  {
   "cell_type": "code",
   "execution_count": 211,
   "id": "847182a2-88a7-45c7-baca-6ac414d20047",
   "metadata": {},
   "outputs": [
    {
     "data": {
      "text/plain": [
       "[12, 34, 45, 64, 76, 42, 11, 78]"
      ]
     },
     "execution_count": 211,
     "metadata": {},
     "output_type": "execute_result"
    }
   ],
   "source": [
    "l1"
   ]
  },
  {
   "cell_type": "code",
   "execution_count": 213,
   "id": "5e69f2ce-a738-45ce-81e7-0bcac5b9fa64",
   "metadata": {},
   "outputs": [
    {
     "data": {
      "text/plain": [
       "8"
      ]
     },
     "execution_count": 213,
     "metadata": {},
     "output_type": "execute_result"
    }
   ],
   "source": [
    "len(l1)"
   ]
  },
  {
   "cell_type": "code",
   "execution_count": 215,
   "id": "645bb704-1c2b-443c-aa05-028c1ebfac90",
   "metadata": {},
   "outputs": [
    {
     "data": {
      "text/plain": [
       "11"
      ]
     },
     "execution_count": 215,
     "metadata": {},
     "output_type": "execute_result"
    }
   ],
   "source": [
    "min(l1)"
   ]
  },
  {
   "cell_type": "code",
   "execution_count": 217,
   "id": "f59be855-7e5d-43f5-998b-2ee7b0ee308f",
   "metadata": {},
   "outputs": [
    {
     "data": {
      "text/plain": [
       "78"
      ]
     },
     "execution_count": 217,
     "metadata": {},
     "output_type": "execute_result"
    }
   ],
   "source": [
    "max(l1)"
   ]
  },
  {
   "cell_type": "code",
   "execution_count": 219,
   "id": "81619a1c-23ca-458a-810b-c5ab8488b6d1",
   "metadata": {},
   "outputs": [
    {
     "data": {
      "text/plain": [
       "[11, 12, 34, 42, 45, 64, 76, 78]"
      ]
     },
     "execution_count": 219,
     "metadata": {},
     "output_type": "execute_result"
    }
   ],
   "source": [
    "sorted(l1)"
   ]
  },
  {
   "cell_type": "code",
   "execution_count": 221,
   "id": "056a941c-cf97-40fa-8e47-20026f2b801f",
   "metadata": {},
   "outputs": [
    {
     "data": {
      "text/plain": [
       "[78, 76, 64, 45, 42, 34, 12, 11]"
      ]
     },
     "execution_count": 221,
     "metadata": {},
     "output_type": "execute_result"
    }
   ],
   "source": [
    "sorted(l1, reverse= True)"
   ]
  },
  {
   "cell_type": "code",
   "execution_count": 223,
   "id": "15bbf35d-c234-4ee0-8c8e-db090d32a838",
   "metadata": {},
   "outputs": [],
   "source": [
    "name = 'Aditya'"
   ]
  },
  {
   "cell_type": "code",
   "execution_count": 225,
   "id": "76a4232b-a692-42eb-90d6-96f75ad54563",
   "metadata": {},
   "outputs": [
    {
     "data": {
      "text/plain": [
       "['A', 'd', 'i', 't', 'y', 'a']"
      ]
     },
     "execution_count": 225,
     "metadata": {},
     "output_type": "execute_result"
    }
   ],
   "source": [
    "list(name)"
   ]
  },
  {
   "cell_type": "markdown",
   "id": "95dc465a-50d9-4085-a8e6-d6875d1bb998",
   "metadata": {},
   "source": [
    "### methods"
   ]
  },
  {
   "cell_type": "code",
   "execution_count": 228,
   "id": "0bdbc519-cf0e-49ed-af56-42c7f3a2d1d1",
   "metadata": {},
   "outputs": [
    {
     "data": {
      "text/plain": [
       "[12, 34, 45, 64, 76, 42, 11, 78]"
      ]
     },
     "execution_count": 228,
     "metadata": {},
     "output_type": "execute_result"
    }
   ],
   "source": [
    "l1"
   ]
  },
  {
   "cell_type": "code",
   "execution_count": 230,
   "id": "a84ed500-e5c5-484f-a2a4-130a8790fbb6",
   "metadata": {},
   "outputs": [],
   "source": [
    "l1.append(200)"
   ]
  },
  {
   "cell_type": "code",
   "execution_count": 232,
   "id": "5ca138e8-a089-42f8-a819-4e17ef78cfae",
   "metadata": {},
   "outputs": [
    {
     "data": {
      "text/plain": [
       "[12, 34, 45, 64, 76, 42, 11, 78, 200]"
      ]
     },
     "execution_count": 232,
     "metadata": {},
     "output_type": "execute_result"
    }
   ],
   "source": [
    "l1"
   ]
  },
  {
   "cell_type": "code",
   "execution_count": 234,
   "id": "af0c05a6-75bb-4feb-a095-d281a7feb3c2",
   "metadata": {},
   "outputs": [],
   "source": [
    "# append and extend"
   ]
  },
  {
   "cell_type": "code",
   "execution_count": 236,
   "id": "09a1952a-744f-4274-b3d5-be13c2e54af3",
   "metadata": {},
   "outputs": [],
   "source": [
    "a = [1, 2, 3]\n",
    "b = [1, 2, 3]"
   ]
  },
  {
   "cell_type": "code",
   "execution_count": 238,
   "id": "6d77ce95-47be-4075-87d1-cc6fa3cfde90",
   "metadata": {},
   "outputs": [],
   "source": [
    "a.append([4, 5])\n",
    "b.extend([4, 5])"
   ]
  },
  {
   "cell_type": "code",
   "execution_count": 240,
   "id": "0e2dafd9-7b77-4491-9617-c2e7e7dc04bb",
   "metadata": {},
   "outputs": [
    {
     "data": {
      "text/plain": [
       "[1, 2, 3, [4, 5]]"
      ]
     },
     "execution_count": 240,
     "metadata": {},
     "output_type": "execute_result"
    }
   ],
   "source": [
    "a"
   ]
  },
  {
   "cell_type": "code",
   "execution_count": 242,
   "id": "e3333a9c-f067-428e-9457-9fe62c35176c",
   "metadata": {},
   "outputs": [
    {
     "data": {
      "text/plain": [
       "[1, 2, 3, 4, 5]"
      ]
     },
     "execution_count": 242,
     "metadata": {},
     "output_type": "execute_result"
    }
   ],
   "source": [
    "b"
   ]
  },
  {
   "cell_type": "code",
   "execution_count": 244,
   "id": "f3036f89-68e8-4a5d-b214-4e58c7ad05c4",
   "metadata": {},
   "outputs": [
    {
     "data": {
      "text/plain": [
       "[4, 5]"
      ]
     },
     "execution_count": 244,
     "metadata": {},
     "output_type": "execute_result"
    }
   ],
   "source": [
    "a[3]"
   ]
  },
  {
   "cell_type": "code",
   "execution_count": 248,
   "id": "8e9397ea-8ac2-4c56-b02a-13d00f61e21b",
   "metadata": {},
   "outputs": [
    {
     "data": {
      "text/plain": [
       "5"
      ]
     },
     "execution_count": 248,
     "metadata": {},
     "output_type": "execute_result"
    }
   ],
   "source": [
    "a[-1][1]"
   ]
  },
  {
   "cell_type": "code",
   "execution_count": 250,
   "id": "47170606-d242-4490-b981-6cba87409de2",
   "metadata": {},
   "outputs": [],
   "source": [
    "# insert"
   ]
  },
  {
   "cell_type": "code",
   "execution_count": 252,
   "id": "d5da2d39-3068-4fae-9963-422993c1251b",
   "metadata": {},
   "outputs": [
    {
     "data": {
      "text/plain": [
       "[12, 34, 45, 64, 76, 42, 11, 78, 200]"
      ]
     },
     "execution_count": 252,
     "metadata": {},
     "output_type": "execute_result"
    }
   ],
   "source": [
    "l1"
   ]
  },
  {
   "cell_type": "code",
   "execution_count": 254,
   "id": "8f2f1bba-7d76-4133-9818-89b8821ecb01",
   "metadata": {},
   "outputs": [],
   "source": [
    "l1.insert(3, 100)"
   ]
  },
  {
   "cell_type": "code",
   "execution_count": 256,
   "id": "4c9d97ef-fa8e-4261-bcc3-460744db2590",
   "metadata": {},
   "outputs": [
    {
     "data": {
      "text/plain": [
       "[12, 34, 45, 100, 64, 76, 42, 11, 78, 200]"
      ]
     },
     "execution_count": 256,
     "metadata": {},
     "output_type": "execute_result"
    }
   ],
   "source": [
    "l1"
   ]
  },
  {
   "cell_type": "code",
   "execution_count": 258,
   "id": "ab81babc-95c8-41f4-bc03-8c29cd61c6a1",
   "metadata": {},
   "outputs": [],
   "source": [
    "# remove"
   ]
  },
  {
   "cell_type": "code",
   "execution_count": 260,
   "id": "7c7d112b-8149-4696-9460-206f31271993",
   "metadata": {},
   "outputs": [],
   "source": [
    "l1.remove(100)"
   ]
  },
  {
   "cell_type": "code",
   "execution_count": 262,
   "id": "76a0385c-62b1-43d1-a5db-25eb3f998e21",
   "metadata": {},
   "outputs": [
    {
     "data": {
      "text/plain": [
       "[12, 34, 45, 64, 76, 42, 11, 78, 200]"
      ]
     },
     "execution_count": 262,
     "metadata": {},
     "output_type": "execute_result"
    }
   ],
   "source": [
    "l1"
   ]
  },
  {
   "cell_type": "code",
   "execution_count": 264,
   "id": "392c52e3-2a9e-42d7-ae1c-9bf5fb0aee4a",
   "metadata": {},
   "outputs": [
    {
     "data": {
      "text/plain": [
       "3"
      ]
     },
     "execution_count": 264,
     "metadata": {},
     "output_type": "execute_result"
    }
   ],
   "source": [
    "l1.index(64)"
   ]
  },
  {
   "cell_type": "code",
   "execution_count": 266,
   "id": "6a787e59-7a48-4a8c-bff6-0b36375a952b",
   "metadata": {},
   "outputs": [
    {
     "data": {
      "text/plain": [
       "1"
      ]
     },
     "execution_count": 266,
     "metadata": {},
     "output_type": "execute_result"
    }
   ],
   "source": [
    "l1.count(12)"
   ]
  },
  {
   "cell_type": "code",
   "execution_count": 268,
   "id": "e44682ef-1044-49e6-9bb8-330be8c8a1b9",
   "metadata": {},
   "outputs": [],
   "source": [
    "# delete/pop"
   ]
  },
  {
   "cell_type": "code",
   "execution_count": 270,
   "id": "4064aeca-ac5b-4fcb-b055-6ba9362040dd",
   "metadata": {},
   "outputs": [
    {
     "data": {
      "text/plain": [
       "200"
      ]
     },
     "execution_count": 270,
     "metadata": {},
     "output_type": "execute_result"
    }
   ],
   "source": [
    "l1.pop()"
   ]
  },
  {
   "cell_type": "code",
   "execution_count": 272,
   "id": "29c1c9e6-341b-45b0-bb26-2fdfe802fd04",
   "metadata": {},
   "outputs": [
    {
     "data": {
      "text/plain": [
       "[12, 34, 45, 64, 76, 42, 11, 78]"
      ]
     },
     "execution_count": 272,
     "metadata": {},
     "output_type": "execute_result"
    }
   ],
   "source": [
    "l1"
   ]
  },
  {
   "cell_type": "code",
   "execution_count": 274,
   "id": "919f65cc-8289-4696-8e64-bd400560639e",
   "metadata": {},
   "outputs": [
    {
     "data": {
      "text/plain": [
       "42"
      ]
     },
     "execution_count": 274,
     "metadata": {},
     "output_type": "execute_result"
    }
   ],
   "source": [
    "l1.pop(-3)"
   ]
  },
  {
   "cell_type": "code",
   "execution_count": 276,
   "id": "d13e3111-7b61-4b21-94f0-dbeed840f4f2",
   "metadata": {},
   "outputs": [
    {
     "data": {
      "text/plain": [
       "[12, 34, 45, 64, 76, 11, 78]"
      ]
     },
     "execution_count": 276,
     "metadata": {},
     "output_type": "execute_result"
    }
   ],
   "source": [
    "l1"
   ]
  },
  {
   "cell_type": "code",
   "execution_count": 280,
   "id": "70853a20-af75-4ce8-a322-7d65e85717ef",
   "metadata": {},
   "outputs": [],
   "source": [
    "l1.reverse()"
   ]
  },
  {
   "cell_type": "code",
   "execution_count": 282,
   "id": "88b85ef8-d0cc-487b-aca2-e3ba2f4afdb9",
   "metadata": {},
   "outputs": [
    {
     "data": {
      "text/plain": [
       "[78, 11, 76, 64, 45, 34, 12]"
      ]
     },
     "execution_count": 282,
     "metadata": {},
     "output_type": "execute_result"
    }
   ],
   "source": [
    "l1"
   ]
  },
  {
   "cell_type": "code",
   "execution_count": 284,
   "id": "bd842bff-311e-4ec0-97b4-1a69b93cb26c",
   "metadata": {},
   "outputs": [],
   "source": [
    "l = [12, 34, 56, 12, 78, 56]"
   ]
  },
  {
   "cell_type": "code",
   "execution_count": 286,
   "id": "185fa6cc-97d5-4a0f-9d1a-343de59de879",
   "metadata": {},
   "outputs": [],
   "source": [
    "# iterate over a list, print index and the value "
   ]
  },
  {
   "cell_type": "code",
   "execution_count": 288,
   "id": "03d8e5f4-137c-47a1-a66c-67de4b598704",
   "metadata": {},
   "outputs": [
    {
     "name": "stdout",
     "output_type": "stream",
     "text": [
      "0 ---> 12\n",
      "1 ---> 34\n",
      "2 ---> 56\n",
      "0 ---> 12\n",
      "4 ---> 78\n",
      "2 ---> 56\n"
     ]
    }
   ],
   "source": [
    "for n in l:\n",
    "    print(l.index(n), '--->', n)"
   ]
  },
  {
   "cell_type": "code",
   "execution_count": 290,
   "id": "3c2905d6-1750-4e43-9da6-691e70c46772",
   "metadata": {},
   "outputs": [],
   "source": [
    "# enumerate"
   ]
  },
  {
   "cell_type": "code",
   "execution_count": 302,
   "id": "8f9e772b-ea37-41aa-b9b3-e00316e57da2",
   "metadata": {},
   "outputs": [
    {
     "name": "stdout",
     "output_type": "stream",
     "text": [
      "0 ---> 12\n",
      "1 ---> 34\n",
      "2 ---> 56\n",
      "3 ---> 12\n",
      "4 ---> 78\n",
      "5 ---> 56\n"
     ]
    }
   ],
   "source": [
    "for index, n in enumerate(l, start = 0):\n",
    "    print(index, '--->', n)"
   ]
  },
  {
   "cell_type": "code",
   "execution_count": 304,
   "id": "e9b757b4-7340-4e7f-b8ef-38596b4efaa9",
   "metadata": {},
   "outputs": [
    {
     "name": "stdout",
     "output_type": "stream",
     "text": [
      "Help on class list in module builtins:\n",
      "\n",
      "class list(object)\n",
      " |  list(iterable=(), /)\n",
      " |  \n",
      " |  Built-in mutable sequence.\n",
      " |  \n",
      " |  If no argument is given, the constructor creates a new empty list.\n",
      " |  The argument must be an iterable if specified.\n",
      " |  \n",
      " |  Methods defined here:\n",
      " |  \n",
      " |  __add__(self, value, /)\n",
      " |      Return self+value.\n",
      " |  \n",
      " |  __contains__(self, key, /)\n",
      " |      Return key in self.\n",
      " |  \n",
      " |  __delitem__(self, key, /)\n",
      " |      Delete self[key].\n",
      " |  \n",
      " |  __eq__(self, value, /)\n",
      " |      Return self==value.\n",
      " |  \n",
      " |  __ge__(self, value, /)\n",
      " |      Return self>=value.\n",
      " |  \n",
      " |  __getattribute__(self, name, /)\n",
      " |      Return getattr(self, name).\n",
      " |  \n",
      " |  __getitem__(...)\n",
      " |      x.__getitem__(y) <==> x[y]\n",
      " |  \n",
      " |  __gt__(self, value, /)\n",
      " |      Return self>value.\n",
      " |  \n",
      " |  __iadd__(self, value, /)\n",
      " |      Implement self+=value.\n",
      " |  \n",
      " |  __imul__(self, value, /)\n",
      " |      Implement self*=value.\n",
      " |  \n",
      " |  __init__(self, /, *args, **kwargs)\n",
      " |      Initialize self.  See help(type(self)) for accurate signature.\n",
      " |  \n",
      " |  __iter__(self, /)\n",
      " |      Implement iter(self).\n",
      " |  \n",
      " |  __le__(self, value, /)\n",
      " |      Return self<=value.\n",
      " |  \n",
      " |  __len__(self, /)\n",
      " |      Return len(self).\n",
      " |  \n",
      " |  __lt__(self, value, /)\n",
      " |      Return self<value.\n",
      " |  \n",
      " |  __mul__(self, value, /)\n",
      " |      Return self*value.\n",
      " |  \n",
      " |  __ne__(self, value, /)\n",
      " |      Return self!=value.\n",
      " |  \n",
      " |  __repr__(self, /)\n",
      " |      Return repr(self).\n",
      " |  \n",
      " |  __reversed__(self, /)\n",
      " |      Return a reverse iterator over the list.\n",
      " |  \n",
      " |  __rmul__(self, value, /)\n",
      " |      Return value*self.\n",
      " |  \n",
      " |  __setitem__(self, key, value, /)\n",
      " |      Set self[key] to value.\n",
      " |  \n",
      " |  __sizeof__(self, /)\n",
      " |      Return the size of the list in memory, in bytes.\n",
      " |  \n",
      " |  append(self, object, /)\n",
      " |      Append object to the end of the list.\n",
      " |  \n",
      " |  clear(self, /)\n",
      " |      Remove all items from list.\n",
      " |  \n",
      " |  copy(self, /)\n",
      " |      Return a shallow copy of the list.\n",
      " |  \n",
      " |  count(self, value, /)\n",
      " |      Return number of occurrences of value.\n",
      " |  \n",
      " |  extend(self, iterable, /)\n",
      " |      Extend list by appending elements from the iterable.\n",
      " |  \n",
      " |  index(self, value, start=0, stop=9223372036854775807, /)\n",
      " |      Return first index of value.\n",
      " |      \n",
      " |      Raises ValueError if the value is not present.\n",
      " |  \n",
      " |  insert(self, index, object, /)\n",
      " |      Insert object before index.\n",
      " |  \n",
      " |  pop(self, index=-1, /)\n",
      " |      Remove and return item at index (default last).\n",
      " |      \n",
      " |      Raises IndexError if list is empty or index is out of range.\n",
      " |  \n",
      " |  remove(self, value, /)\n",
      " |      Remove first occurrence of value.\n",
      " |      \n",
      " |      Raises ValueError if the value is not present.\n",
      " |  \n",
      " |  reverse(self, /)\n",
      " |      Reverse *IN PLACE*.\n",
      " |  \n",
      " |  sort(self, /, *, key=None, reverse=False)\n",
      " |      Sort the list in ascending order and return None.\n",
      " |      \n",
      " |      The sort is in-place (i.e. the list itself is modified) and stable (i.e. the\n",
      " |      order of two equal elements is maintained).\n",
      " |      \n",
      " |      If a key function is given, apply it once to each list item and sort them,\n",
      " |      ascending or descending, according to their function values.\n",
      " |      \n",
      " |      The reverse flag can be set to sort in descending order.\n",
      " |  \n",
      " |  ----------------------------------------------------------------------\n",
      " |  Class methods defined here:\n",
      " |  \n",
      " |  __class_getitem__(...)\n",
      " |      See PEP 585\n",
      " |  \n",
      " |  ----------------------------------------------------------------------\n",
      " |  Static methods defined here:\n",
      " |  \n",
      " |  __new__(*args, **kwargs)\n",
      " |      Create and return a new object.  See help(type) for accurate signature.\n",
      " |  \n",
      " |  ----------------------------------------------------------------------\n",
      " |  Data and other attributes defined here:\n",
      " |  \n",
      " |  __hash__ = None\n",
      "\n"
     ]
    }
   ],
   "source": [
    "help(list)"
   ]
  },
  {
   "cell_type": "code",
   "execution_count": 306,
   "id": "70f7e8c3-b08b-4d46-9cf9-4611d20813be",
   "metadata": {},
   "outputs": [
    {
     "data": {
      "text/plain": [
       "[78, 11, 76, 64, 45, 34, 12]"
      ]
     },
     "execution_count": 306,
     "metadata": {},
     "output_type": "execute_result"
    }
   ],
   "source": [
    "l1"
   ]
  },
  {
   "cell_type": "code",
   "execution_count": 308,
   "id": "92d3b359-2826-4851-be66-493fd5a910cb",
   "metadata": {},
   "outputs": [],
   "source": [
    "l1.clear()"
   ]
  },
  {
   "cell_type": "code",
   "execution_count": 310,
   "id": "6509960f-45c5-4189-bbaf-1b56cc8103e3",
   "metadata": {},
   "outputs": [
    {
     "data": {
      "text/plain": [
       "[]"
      ]
     },
     "execution_count": 310,
     "metadata": {},
     "output_type": "execute_result"
    }
   ],
   "source": [
    "l1"
   ]
  },
  {
   "cell_type": "markdown",
   "id": "9ba77707-d6d3-422a-9761-be02f2fc3697",
   "metadata": {},
   "source": [
    "# Tuple"
   ]
  },
  {
   "cell_type": "code",
   "execution_count": 315,
   "id": "29d2ac9e-f7e4-414b-b264-9aa2801a04e9",
   "metadata": {},
   "outputs": [],
   "source": [
    "t = (12, 45, 67, 45)"
   ]
  },
  {
   "cell_type": "code",
   "execution_count": 317,
   "id": "45de1c52-4683-4b55-99fb-6bcceffabd4d",
   "metadata": {},
   "outputs": [
    {
     "data": {
      "text/plain": [
       "tuple"
      ]
     },
     "execution_count": 317,
     "metadata": {},
     "output_type": "execute_result"
    }
   ],
   "source": [
    "type(t)"
   ]
  },
  {
   "cell_type": "code",
   "execution_count": 319,
   "id": "d3f3938c-d576-431a-901a-e5a0af5f3e36",
   "metadata": {},
   "outputs": [
    {
     "data": {
      "text/plain": [
       "(12, 45, 67, 45)"
      ]
     },
     "execution_count": 319,
     "metadata": {},
     "output_type": "execute_result"
    }
   ],
   "source": [
    "t"
   ]
  },
  {
   "cell_type": "code",
   "execution_count": 321,
   "id": "f5ebeaec-bd9f-4bfc-8140-e1194ffa6e2a",
   "metadata": {},
   "outputs": [],
   "source": [
    "t = (12, 34, 44.21, 'Aditya')"
   ]
  },
  {
   "cell_type": "code",
   "execution_count": 323,
   "id": "e6b559db-c433-43e2-bc0e-e440538b88fd",
   "metadata": {},
   "outputs": [
    {
     "data": {
      "text/plain": [
       "(12, 34, 44.21, 'Aditya')"
      ]
     },
     "execution_count": 323,
     "metadata": {},
     "output_type": "execute_result"
    }
   ],
   "source": [
    "t"
   ]
  },
  {
   "cell_type": "code",
   "execution_count": 325,
   "id": "253942c7-d69c-4c3c-b592-d997b405d489",
   "metadata": {},
   "outputs": [
    {
     "data": {
      "text/plain": [
       "34"
      ]
     },
     "execution_count": 325,
     "metadata": {},
     "output_type": "execute_result"
    }
   ],
   "source": [
    "t[1]"
   ]
  },
  {
   "cell_type": "code",
   "execution_count": 333,
   "id": "5056cd76-21f1-41ed-814c-5a6a5d350833",
   "metadata": {},
   "outputs": [],
   "source": [
    "t = (12, 34, 12, 21)"
   ]
  },
  {
   "cell_type": "code",
   "execution_count": 335,
   "id": "20b75ca1-fa77-4178-8225-3f57af2946ae",
   "metadata": {},
   "outputs": [
    {
     "data": {
      "text/plain": [
       "(12, 34, 12, 21)"
      ]
     },
     "execution_count": 335,
     "metadata": {},
     "output_type": "execute_result"
    }
   ],
   "source": [
    "t"
   ]
  },
  {
   "cell_type": "code",
   "execution_count": 337,
   "id": "aad775a0-89ac-4a85-89cd-eb3ed03c4e70",
   "metadata": {},
   "outputs": [
    {
     "ename": "TypeError",
     "evalue": "'tuple' object does not support item assignment",
     "output_type": "error",
     "traceback": [
      "\u001b[0;31m---------------------------------------------------------------------------\u001b[0m",
      "\u001b[0;31mTypeError\u001b[0m                                 Traceback (most recent call last)",
      "Cell \u001b[0;32mIn[337], line 1\u001b[0m\n\u001b[0;32m----> 1\u001b[0m t[\u001b[38;5;241m1\u001b[39m] \u001b[38;5;241m=\u001b[39m \u001b[38;5;241m20\u001b[39m\n",
      "\u001b[0;31mTypeError\u001b[0m: 'tuple' object does not support item assignment"
     ]
    }
   ],
   "source": [
    "t[1] = 20   # immutable"
   ]
  },
  {
   "cell_type": "code",
   "execution_count": 339,
   "id": "980dc82a-126f-4399-a2b9-0274115d7610",
   "metadata": {},
   "outputs": [],
   "source": [
    "a = list(t)"
   ]
  },
  {
   "cell_type": "code",
   "execution_count": 341,
   "id": "e0fdca51-7f6e-495b-8526-08f0d525b672",
   "metadata": {},
   "outputs": [
    {
     "data": {
      "text/plain": [
       "[12, 34, 12, 21]"
      ]
     },
     "execution_count": 341,
     "metadata": {},
     "output_type": "execute_result"
    }
   ],
   "source": [
    "a"
   ]
  },
  {
   "cell_type": "code",
   "execution_count": 343,
   "id": "2c84d109-68c3-4a45-a334-320f5bc707ca",
   "metadata": {},
   "outputs": [
    {
     "data": {
      "text/plain": [
       "[12, 100, 12, 21]"
      ]
     },
     "execution_count": 343,
     "metadata": {},
     "output_type": "execute_result"
    }
   ],
   "source": [
    "a[1] = 100\n",
    "a"
   ]
  },
  {
   "cell_type": "code",
   "execution_count": 345,
   "id": "24b73d3f-61bc-43d4-8295-8b67072b1bfc",
   "metadata": {},
   "outputs": [],
   "source": [
    "t = tuple(a)"
   ]
  },
  {
   "cell_type": "code",
   "execution_count": 347,
   "id": "273ff082-edb6-446e-9197-b2869656428d",
   "metadata": {},
   "outputs": [
    {
     "data": {
      "text/plain": [
       "(12, 100, 12, 21)"
      ]
     },
     "execution_count": 347,
     "metadata": {},
     "output_type": "execute_result"
    }
   ],
   "source": [
    "t"
   ]
  },
  {
   "cell_type": "code",
   "execution_count": 349,
   "id": "e1ca8eb0-f5b2-41e3-9d42-a889f40f6fbf",
   "metadata": {},
   "outputs": [
    {
     "ename": "TypeError",
     "evalue": "'tuple' object doesn't support item deletion",
     "output_type": "error",
     "traceback": [
      "\u001b[0;31m---------------------------------------------------------------------------\u001b[0m",
      "\u001b[0;31mTypeError\u001b[0m                                 Traceback (most recent call last)",
      "Cell \u001b[0;32mIn[349], line 1\u001b[0m\n\u001b[0;32m----> 1\u001b[0m \u001b[38;5;28;01mdel\u001b[39;00m t[\u001b[38;5;241m0\u001b[39m]\n",
      "\u001b[0;31mTypeError\u001b[0m: 'tuple' object doesn't support item deletion"
     ]
    }
   ],
   "source": [
    "del t[0]"
   ]
  },
  {
   "cell_type": "markdown",
   "id": "e2eb31a8-99aa-44ea-a512-de6307424616",
   "metadata": {},
   "source": [
    "# Set"
   ]
  },
  {
   "cell_type": "code",
   "execution_count": 352,
   "id": "7f1354f3-0a8b-4855-bddd-5bb51d6effbb",
   "metadata": {},
   "outputs": [],
   "source": [
    "s = {1, 2, 4, 5, 7}"
   ]
  },
  {
   "cell_type": "code",
   "execution_count": 354,
   "id": "ac921bcd-a8ce-4cf6-9f26-06a1af9ef824",
   "metadata": {},
   "outputs": [
    {
     "data": {
      "text/plain": [
       "set"
      ]
     },
     "execution_count": 354,
     "metadata": {},
     "output_type": "execute_result"
    }
   ],
   "source": [
    "type(s)"
   ]
  },
  {
   "cell_type": "code",
   "execution_count": 356,
   "id": "ce38831c-a110-4281-a2b1-6578282c372b",
   "metadata": {},
   "outputs": [],
   "source": [
    "s = {1, 4, 55.21, 'Aditya'}"
   ]
  },
  {
   "cell_type": "code",
   "execution_count": 358,
   "id": "aa69fcd9-2322-4c36-90ae-fc1d3cc405df",
   "metadata": {},
   "outputs": [
    {
     "data": {
      "text/plain": [
       "{1, 4, 55.21, 'Aditya'}"
      ]
     },
     "execution_count": 358,
     "metadata": {},
     "output_type": "execute_result"
    }
   ],
   "source": [
    "s"
   ]
  },
  {
   "cell_type": "code",
   "execution_count": 360,
   "id": "2f0a2bff-547b-45cf-926d-8071a6220a1f",
   "metadata": {},
   "outputs": [],
   "source": [
    "s = {12, 23, 34, 12, 12, 56}"
   ]
  },
  {
   "cell_type": "code",
   "execution_count": 362,
   "id": "ad365130-979b-4c8c-ab13-3d9a85dbdd43",
   "metadata": {},
   "outputs": [
    {
     "data": {
      "text/plain": [
       "{12, 23, 34, 56}"
      ]
     },
     "execution_count": 362,
     "metadata": {},
     "output_type": "execute_result"
    }
   ],
   "source": [
    "s # duplicates not allowed"
   ]
  },
  {
   "cell_type": "code",
   "execution_count": 364,
   "id": "f8816dad-e049-4820-ba59-b7fec281ace8",
   "metadata": {},
   "outputs": [
    {
     "data": {
      "text/plain": [
       "4"
      ]
     },
     "execution_count": 364,
     "metadata": {},
     "output_type": "execute_result"
    }
   ],
   "source": [
    "len(s)"
   ]
  },
  {
   "cell_type": "code",
   "execution_count": 366,
   "id": "92368d94-b43a-4369-8366-d1ef37f19b31",
   "metadata": {},
   "outputs": [
    {
     "ename": "TypeError",
     "evalue": "'set' object is not subscriptable",
     "output_type": "error",
     "traceback": [
      "\u001b[0;31m---------------------------------------------------------------------------\u001b[0m",
      "\u001b[0;31mTypeError\u001b[0m                                 Traceback (most recent call last)",
      "Cell \u001b[0;32mIn[366], line 1\u001b[0m\n\u001b[0;32m----> 1\u001b[0m s[\u001b[38;5;241m1\u001b[39m]\n",
      "\u001b[0;31mTypeError\u001b[0m: 'set' object is not subscriptable"
     ]
    }
   ],
   "source": [
    "s[1]   # sets are unordered"
   ]
  },
  {
   "cell_type": "code",
   "execution_count": 368,
   "id": "cd9bd581-d5ce-4722-b4d4-3c60d343b8de",
   "metadata": {},
   "outputs": [
    {
     "data": {
      "text/plain": [
       "{12, 23, 34, 56}"
      ]
     },
     "execution_count": 368,
     "metadata": {},
     "output_type": "execute_result"
    }
   ],
   "source": [
    "s"
   ]
  },
  {
   "cell_type": "code",
   "execution_count": 370,
   "id": "04376f26-8b65-40c7-a2f0-e6c95d2be1cd",
   "metadata": {},
   "outputs": [],
   "source": [
    "s.add(20)"
   ]
  },
  {
   "cell_type": "code",
   "execution_count": 372,
   "id": "e316e2c9-61c9-4ebd-8a58-60d32dd070c3",
   "metadata": {},
   "outputs": [
    {
     "data": {
      "text/plain": [
       "{12, 20, 23, 34, 56}"
      ]
     },
     "execution_count": 372,
     "metadata": {},
     "output_type": "execute_result"
    }
   ],
   "source": [
    "s"
   ]
  },
  {
   "cell_type": "code",
   "execution_count": 374,
   "id": "eb298eda-fde9-4cac-b280-1797fa61713d",
   "metadata": {},
   "outputs": [],
   "source": [
    "s.add('A')"
   ]
  },
  {
   "cell_type": "code",
   "execution_count": 376,
   "id": "94a4673f-f36f-423b-b7c7-72cedf201da7",
   "metadata": {},
   "outputs": [
    {
     "data": {
      "text/plain": [
       "{12, 20, 23, 34, 56, 'A'}"
      ]
     },
     "execution_count": 376,
     "metadata": {},
     "output_type": "execute_result"
    }
   ],
   "source": [
    "s"
   ]
  },
  {
   "cell_type": "code",
   "execution_count": 378,
   "id": "1209fd0d-9d4e-4b7a-b5a7-0a136f53c4f1",
   "metadata": {},
   "outputs": [],
   "source": [
    "s1 = frozenset(s)"
   ]
  },
  {
   "cell_type": "code",
   "execution_count": 380,
   "id": "3233dc98-4b78-4415-92cd-b29e6c99c12f",
   "metadata": {},
   "outputs": [
    {
     "ename": "AttributeError",
     "evalue": "'frozenset' object has no attribute 'add'",
     "output_type": "error",
     "traceback": [
      "\u001b[0;31m---------------------------------------------------------------------------\u001b[0m",
      "\u001b[0;31mAttributeError\u001b[0m                            Traceback (most recent call last)",
      "Cell \u001b[0;32mIn[380], line 1\u001b[0m\n\u001b[0;32m----> 1\u001b[0m s1\u001b[38;5;241m.\u001b[39madd(\u001b[38;5;241m1\u001b[39m)\n",
      "\u001b[0;31mAttributeError\u001b[0m: 'frozenset' object has no attribute 'add'"
     ]
    }
   ],
   "source": [
    "s1.add(1)"
   ]
  },
  {
   "cell_type": "code",
   "execution_count": 382,
   "id": "dea094b9-0e35-4b9d-9dcd-b597f40289f3",
   "metadata": {},
   "outputs": [
    {
     "data": {
      "text/plain": [
       "frozenset"
      ]
     },
     "execution_count": 382,
     "metadata": {},
     "output_type": "execute_result"
    }
   ],
   "source": [
    "type(s1)"
   ]
  },
  {
   "cell_type": "markdown",
   "id": "ed2d3e1b-3860-41e5-ba4e-160af5345b64",
   "metadata": {},
   "source": [
    "# Dictionary"
   ]
  },
  {
   "cell_type": "code",
   "execution_count": 405,
   "id": "8fe250c9-922d-4633-aa26-4c0c4f0b74ca",
   "metadata": {},
   "outputs": [],
   "source": [
    "d = {1: 45, 2: 35, 3: 40, 4: 47, 5: 45, 10: 'Aditya'}"
   ]
  },
  {
   "cell_type": "code",
   "execution_count": 407,
   "id": "29285d19-8d1f-494f-8656-15dd874c651c",
   "metadata": {},
   "outputs": [
    {
     "data": {
      "text/plain": [
       "{1: 45, 2: 35, 3: 40, 4: 47, 5: 45, 10: 'Aditya'}"
      ]
     },
     "execution_count": 407,
     "metadata": {},
     "output_type": "execute_result"
    }
   ],
   "source": [
    "d\n",
    "# values can be duplicate but not keys"
   ]
  },
  {
   "cell_type": "code",
   "execution_count": 411,
   "id": "5faf0cdf-4ebb-40e6-9b29-0362b214ada5",
   "metadata": {},
   "outputs": [
    {
     "data": {
      "text/plain": [
       "'Aditya'"
      ]
     },
     "execution_count": 411,
     "metadata": {},
     "output_type": "execute_result"
    }
   ],
   "source": [
    "d[10]"
   ]
  },
  {
   "cell_type": "code",
   "execution_count": 413,
   "id": "84ac7e73-aba2-4b82-90e9-bff17bbc1e67",
   "metadata": {},
   "outputs": [],
   "source": [
    "d[10] = 30"
   ]
  },
  {
   "cell_type": "code",
   "execution_count": 415,
   "id": "5551a6b6-e8b7-4c0a-bae8-2ea439218be8",
   "metadata": {},
   "outputs": [
    {
     "data": {
      "text/plain": [
       "{1: 45, 2: 35, 3: 40, 4: 47, 5: 45, 10: 30}"
      ]
     },
     "execution_count": 415,
     "metadata": {},
     "output_type": "execute_result"
    }
   ],
   "source": [
    "d"
   ]
  },
  {
   "cell_type": "code",
   "execution_count": 417,
   "id": "dbca093d-c76b-4687-8518-83216e559823",
   "metadata": {},
   "outputs": [
    {
     "data": {
      "text/plain": [
       "dict_keys([1, 2, 3, 4, 5, 10])"
      ]
     },
     "execution_count": 417,
     "metadata": {},
     "output_type": "execute_result"
    }
   ],
   "source": [
    "d.keys()"
   ]
  },
  {
   "cell_type": "code",
   "execution_count": 419,
   "id": "df319530-1234-4524-a98f-1b3236eb503d",
   "metadata": {},
   "outputs": [
    {
     "data": {
      "text/plain": [
       "dict_values([45, 35, 40, 47, 45, 30])"
      ]
     },
     "execution_count": 419,
     "metadata": {},
     "output_type": "execute_result"
    }
   ],
   "source": [
    "d.values()"
   ]
  },
  {
   "cell_type": "code",
   "execution_count": 421,
   "id": "aed8f5f4-0280-4ab6-8775-b0d325655551",
   "metadata": {},
   "outputs": [
    {
     "data": {
      "text/plain": [
       "{1: 45, 2: 35, 3: 40, 4: 47, 5: 45, 10: 30}"
      ]
     },
     "execution_count": 421,
     "metadata": {},
     "output_type": "execute_result"
    }
   ],
   "source": [
    "d"
   ]
  },
  {
   "cell_type": "code",
   "execution_count": 423,
   "id": "d1a761eb-9f46-40fe-ae5e-c8cbb42eca4f",
   "metadata": {},
   "outputs": [],
   "source": [
    "d[15] = 41"
   ]
  },
  {
   "cell_type": "code",
   "execution_count": 425,
   "id": "84e825c5-b804-479a-bd17-31b9f778ad09",
   "metadata": {},
   "outputs": [
    {
     "data": {
      "text/plain": [
       "{1: 45, 2: 35, 3: 40, 4: 47, 5: 45, 10: 30, 15: 41}"
      ]
     },
     "execution_count": 425,
     "metadata": {},
     "output_type": "execute_result"
    }
   ],
   "source": [
    "d"
   ]
  },
  {
   "cell_type": "code",
   "execution_count": 427,
   "id": "7414307b-fc61-408b-947c-4e9a28a1cf22",
   "metadata": {},
   "outputs": [],
   "source": [
    "d['info'] = [41, 'Aditya']"
   ]
  },
  {
   "cell_type": "code",
   "execution_count": 429,
   "id": "c87d8faa-b7d8-4dde-b7f3-15c3824b1991",
   "metadata": {},
   "outputs": [
    {
     "data": {
      "text/plain": [
       "{1: 45, 2: 35, 3: 40, 4: 47, 5: 45, 10: 30, 15: 41, 'info': [41, 'Aditya']}"
      ]
     },
     "execution_count": 429,
     "metadata": {},
     "output_type": "execute_result"
    }
   ],
   "source": [
    "d"
   ]
  },
  {
   "cell_type": "code",
   "execution_count": 439,
   "id": "6a073b11-335c-4ed2-acb3-62119f7f8ad6",
   "metadata": {
    "scrolled": true
   },
   "outputs": [
    {
     "name": "stdout",
     "output_type": "stream",
     "text": [
      "1 ---> 45\n",
      "2 ---> 35\n",
      "3 ---> 40\n",
      "4 ---> 47\n",
      "5 ---> 45\n",
      "10 ---> 30\n",
      "15 ---> 41\n",
      "info ---> [41, 'Aditya']\n"
     ]
    }
   ],
   "source": [
    "for i in d:\n",
    "    print(i, '--->', d[i])"
   ]
  },
  {
   "cell_type": "code",
   "execution_count": null,
   "id": "613fb4c2-745d-43f1-bf0d-164332dad909",
   "metadata": {},
   "outputs": [],
   "source": []
  }
 ],
 "metadata": {
  "kernelspec": {
   "display_name": "Python 3 (ipykernel)",
   "language": "python",
   "name": "python3"
  },
  "language_info": {
   "codemirror_mode": {
    "name": "ipython",
    "version": 3
   },
   "file_extension": ".py",
   "mimetype": "text/x-python",
   "name": "python",
   "nbconvert_exporter": "python",
   "pygments_lexer": "ipython3",
   "version": "3.11.9"
  }
 },
 "nbformat": 4,
 "nbformat_minor": 5
}
