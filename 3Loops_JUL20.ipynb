{
 "cells": [
  {
   "cell_type": "markdown",
   "id": "48c798b1-6700-4b3d-89fa-05bd41647d37",
   "metadata": {},
   "source": [
    "# While loop"
   ]
  },
  {
   "cell_type": "code",
   "execution_count": 2,
   "id": "2c8fde3e-8b09-45fd-812b-73400161c0bf",
   "metadata": {},
   "outputs": [
    {
     "name": "stdout",
     "output_type": "stream",
     "text": [
      "Aditya\n",
      "Aditya\n",
      "Aditya\n",
      "Aditya\n",
      "Aditya\n",
      "Aditya\n",
      "Aditya\n",
      "Aditya\n",
      "Aditya\n",
      "Aditya\n"
     ]
    }
   ],
   "source": [
    "# print a name 10 times\n",
    "\n",
    "count = 0\n",
    "\n",
    "while count < 10:\n",
    "    print('Aditya')\n",
    "    count += 1  # => count = count + 1"
   ]
  },
  {
   "cell_type": "code",
   "execution_count": 4,
   "id": "483198a4-ad86-4630-ad1e-682277bee111",
   "metadata": {},
   "outputs": [
    {
     "name": "stdout",
     "output_type": "stream",
     "text": [
      "Aditya\n",
      "Aditya\n",
      "Aditya\n",
      "Aditya\n",
      "Aditya\n",
      "Aditya\n",
      "Aditya\n",
      "Aditya\n",
      "Aditya\n",
      "Aditya\n",
      "Goodbye!!!\n"
     ]
    }
   ],
   "source": [
    "count = 0\n",
    "\n",
    "while count < 10:\n",
    "    print('Aditya')\n",
    "    count += 1  # => count = count + 1\n",
    "\n",
    "print('Goodbye!!!')"
   ]
  },
  {
   "cell_type": "code",
   "execution_count": 6,
   "id": "ef6f03c4-86a2-456b-93da-c88f0a26badf",
   "metadata": {},
   "outputs": [
    {
     "name": "stdout",
     "output_type": "stream",
     "text": [
      "1\n",
      "2\n",
      "3\n",
      "4\n",
      "5\n",
      "6\n",
      "7\n",
      "8\n",
      "9\n",
      "10\n",
      "11\n",
      "12\n",
      "13\n",
      "14\n",
      "15\n",
      "16\n",
      "17\n",
      "18\n",
      "19\n",
      "20\n",
      "Goodbye!!!!\n"
     ]
    }
   ],
   "source": [
    "# print the numbers from 1 to 20\n",
    "\n",
    "count = 1\n",
    "\n",
    "while count <= 20:\n",
    "    print(count)\n",
    "    count += 1\n",
    "\n",
    "print('Goodbye!!!!')"
   ]
  },
  {
   "cell_type": "code",
   "execution_count": 8,
   "id": "c1533654-2b0d-4400-bb52-164d6582da29",
   "metadata": {},
   "outputs": [
    {
     "data": {
      "text/plain": [
       "21"
      ]
     },
     "execution_count": 8,
     "metadata": {},
     "output_type": "execute_result"
    }
   ],
   "source": [
    "count"
   ]
  },
  {
   "cell_type": "code",
   "execution_count": 16,
   "id": "ad906722-2b4b-4109-8a68-95167adb73df",
   "metadata": {},
   "outputs": [
    {
     "name": "stdout",
     "output_type": "stream",
     "text": [
      "addition is: 55\n"
     ]
    }
   ],
   "source": [
    "# find the addition of numbers from 1 to 10\n",
    "\n",
    "count = 1\n",
    "add = 0\n",
    "\n",
    "while count <= 10:\n",
    "    add = add + count\n",
    "    count += 1\n",
    "\n",
    "print('addition is:', add)"
   ]
  },
  {
   "cell_type": "code",
   "execution_count": 12,
   "id": "90fb01a0-a8fe-48e9-8b00-202a71cc2447",
   "metadata": {},
   "outputs": [
    {
     "data": {
      "text/plain": [
       "11"
      ]
     },
     "execution_count": 12,
     "metadata": {},
     "output_type": "execute_result"
    }
   ],
   "source": [
    "count"
   ]
  },
  {
   "cell_type": "code",
   "execution_count": 18,
   "id": "e386428e-0fa6-4319-9365-795794c9f98a",
   "metadata": {},
   "outputs": [
    {
     "name": "stdout",
     "output_type": "stream",
     "text": [
      "addition is: 100\n"
     ]
    }
   ],
   "source": [
    "# find the addition of odd numbers from 1 to 20\n",
    "\n",
    "count = 1\n",
    "add = 0\n",
    "\n",
    "while count <= 20:\n",
    "    add = add + count\n",
    "    count += 2\n",
    "\n",
    "print('addition is:', add)"
   ]
  },
  {
   "cell_type": "code",
   "execution_count": 26,
   "id": "352ed552-c074-4d26-a07d-94150c83b695",
   "metadata": {},
   "outputs": [
    {
     "name": "stdin",
     "output_type": "stream",
     "text": [
      "Enter the number  5\n"
     ]
    },
    {
     "name": "stdout",
     "output_type": "stream",
     "text": [
      "Factorial: 120\n"
     ]
    }
   ],
   "source": [
    "# factorial\n",
    "# 5! => 5*4*3*2*1 =>120\n",
    "\n",
    "num = int(input('Enter the number '))\n",
    "fact = 1\n",
    "while num > 1:\n",
    "    fact = fact * num\n",
    "    num -= 1\n",
    "\n",
    "print('Factorial:', fact)"
   ]
  },
  {
   "cell_type": "code",
   "execution_count": 30,
   "id": "a1690e37-e481-49c8-b14c-90cb7ea5f604",
   "metadata": {},
   "outputs": [
    {
     "data": {
      "text/plain": [
       "3"
      ]
     },
     "execution_count": 30,
     "metadata": {},
     "output_type": "execute_result"
    }
   ],
   "source": [
    "# addition of digits in a number\n",
    "\n",
    "# 1253 => 1 + 2 + 5 + 3 => 11\n",
    "\n",
    "1253 % 10"
   ]
  },
  {
   "cell_type": "code",
   "execution_count": 32,
   "id": "8ce163a8-278b-4d29-a3b0-fc7191c80d44",
   "metadata": {},
   "outputs": [
    {
     "data": {
      "text/plain": [
       "125"
      ]
     },
     "execution_count": 32,
     "metadata": {},
     "output_type": "execute_result"
    }
   ],
   "source": [
    "1253 // 10"
   ]
  },
  {
   "cell_type": "code",
   "execution_count": 34,
   "id": "8bbce5ee-6a0c-4a44-8ed6-cb6af1c12d1b",
   "metadata": {},
   "outputs": [
    {
     "data": {
      "text/plain": [
       "5"
      ]
     },
     "execution_count": 34,
     "metadata": {},
     "output_type": "execute_result"
    }
   ],
   "source": [
    "125 % 10"
   ]
  },
  {
   "cell_type": "code",
   "execution_count": 42,
   "id": "0b80f254-ebf3-4d46-902a-bf417fff3ba9",
   "metadata": {},
   "outputs": [
    {
     "name": "stdout",
     "output_type": "stream",
     "text": [
      "Addition of digits is: 15\n"
     ]
    }
   ],
   "source": [
    "num = 12345\n",
    "add = 0\n",
    "\n",
    "while num > 0:\n",
    "    rem = num % 10\n",
    "    num = num // 10\n",
    "    add = add + rem\n",
    "\n",
    "print('Addition of digits is:', add)"
   ]
  },
  {
   "cell_type": "code",
   "execution_count": 1,
   "id": "0b0943d2-5421-43b1-8dc1-384279eca0ad",
   "metadata": {},
   "outputs": [
    {
     "name": "stdout",
     "output_type": "stream",
     "text": [
      "1 :ODD\n",
      "2 :EVEN\n",
      "3 :ODD\n",
      "4 :EVEN\n",
      "5 :ODD\n",
      "6 :EVEN\n",
      "7 :ODD\n",
      "8 :EVEN\n",
      "9 :ODD\n",
      "10 :EVEN\n"
     ]
    }
   ],
   "source": [
    "# print 1 to 10 numbers => also state even or odd\n",
    "\n",
    "count = 1\n",
    "\n",
    "while count <= 10:\n",
    "    if count % 2 == 0:\n",
    "        print(count, ':EVEN')\n",
    "    else:\n",
    "        print(count, ':ODD')\n",
    "    count += 1"
   ]
  },
  {
   "cell_type": "markdown",
   "id": "f0396a97-5c52-4894-8e0c-780e7f8b0a63",
   "metadata": {},
   "source": [
    "# For Loop"
   ]
  },
  {
   "cell_type": "code",
   "execution_count": 4,
   "id": "b189bd53-b735-4977-a025-afc937cf7c41",
   "metadata": {},
   "outputs": [
    {
     "name": "stdout",
     "output_type": "stream",
     "text": [
      "12\n",
      "14\n",
      "67\n",
      "23\n"
     ]
    }
   ],
   "source": [
    "for n in 12, 14, 67, 23:\n",
    "    print(n)"
   ]
  },
  {
   "cell_type": "code",
   "execution_count": 6,
   "id": "9c63d51d-f854-47da-98b2-b5b93922ca8b",
   "metadata": {},
   "outputs": [
    {
     "name": "stdout",
     "output_type": "stream",
     "text": [
      "6.0\n",
      "7.0\n",
      "33.5\n",
      "11.5\n"
     ]
    }
   ],
   "source": [
    "for n in 12, 14, 67, 23:\n",
    "    print(n/2)"
   ]
  },
  {
   "cell_type": "code",
   "execution_count": 12,
   "id": "0a1a98e0-ab4f-4891-94f3-c86100588400",
   "metadata": {},
   "outputs": [
    {
     "name": "stdout",
     "output_type": "stream",
     "text": [
      "12 14 67 23 55.67 Adi True "
     ]
    }
   ],
   "source": [
    "for n in 12, 14, 67, 23, 55.67, 'Adi', True:\n",
    "    print(n, end = ' ')"
   ]
  },
  {
   "cell_type": "code",
   "execution_count": 14,
   "id": "35e32efb-6b72-4452-8cb3-885fa5ab9931",
   "metadata": {},
   "outputs": [],
   "source": [
    "# range function"
   ]
  },
  {
   "cell_type": "code",
   "execution_count": 18,
   "id": "c4609bf3-93e8-4b35-939c-13674e2f7fa3",
   "metadata": {},
   "outputs": [
    {
     "data": {
      "text/plain": [
       "[0, 1, 2, 3, 4, 5, 6, 7, 8, 9]"
      ]
     },
     "execution_count": 18,
     "metadata": {},
     "output_type": "execute_result"
    }
   ],
   "source": [
    "list(range(10))"
   ]
  },
  {
   "cell_type": "code",
   "execution_count": 20,
   "id": "906988da-bd52-44c8-817d-ac229bd8b2ba",
   "metadata": {},
   "outputs": [
    {
     "data": {
      "text/plain": [
       "[1, 2, 3, 4, 5, 6, 7, 8, 9]"
      ]
     },
     "execution_count": 20,
     "metadata": {},
     "output_type": "execute_result"
    }
   ],
   "source": [
    "list(range(1, 10))"
   ]
  },
  {
   "cell_type": "code",
   "execution_count": 24,
   "id": "586dee30-e37e-4347-8266-5b3c83635711",
   "metadata": {},
   "outputs": [
    {
     "data": {
      "text/plain": [
       "[1, 3, 5, 7, 9]"
      ]
     },
     "execution_count": 24,
     "metadata": {},
     "output_type": "execute_result"
    }
   ],
   "source": [
    "list(range(1, 10, 2))\n",
    "# start, end-1, step"
   ]
  },
  {
   "cell_type": "code",
   "execution_count": 26,
   "id": "3cc2a7f8-fad1-4a22-9cb0-e32def267cc9",
   "metadata": {},
   "outputs": [
    {
     "data": {
      "text/plain": [
       "[20, 18, 16, 14, 12]"
      ]
     },
     "execution_count": 26,
     "metadata": {},
     "output_type": "execute_result"
    }
   ],
   "source": [
    "list(range(20, 10, -2))"
   ]
  },
  {
   "cell_type": "code",
   "execution_count": 32,
   "id": "8a6871b5-b3c6-41ef-9bdb-fa773f4aa1dc",
   "metadata": {},
   "outputs": [
    {
     "name": "stdout",
     "output_type": "stream",
     "text": [
      "0 1 2 3 4 5 6 7 8 9 10 "
     ]
    }
   ],
   "source": [
    "# print the numbers from 0 to 10\n",
    "\n",
    "for n in range(11):\n",
    "    print(n, end = ' ')"
   ]
  },
  {
   "cell_type": "code",
   "execution_count": 34,
   "id": "897cd3aa-09ff-464c-827d-489e7654e472",
   "metadata": {},
   "outputs": [
    {
     "name": "stdout",
     "output_type": "stream",
     "text": [
      "Aditya\n",
      "Aditya\n",
      "Aditya\n",
      "Aditya\n",
      "Aditya\n",
      "Aditya\n",
      "Aditya\n",
      "Aditya\n",
      "Aditya\n",
      "Aditya\n"
     ]
    }
   ],
   "source": [
    "# print ur name 10 times\n",
    "for n in range(10):\n",
    "    print('Aditya')"
   ]
  },
  {
   "cell_type": "code",
   "execution_count": 36,
   "id": "351788bb-a1ab-4e59-8892-f65a01d142f6",
   "metadata": {},
   "outputs": [
    {
     "name": "stdout",
     "output_type": "stream",
     "text": [
      "55\n"
     ]
    }
   ],
   "source": [
    "# find the addition of numbers from 1 to 10\n",
    "\n",
    "add = 0\n",
    "for n in range(1, 11):\n",
    "    add = add + n\n",
    "\n",
    "print(add)"
   ]
  },
  {
   "cell_type": "code",
   "execution_count": 44,
   "id": "cecc5559-bb46-4479-896d-a6eacb71f449",
   "metadata": {},
   "outputs": [
    {
     "name": "stdout",
     "output_type": "stream",
     "text": [
      "100\n"
     ]
    }
   ],
   "source": [
    "# find the addition of odd numbers from 1 to 20\n",
    "add = 0\n",
    "for n in range(1, 21, 2):\n",
    "    add = add + n\n",
    "\n",
    "print(add)"
   ]
  },
  {
   "cell_type": "code",
   "execution_count": 42,
   "id": "df30d108-1e69-4a2f-850e-67f5a718c7a7",
   "metadata": {},
   "outputs": [
    {
     "name": "stdout",
     "output_type": "stream",
     "text": [
      "AAA\n",
      "ddd\n",
      "iii\n",
      "ttt\n",
      "yyy\n",
      "aaa\n"
     ]
    }
   ],
   "source": [
    "name = 'Aditya'\n",
    "\n",
    "for n in name:\n",
    "    print(n * 3)"
   ]
  },
  {
   "cell_type": "code",
   "execution_count": 46,
   "id": "01ca8724-2438-4eb7-a599-7666f185c93d",
   "metadata": {},
   "outputs": [
    {
     "name": "stdout",
     "output_type": "stream",
     "text": [
      "1\n",
      "24\n",
      "17\n",
      "9\n"
     ]
    }
   ],
   "source": [
    "num = [1, 24, 17, 9]\n",
    "\n",
    "for n in num:\n",
    "    print(n)"
   ]
  },
  {
   "cell_type": "code",
   "execution_count": 48,
   "id": "aed23dea-6088-4fcd-a97a-ea7c11a2d907",
   "metadata": {},
   "outputs": [],
   "source": [
    "# else"
   ]
  },
  {
   "cell_type": "code",
   "execution_count": 50,
   "id": "ad64e067-b2f9-4373-98e4-3b1c8b14f74e",
   "metadata": {},
   "outputs": [
    {
     "name": "stdout",
     "output_type": "stream",
     "text": [
      "1\n",
      "24\n",
      "17\n",
      "9\n",
      "LOOP ENDED\n"
     ]
    }
   ],
   "source": [
    "num = [1, 24, 17, 9]\n",
    "\n",
    "for n in num:\n",
    "    print(n)\n",
    "else:\n",
    "    print('LOOP ENDED')"
   ]
  },
  {
   "cell_type": "code",
   "execution_count": 52,
   "id": "889a0443-f251-401e-9503-a9e2d9ad6ade",
   "metadata": {},
   "outputs": [],
   "source": [
    "# using for loop find factorial of a number"
   ]
  },
  {
   "cell_type": "code",
   "execution_count": 54,
   "id": "b4dba2fd-ab50-4c4e-8072-a4d58ea30d3d",
   "metadata": {},
   "outputs": [
    {
     "name": "stdin",
     "output_type": "stream",
     "text": [
      "Enter  5\n"
     ]
    },
    {
     "name": "stdout",
     "output_type": "stream",
     "text": [
      "factorial is: 120\n"
     ]
    }
   ],
   "source": [
    "num = int(input('Enter '))\n",
    "fact = 1\n",
    "for n in range(1, num + 1):\n",
    "    fact = fact * n\n",
    "\n",
    "print('factorial is:', fact)"
   ]
  },
  {
   "cell_type": "markdown",
   "id": "3e685c29-679f-480f-a79c-422a9339d97c",
   "metadata": {},
   "source": [
    "### break"
   ]
  },
  {
   "cell_type": "code",
   "execution_count": 61,
   "id": "c70768ad-c579-49cd-8656-3d91aef269f9",
   "metadata": {},
   "outputs": [
    {
     "name": "stdout",
     "output_type": "stream",
     "text": [
      "0\n",
      "1\n",
      "2\n",
      "3\n",
      "4\n",
      "5\n"
     ]
    }
   ],
   "source": [
    "for n in range(10):\n",
    "    print(n)\n",
    "    if n == 5:\n",
    "        break"
   ]
  },
  {
   "cell_type": "code",
   "execution_count": 63,
   "id": "7c5e3a03-8c36-46ae-b941-226b9e2b1d56",
   "metadata": {},
   "outputs": [
    {
     "name": "stdout",
     "output_type": "stream",
     "text": [
      "0\n",
      "1\n",
      "2\n",
      "3\n",
      "4\n"
     ]
    }
   ],
   "source": [
    "count = 0\n",
    "while count < 10:\n",
    "    print(count)\n",
    "    count += 1\n",
    "    if count == 5:\n",
    "        break"
   ]
  },
  {
   "cell_type": "code",
   "execution_count": 73,
   "id": "621382fd-5b59-43cd-a671-de108742d5d0",
   "metadata": {},
   "outputs": [
    {
     "name": "stdout",
     "output_type": "stream",
     "text": [
      "0\n",
      "1\n",
      "2\n",
      "3\n",
      "4\n",
      "6\n",
      "7\n",
      "8\n",
      "9\n"
     ]
    }
   ],
   "source": [
    "#### Continue\n",
    "\n",
    "for n in range(10):\n",
    "    if n == 5:\n",
    "        continue\n",
    "    print(n)"
   ]
  },
  {
   "cell_type": "code",
   "execution_count": 1,
   "id": "8b3d2685-c71c-41a5-a052-164f94bc6c2d",
   "metadata": {},
   "outputs": [
    {
     "name": "stdout",
     "output_type": "stream",
     "text": [
      "1\n",
      "2\n",
      "3\n",
      "4\n",
      "6\n",
      "7\n",
      "8\n",
      "9\n",
      "10\n"
     ]
    }
   ],
   "source": [
    "count = 0\n",
    "while count < 10:\n",
    "    count += 1\n",
    "    if count == 5:\n",
    "        continue\n",
    "    print(count)"
   ]
  },
  {
   "cell_type": "code",
   "execution_count": 75,
   "id": "b1777f37-ccfe-4ece-9bb7-4ecfff08f060",
   "metadata": {},
   "outputs": [],
   "source": [
    "### pass"
   ]
  },
  {
   "cell_type": "code",
   "execution_count": 7,
   "id": "c8f847bd-b8cc-4a6a-b433-ba7db79e7dfd",
   "metadata": {},
   "outputs": [
    {
     "name": "stdout",
     "output_type": "stream",
     "text": [
      "ok\n"
     ]
    }
   ],
   "source": [
    "n = 5\n",
    "if n > 1:\n",
    "    pass\n",
    "\n",
    "print('ok')"
   ]
  },
  {
   "cell_type": "code",
   "execution_count": 15,
   "id": "1eba8c75-fc66-4fce-8c38-d3ce815ea272",
   "metadata": {},
   "outputs": [
    {
     "name": "stdin",
     "output_type": "stream",
     "text": [
      "Enter the number of rows 5\n"
     ]
    },
    {
     "name": "stdout",
     "output_type": "stream",
     "text": [
      "* \n",
      "* * \n",
      "* * * \n",
      "* * * * \n",
      "* * * * * \n"
     ]
    }
   ],
   "source": [
    "r = int(input('Enter the number of rows'))\n",
    "\n",
    "for i in range(1, r + 1):\n",
    "    for j in range(i):\n",
    "        print('*', end = ' ')\n",
    "    print()"
   ]
  },
  {
   "cell_type": "code",
   "execution_count": null,
   "id": "8cefbe49-7732-450d-97f4-5553d3533414",
   "metadata": {},
   "outputs": [],
   "source": []
  }
 ],
 "metadata": {
  "kernelspec": {
   "display_name": "Python 3 (ipykernel)",
   "language": "python",
   "name": "python3"
  },
  "language_info": {
   "codemirror_mode": {
    "name": "ipython",
    "version": 3
   },
   "file_extension": ".py",
   "mimetype": "text/x-python",
   "name": "python",
   "nbconvert_exporter": "python",
   "pygments_lexer": "ipython3",
   "version": "3.11.9"
  }
 },
 "nbformat": 4,
 "nbformat_minor": 5
}
