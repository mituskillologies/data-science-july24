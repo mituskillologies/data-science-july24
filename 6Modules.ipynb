{
 "cells": [
  {
   "cell_type": "markdown",
   "id": "66ad7459-7175-4045-9a9b-8d9a0603b3a5",
   "metadata": {},
   "source": [
    "##### Import statement"
   ]
  },
  {
   "cell_type": "code",
   "execution_count": 2,
   "id": "b07c56ab-fcd8-4d09-81d3-7a2d0caf7dc5",
   "metadata": {},
   "outputs": [],
   "source": [
    "import math"
   ]
  },
  {
   "cell_type": "code",
   "execution_count": 3,
   "id": "e4f55e4d-1704-49fd-94de-3b32a20f659f",
   "metadata": {},
   "outputs": [
    {
     "data": {
      "text/plain": [
       "5.830951894845301"
      ]
     },
     "execution_count": 3,
     "metadata": {},
     "output_type": "execute_result"
    }
   ],
   "source": [
    "math.sqrt(34)"
   ]
  },
  {
   "cell_type": "code",
   "execution_count": 4,
   "id": "e90ebf3c-d944-4f06-85fa-445c068a5d46",
   "metadata": {},
   "outputs": [
    {
     "data": {
      "text/plain": [
       "0.8939966636005579"
      ]
     },
     "execution_count": 4,
     "metadata": {},
     "output_type": "execute_result"
    }
   ],
   "source": [
    "math.sin(90)"
   ]
  },
  {
   "cell_type": "code",
   "execution_count": 5,
   "id": "8fc2f7c7-b4af-471c-aac1-c4dd774d2fd0",
   "metadata": {},
   "outputs": [
    {
     "data": {
      "text/plain": [
       "2.4849066497880004"
      ]
     },
     "execution_count": 5,
     "metadata": {},
     "output_type": "execute_result"
    }
   ],
   "source": [
    "math.log(12)"
   ]
  },
  {
   "cell_type": "code",
   "execution_count": 6,
   "id": "9a346260-62f7-4192-88c7-319e5965f114",
   "metadata": {},
   "outputs": [
    {
     "data": {
      "text/plain": [
       "120"
      ]
     },
     "execution_count": 6,
     "metadata": {},
     "output_type": "execute_result"
    }
   ],
   "source": [
    "math.factorial(5)"
   ]
  },
  {
   "cell_type": "code",
   "execution_count": 7,
   "id": "883efcc5-aa36-411f-b0c2-ffb115ba1cef",
   "metadata": {},
   "outputs": [
    {
     "data": {
      "text/plain": [
       "3.141592653589793"
      ]
     },
     "execution_count": 7,
     "metadata": {},
     "output_type": "execute_result"
    }
   ],
   "source": [
    "math.pi"
   ]
  },
  {
   "cell_type": "code",
   "execution_count": 8,
   "id": "6d2022ee-5380-4821-8a70-7609444efaaf",
   "metadata": {},
   "outputs": [
    {
     "data": {
      "text/plain": [
       "2.718281828459045"
      ]
     },
     "execution_count": 8,
     "metadata": {},
     "output_type": "execute_result"
    }
   ],
   "source": [
    "math.e"
   ]
  },
  {
   "cell_type": "code",
   "execution_count": 9,
   "id": "a4f5c070-9602-47bd-8da0-7d3551ff4eff",
   "metadata": {},
   "outputs": [],
   "source": [
    "import time"
   ]
  },
  {
   "cell_type": "code",
   "execution_count": 10,
   "id": "b41a1239-c8b2-4e37-8c4a-fbaeed300de9",
   "metadata": {},
   "outputs": [
    {
     "data": {
      "text/plain": [
       "'Sat Jul 27 16:08:29 2024'"
      ]
     },
     "execution_count": 10,
     "metadata": {},
     "output_type": "execute_result"
    }
   ],
   "source": [
    "time.asctime()"
   ]
  },
  {
   "cell_type": "code",
   "execution_count": 11,
   "id": "dbb83ddb-b7d3-40ac-bc4d-12479d20e7a0",
   "metadata": {},
   "outputs": [
    {
     "name": "stdout",
     "output_type": "stream",
     "text": [
      "Hello World\n"
     ]
    }
   ],
   "source": [
    "time.sleep(5)\n",
    "print('Hello World')"
   ]
  },
  {
   "cell_type": "markdown",
   "id": "6de097b4-e5ee-41a9-bd94-469fc05d1c43",
   "metadata": {},
   "source": [
    "##### import as"
   ]
  },
  {
   "cell_type": "code",
   "execution_count": 13,
   "id": "121206ee-4f38-477d-bc29-b9421cdd673e",
   "metadata": {},
   "outputs": [],
   "source": [
    "import math as m"
   ]
  },
  {
   "cell_type": "code",
   "execution_count": 14,
   "id": "230cb550-6362-40ad-809b-68f875ebc64e",
   "metadata": {},
   "outputs": [
    {
     "data": {
      "text/plain": [
       "7.483314773547883"
      ]
     },
     "execution_count": 14,
     "metadata": {},
     "output_type": "execute_result"
    }
   ],
   "source": [
    "m.sqrt(56)"
   ]
  },
  {
   "cell_type": "code",
   "execution_count": 15,
   "id": "450553ae-b142-466d-8b7a-72fd3ce4d805",
   "metadata": {},
   "outputs": [
    {
     "data": {
      "text/plain": [
       "3.141592653589793"
      ]
     },
     "execution_count": 15,
     "metadata": {},
     "output_type": "execute_result"
    }
   ],
   "source": [
    "m.pi"
   ]
  },
  {
   "cell_type": "code",
   "execution_count": 16,
   "id": "e06c2823-d993-4a35-ba6f-e3f43a1b2066",
   "metadata": {},
   "outputs": [
    {
     "data": {
      "text/plain": [
       "1024.0"
      ]
     },
     "execution_count": 16,
     "metadata": {},
     "output_type": "execute_result"
    }
   ],
   "source": [
    "m.pow(4,5)"
   ]
  },
  {
   "cell_type": "markdown",
   "id": "b5c1918b-21fa-4db6-aed0-30f492a36986",
   "metadata": {},
   "source": [
    "##### Selective import"
   ]
  },
  {
   "cell_type": "code",
   "execution_count": 18,
   "id": "1da2bb1a-4f77-40f8-88c8-b46aaab14771",
   "metadata": {},
   "outputs": [],
   "source": [
    "from math import sin, sqrt, pi"
   ]
  },
  {
   "cell_type": "code",
   "execution_count": 19,
   "id": "d3582df1-1125-4e29-adc3-8ddffad6393b",
   "metadata": {},
   "outputs": [
    {
     "data": {
      "text/plain": [
       "4.795831523312719"
      ]
     },
     "execution_count": 19,
     "metadata": {},
     "output_type": "execute_result"
    }
   ],
   "source": [
    "sqrt(23)"
   ]
  },
  {
   "cell_type": "code",
   "execution_count": 20,
   "id": "b00da70b-332f-4fea-98b6-fce655c43776",
   "metadata": {},
   "outputs": [
    {
     "data": {
      "text/plain": [
       "-0.6636338842129675"
      ]
     },
     "execution_count": 20,
     "metadata": {},
     "output_type": "execute_result"
    }
   ],
   "source": [
    "sin(29)"
   ]
  },
  {
   "cell_type": "code",
   "execution_count": 21,
   "id": "3d26147c-3dbe-4ebf-94b7-a7b844756168",
   "metadata": {},
   "outputs": [
    {
     "data": {
      "text/plain": [
       "3.141592653589793"
      ]
     },
     "execution_count": 21,
     "metadata": {},
     "output_type": "execute_result"
    }
   ],
   "source": [
    "pi"
   ]
  },
  {
   "cell_type": "code",
   "execution_count": 22,
   "id": "4688b6c9-1efb-466c-91a1-2401cc127d2a",
   "metadata": {},
   "outputs": [
    {
     "ename": "NameError",
     "evalue": "name 'log' is not defined",
     "output_type": "error",
     "traceback": [
      "\u001b[0;31m---------------------------------------------------------------------------\u001b[0m",
      "\u001b[0;31mNameError\u001b[0m                                 Traceback (most recent call last)",
      "Cell \u001b[0;32mIn[22], line 1\u001b[0m\n\u001b[0;32m----> 1\u001b[0m \u001b[43mlog\u001b[49m(\u001b[38;5;241m12\u001b[39m)\n",
      "\u001b[0;31mNameError\u001b[0m: name 'log' is not defined"
     ]
    }
   ],
   "source": [
    "log(12)"
   ]
  },
  {
   "cell_type": "code",
   "execution_count": 23,
   "id": "de94c8cb-1daa-4515-95b9-980830965064",
   "metadata": {},
   "outputs": [],
   "source": [
    "from math import *"
   ]
  },
  {
   "cell_type": "code",
   "execution_count": 24,
   "id": "63c2415e-43d9-442c-a9b6-80008ff341d3",
   "metadata": {},
   "outputs": [
    {
     "data": {
      "text/plain": [
       "2.718281828459045"
      ]
     },
     "execution_count": 24,
     "metadata": {},
     "output_type": "execute_result"
    }
   ],
   "source": [
    "e"
   ]
  },
  {
   "cell_type": "code",
   "execution_count": 25,
   "id": "804d93c7-0141-45c1-b171-020576b89286",
   "metadata": {},
   "outputs": [
    {
     "data": {
      "text/plain": [
       "2.4849066497880004"
      ]
     },
     "execution_count": 25,
     "metadata": {},
     "output_type": "execute_result"
    }
   ],
   "source": [
    "log(12)"
   ]
  },
  {
   "cell_type": "code",
   "execution_count": null,
   "id": "3a03fc72-1c19-4bfa-b70c-14ace77acee9",
   "metadata": {},
   "outputs": [],
   "source": []
  }
 ],
 "metadata": {
  "kernelspec": {
   "display_name": "Python 3 (ipykernel)",
   "language": "python",
   "name": "python3"
  },
  "language_info": {
   "codemirror_mode": {
    "name": "ipython",
    "version": 3
   },
   "file_extension": ".py",
   "mimetype": "text/x-python",
   "name": "python",
   "nbconvert_exporter": "python",
   "pygments_lexer": "ipython3",
   "version": "3.10.12"
  }
 },
 "nbformat": 4,
 "nbformat_minor": 5
}
