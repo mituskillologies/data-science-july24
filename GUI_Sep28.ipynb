{
 "cells": [
  {
   "cell_type": "code",
   "execution_count": 2,
   "id": "e6a5806d-a924-45d4-a8b4-d0344912acca",
   "metadata": {},
   "outputs": [],
   "source": [
    "from tkinter import *"
   ]
  },
  {
   "cell_type": "code",
   "execution_count": 18,
   "id": "57edc359-ca8b-4426-ac83-44762af1e23b",
   "metadata": {},
   "outputs": [],
   "source": [
    "import numpy as np\n",
    "import joblib\n",
    "import warnings\n",
    "warnings.filterwarnings('ignore')\n",
    "import pandas as pd\n",
    "import tkinter.messagebox"
   ]
  },
  {
   "cell_type": "code",
   "execution_count": 26,
   "id": "437b5403-6db1-45b4-9127-797be4792bbd",
   "metadata": {},
   "outputs": [],
   "source": [
    "top = Tk()\n",
    "top.title('Grape Class Prediction')\n",
    "top.geometry('1500x1200')\n",
    "\n",
    "# deserialize the model\n",
    "classfier = joblib.load('Dec_Tree.model')\n",
    "scaler = joblib.load('Scaler.model')\n",
    "\n",
    "a = DoubleVar()\n",
    "b = DoubleVar()\n",
    "c = DoubleVar()\n",
    "d = DoubleVar()\n",
    "e = DoubleVar()\n",
    "\n",
    "# function for prediction\n",
    "def check():\n",
    "    new = pd.DataFrame({\n",
    "        \"COLOR_INTENSITY\": [a.get()],\n",
    "        \"FLAVANOIDS\": [b.get()],\n",
    "        \"PROLINE\": [c.get()],\n",
    "        \"TEMPERATURE\": [d.get()],\n",
    "        \"FER_P2O5_PER\": [e.get()]\n",
    "    })\n",
    "\n",
    "    y_pred = classfier.predict(scaler.transform(new))\n",
    "\n",
    "    if y_pred == 'High':\n",
    "        tkinter.messagebox.showinfo('Result', \"HIGH\")\n",
    "    elif y_pred == 'Medium':\n",
    "        tkinter.messagebox.showinfo('Result', \"MEDIUM\")\n",
    "    else:\n",
    "        tkinter.messagebox.showinfo('Result', \"LOW\")\n",
    "        \n",
    "\n",
    "l1 = Label(top, text = \"COLOR_INTENSITY\").place(x = 20, y = 100)\n",
    "l2 = Label(top, text = \"FLAVANOIDS\").place(x = 20, y = 150)\n",
    "l3 = Label(top, text = \"PROLINE\").place(x = 20, y = 200)\n",
    "l4 = Label(top, text = \"TEMPERATURE\").place(x = 20, y = 250)\n",
    "l5 = Label(top, text = \"FER_P2O5_PER\").place(x = 20, y = 300)\n",
    "\n",
    "e1 = Entry(top, textvariable = a).place(x = 280, y = 100)\n",
    "e2 = Entry(top, textvariable = b).place(x = 280, y = 150)\n",
    "e3 = Entry(top, textvariable = c).place(x = 280, y = 200)\n",
    "e4 = Entry(top, textvariable = d).place(x = 280, y = 250)\n",
    "e5 = Entry(top, textvariable = e).place(x = 280, y = 300)\n",
    "\n",
    "b1 = Button(top, text = \"Click Me\", command = check).place(x = 250, y = 400)\n",
    "\n",
    "top.mainloop()"
   ]
  },
  {
   "cell_type": "code",
   "execution_count": null,
   "id": "b7add2e6-0c96-4875-b635-2f63ecf75a54",
   "metadata": {},
   "outputs": [],
   "source": []
  }
 ],
 "metadata": {
  "kernelspec": {
   "display_name": "Python 3 (ipykernel)",
   "language": "python",
   "name": "python3"
  },
  "language_info": {
   "codemirror_mode": {
    "name": "ipython",
    "version": 3
   },
   "file_extension": ".py",
   "mimetype": "text/x-python",
   "name": "python",
   "nbconvert_exporter": "python",
   "pygments_lexer": "ipython3",
   "version": "3.11.9"
  }
 },
 "nbformat": 4,
 "nbformat_minor": 5
}
