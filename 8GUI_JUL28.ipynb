{
 "cells": [
  {
   "cell_type": "code",
   "execution_count": 2,
   "id": "9ece39a9-d7f6-4268-80fe-22611771333f",
   "metadata": {},
   "outputs": [],
   "source": [
    "import tkinter as tk"
   ]
  },
  {
   "cell_type": "code",
   "execution_count": 18,
   "id": "6ff40f86-1d84-4e23-8caf-7a2462aca623",
   "metadata": {},
   "outputs": [],
   "source": [
    "top = tk.Tk()\n",
    "\n",
    "\n",
    "top.mainloop()"
   ]
  },
  {
   "cell_type": "code",
   "execution_count": 20,
   "id": "02a3a9b6-1508-481a-b962-da9f850574a0",
   "metadata": {},
   "outputs": [],
   "source": [
    "top = tk.Tk()\n",
    "\n",
    "top.title('MY APP')\n",
    "top.geometry('600x400')\n",
    "\n",
    "top.mainloop()"
   ]
  },
  {
   "cell_type": "code",
   "execution_count": 36,
   "id": "eaa6ab29-f776-4d1a-afbd-83c567bc4445",
   "metadata": {},
   "outputs": [],
   "source": [
    "top = tk.Tk()\n",
    "\n",
    "top.title('MY APP')\n",
    "top.geometry('600x400')\n",
    "\n",
    "b1 = tk.Button(top, text = 'CLICK ME!!!!', background = 'yellow').place(x = 200, y = 200)\n",
    "e1 = tk.Entry(top).place(x = 100, y = 100)\n",
    "l1 = tk.Label(top, text = 'LOG IN').place(x = 350, y = 100)\n",
    "\n",
    "top.mainloop()"
   ]
  },
  {
   "cell_type": "code",
   "execution_count": 40,
   "id": "f3df5e90-2bb6-4cd0-a1f5-402a9d2e6e22",
   "metadata": {},
   "outputs": [],
   "source": [
    "top = tk.Tk()\n",
    "\n",
    "top.title('MY APP')\n",
    "top.geometry('600x400')\n",
    "\n",
    "data = tk.IntVar()    # integer variable\n",
    "\n",
    "def show():\n",
    "    num = data.get()\n",
    "    sq = num * num\n",
    "    result = tk.Label(top, text = 'square is: %i' %sq).place(x = 50, y = 200)\n",
    "\n",
    "l1 = tk.Label(top, text = 'Input: ').place(x = 20, y = 100)\n",
    "e1 = tk.Entry(top, textvariable = data).place(x = 100, y = 100)\n",
    "b1 = tk.Button(top, text = 'SQUARE', background = 'yellow',\n",
    "              command = show).place(x = 50, y = 150)\n",
    "\n",
    "top.mainloop()"
   ]
  },
  {
   "cell_type": "code",
   "execution_count": 42,
   "id": "9b918f6b-80b4-4ef9-b8da-92902b3d003e",
   "metadata": {},
   "outputs": [],
   "source": [
    "# read 2 numbers and find addition/sub/division/multiplication"
   ]
  },
  {
   "cell_type": "code",
   "execution_count": 48,
   "id": "e38a2e68-6cad-4661-88f5-ec5667030270",
   "metadata": {},
   "outputs": [],
   "source": [
    "from tkinter import messagebox"
   ]
  },
  {
   "cell_type": "code",
   "execution_count": null,
   "id": "83a008e9-0233-46ce-9cc9-980accdd01f0",
   "metadata": {},
   "outputs": [],
   "source": [
    "top = tk.Tk()\n",
    "\n",
    "top.title('MY APP')\n",
    "top.geometry('600x400')\n",
    "\n",
    "l = tk.Label(top , text = 'Welcome', font = ('Ariel Bold', 20)).pack(side = 'top')\n",
    "\n",
    "a = tk.IntVar()\n",
    "b = tk.IntVar()\n",
    "\n",
    "def show():\n",
    "    add = a.get() + b.get()\n",
    "    # result = tk.Label(top, text = 'Addition is: %i' %add).place(x = 50, y = 200)\n",
    "    messagebox.showinfo(\"Addition\", 'Addition is: %i' %add)\n",
    "\n",
    "l1 = tk.Label(top, text = 'Input: ').place(x = 20, y = 100)\n",
    "e1 = tk.Entry(top, textvariable = a).place(x = 100, y = 100)\n",
    "e2 = tk.Entry(top, textvariable = b).place(x = 250, y = 100)\n",
    "b1 = tk.Button(top, text = 'Addition', background = 'yellow',\n",
    "              command = show).place(x = 50, y = 150)\n",
    "\n",
    "top.mainloop()"
   ]
  },
  {
   "cell_type": "code",
   "execution_count": null,
   "id": "58a09b26-079a-42f4-8c55-1ed4e99944f7",
   "metadata": {},
   "outputs": [],
   "source": []
  }
 ],
 "metadata": {
  "kernelspec": {
   "display_name": "Python 3 (ipykernel)",
   "language": "python",
   "name": "python3"
  },
  "language_info": {
   "codemirror_mode": {
    "name": "ipython",
    "version": 3
   },
   "file_extension": ".py",
   "mimetype": "text/x-python",
   "name": "python",
   "nbconvert_exporter": "python",
   "pygments_lexer": "ipython3",
   "version": "3.11.9"
  }
 },
 "nbformat": 4,
 "nbformat_minor": 5
}
