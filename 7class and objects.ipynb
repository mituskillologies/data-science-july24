{
 "cells": [
  {
   "cell_type": "code",
   "execution_count": 2,
   "id": "37b039b0-101a-42b5-9b1d-b6aa63d29f53",
   "metadata": {},
   "outputs": [],
   "source": [
    "class Person:\n",
    "    def __init__(self, n, a):   # constructor of class\n",
    "        self.name = n           # instance variable\n",
    "        self.age = a\n",
    "    def tell(self):             # method / function\n",
    "        print('My name', self.name,'and age is:',self.age)\n",
    "    def walk(self):\n",
    "        print(self.name,'is walking!')"
   ]
  },
  {
   "cell_type": "code",
   "execution_count": 4,
   "id": "460b8c11-d7fd-4a25-a4e7-fb8f11562c70",
   "metadata": {},
   "outputs": [],
   "source": [
    "# create the object\n",
    "p1 = Person('anil', 23)"
   ]
  },
  {
   "cell_type": "code",
   "execution_count": 5,
   "id": "64aa56bb-c37a-4a28-8cf5-fcd531cd1f1f",
   "metadata": {},
   "outputs": [
    {
     "data": {
      "text/plain": [
       "'anil'"
      ]
     },
     "execution_count": 5,
     "metadata": {},
     "output_type": "execute_result"
    }
   ],
   "source": [
    "p1.name"
   ]
  },
  {
   "cell_type": "code",
   "execution_count": 6,
   "id": "2eb069b9-1f7e-4e07-b6db-fc92acfd770c",
   "metadata": {},
   "outputs": [
    {
     "data": {
      "text/plain": [
       "23"
      ]
     },
     "execution_count": 6,
     "metadata": {},
     "output_type": "execute_result"
    }
   ],
   "source": [
    "p1.age"
   ]
  },
  {
   "cell_type": "code",
   "execution_count": 7,
   "id": "66326f23-7ceb-4a76-93fd-49da2332dfa6",
   "metadata": {},
   "outputs": [
    {
     "data": {
      "text/plain": [
       "<__main__.Person at 0x70cf881f4a90>"
      ]
     },
     "execution_count": 7,
     "metadata": {},
     "output_type": "execute_result"
    }
   ],
   "source": [
    "p1"
   ]
  },
  {
   "cell_type": "code",
   "execution_count": 8,
   "id": "2867ddfa-3ebb-4360-a1c0-f723a6492678",
   "metadata": {},
   "outputs": [
    {
     "name": "stdout",
     "output_type": "stream",
     "text": [
      "My name anil and age is: 23\n"
     ]
    }
   ],
   "source": [
    "p1.tell()"
   ]
  },
  {
   "cell_type": "code",
   "execution_count": 9,
   "id": "8ac3e364-0446-4e51-9608-955779d56d78",
   "metadata": {},
   "outputs": [
    {
     "name": "stdout",
     "output_type": "stream",
     "text": [
      "anil is walking!\n"
     ]
    }
   ],
   "source": [
    "p1.walk()"
   ]
  },
  {
   "cell_type": "code",
   "execution_count": 10,
   "id": "dab30bf1-b0a9-4228-87a6-17ba12304c7b",
   "metadata": {},
   "outputs": [],
   "source": [
    "p2 = Person('Priya', 25)"
   ]
  },
  {
   "cell_type": "code",
   "execution_count": 11,
   "id": "3bf8a633-ff20-4ca3-a33a-ea009bd8a8d8",
   "metadata": {},
   "outputs": [
    {
     "name": "stdout",
     "output_type": "stream",
     "text": [
      "My name Priya and age is: 25\n"
     ]
    }
   ],
   "source": [
    "p2.tell()"
   ]
  },
  {
   "cell_type": "code",
   "execution_count": 12,
   "id": "ffe18155-35fb-446a-88b3-d63c954d0a79",
   "metadata": {},
   "outputs": [
    {
     "name": "stdout",
     "output_type": "stream",
     "text": [
      "Priya is walking!\n"
     ]
    }
   ],
   "source": [
    "p2.walk()"
   ]
  },
  {
   "cell_type": "code",
   "execution_count": null,
   "id": "c8f3dc3c-1046-4636-8797-d30bbb29a19c",
   "metadata": {},
   "outputs": [],
   "source": []
  }
 ],
 "metadata": {
  "kernelspec": {
   "display_name": "Python 3 (ipykernel)",
   "language": "python",
   "name": "python3"
  },
  "language_info": {
   "codemirror_mode": {
    "name": "ipython",
    "version": 3
   },
   "file_extension": ".py",
   "mimetype": "text/x-python",
   "name": "python",
   "nbconvert_exporter": "python",
   "pygments_lexer": "ipython3",
   "version": "3.10.12"
  }
 },
 "nbformat": 4,
 "nbformat_minor": 5
}
